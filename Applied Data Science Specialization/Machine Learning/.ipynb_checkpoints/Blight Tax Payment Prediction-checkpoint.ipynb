{
 "cells": [
  {
   "cell_type": "markdown",
   "metadata": {},
   "source": [
    "---\n",
    "\n",
    "_You are currently looking at **version 1.0** of this notebook. To download notebooks and datafiles, as well as get help on Jupyter notebooks in the Coursera platform, visit the [Jupyter Notebook FAQ](https://www.coursera.org/learn/python-machine-learning/resources/bANLa) course resource._\n",
    "\n",
    "---"
   ]
  },
  {
   "cell_type": "markdown",
   "metadata": {},
   "source": [
    "## Assignment 4 - Understanding and Predicting Property Maintenance Fines\n",
    "\n",
    "This assignment is based on a data challenge from the Michigan Data Science Team ([MDST](http://midas.umich.edu/mdst/)). \n",
    "\n",
    "The Michigan Data Science Team ([MDST](http://midas.umich.edu/mdst/)) and the Michigan Student Symposium for Interdisciplinary Statistical Sciences ([MSSISS](https://sites.lsa.umich.edu/mssiss/)) have partnered with the City of Detroit to help solve one of the most pressing problems facing Detroit - blight. [Blight violations](http://www.detroitmi.gov/How-Do-I/Report/Blight-Complaint-FAQs) are issued by the city to individuals who allow their properties to remain in a deteriorated condition. Every year, the city of Detroit issues millions of dollars in fines to residents and every year, many of these fines remain unpaid. Enforcing unpaid blight fines is a costly and tedious process, so the city wants to know: how can we increase blight ticket compliance?\n",
    "\n",
    "The first step in answering this question is understanding when and why a resident might fail to comply with a blight ticket. This is where predictive modeling comes in. For this assignment, your task is to predict whether a given blight ticket will be paid on time.\n",
    "\n",
    "All data for this assignment has been provided to us through the [Detroit Open Data Portal](https://data.detroitmi.gov/). **Only the data already included in your Coursera directory can be used for training the model for this assignment.** Nonetheless, we encourage you to look into data from other Detroit datasets to help inform feature creation and model selection. We recommend taking a look at the following related datasets:\n",
    "\n",
    "* [Building Permits](https://data.detroitmi.gov/Property-Parcels/Building-Permits/xw2a-a7tf)\n",
    "* [Trades Permits](https://data.detroitmi.gov/Property-Parcels/Trades-Permits/635b-dsgv)\n",
    "* [Improve Detroit: Submitted Issues](https://data.detroitmi.gov/Government/Improve-Detroit-Submitted-Issues/fwz3-w3yn)\n",
    "* [DPD: Citizen Complaints](https://data.detroitmi.gov/Public-Safety/DPD-Citizen-Complaints-2016/kahe-efs3)\n",
    "* [Parcel Map](https://data.detroitmi.gov/Property-Parcels/Parcel-Map/fxkw-udwf)\n",
    "\n",
    "___\n",
    "\n",
    "We provide you with two data files for use in training and validating your models: train.csv and test.csv. Each row in these two files corresponds to a single blight ticket, and includes information about when, why, and to whom each ticket was issued. The target variable is compliance, which is True if the ticket was paid early, on time, or within one month of the hearing data, False if the ticket was paid after the hearing date or not at all, and Null if the violator was found not responsible. Compliance, as well as a handful of other variables that will not be available at test-time, are only included in train.csv.\n",
    "\n",
    "Note: All tickets where the violators were found not responsible are not considered during evaluation. They are included in the training set as an additional source of data for visualization, and to enable unsupervised and semi-supervised approaches. However, they are not included in the test set.\n",
    "\n",
    "<br>\n",
    "\n",
    "**File descriptions** (Use only this data for training your model!)\n",
    "\n",
    "    train.csv - the training set (all tickets issued 2004-2011)\n",
    "    test.csv - the test set (all tickets issued 2012-2016)\n",
    "    addresses.csv & latlons.csv - mapping from ticket id to addresses, and from addresses to lat/lon coordinates. \n",
    "     Note: misspelled addresses may be incorrectly geolocated.\n",
    "\n",
    "<br>\n",
    "\n",
    "**Data fields**\n",
    "\n",
    "train.csv & test.csv\n",
    "\n",
    "    ticket_id - unique identifier for tickets\n",
    "    agency_name - Agency that issued the ticket\n",
    "    inspector_name - Name of inspector that issued the ticket\n",
    "    violator_name - Name of the person/organization that the ticket was issued to\n",
    "    violation_street_number, violation_street_name, violation_zip_code - Address where the violation occurred\n",
    "    mailing_address_str_number, mailing_address_str_name, city, state, zip_code, non_us_str_code, country - Mailing address of the violator\n",
    "    ticket_issued_date - Date and time the ticket was issued\n",
    "    hearing_date - Date and time the violator's hearing was scheduled\n",
    "    violation_code, violation_description - Type of violation\n",
    "    disposition - Judgment and judgement type\n",
    "    fine_amount - Violation fine amount, excluding fees\n",
    "    admin_fee - $20 fee assigned to responsible judgments\n",
    "state_fee - $10 fee assigned to responsible judgments\n",
    "    late_fee - 10% fee assigned to responsible judgments\n",
    "    discount_amount - discount applied, if any\n",
    "    clean_up_cost - DPW clean-up or graffiti removal cost\n",
    "    judgment_amount - Sum of all fines and fees\n",
    "    grafitti_status - Flag for graffiti violations\n",
    "    \n",
    "train.csv only\n",
    "\n",
    "    payment_amount - Amount paid, if any\n",
    "    payment_date - Date payment was made, if it was received\n",
    "    payment_status - Current payment status as of Feb 1 2017\n",
    "    balance_due - Fines and fees still owed\n",
    "    collection_status - Flag for payments in collections\n",
    "    compliance [target variable for prediction] \n",
    "     Null = Not responsible\n",
    "     0 = Responsible, non-compliant\n",
    "     1 = Responsible, compliant\n",
    "    compliance_detail - More information on why each ticket was marked compliant or non-compliant\n",
    "\n",
    "\n",
    "___\n",
    "\n",
    "## Evaluation\n",
    "\n",
    "Your predictions will be given as the probability that the corresponding blight ticket will be paid on time.\n",
    "\n",
    "The evaluation metric for this assignment is the Area Under the ROC Curve (AUC). \n",
    "\n",
    "Your grade will be based on the AUC score computed for your classifier. A model which with an AUROC of 0.7 passes this assignment, over 0.75 will recieve full points.\n",
    "___\n",
    "\n",
    "For this assignment, create a function that trains a model to predict blight ticket compliance in Detroit using `train.csv`. Using this model, return a series of length 61001 with the data being the probability that each corresponding ticket from `test.csv` will be paid, and the index being the ticket_id.\n",
    "\n",
    "Example:\n",
    "\n",
    "    ticket_id\n",
    "       284932    0.531842\n",
    "       285362    0.401958\n",
    "       285361    0.105928\n",
    "       285338    0.018572\n",
    "                 ...\n",
    "       376499    0.208567\n",
    "       376500    0.818759\n",
    "       369851    0.018528\n",
    "       Name: compliance, dtype: float32"
   ]
  },
  {
   "cell_type": "code",
   "execution_count": 1,
   "metadata": {},
   "outputs": [],
   "source": [
    "import pandas as pd\n",
    "import numpy as np\n",
    "import matplotlib.pyplot as plt\n",
    "import seaborn as sns\n",
    "from sklearn.model_selection import train_test_split\n",
    "from sklearn.metrics import roc_curve, auc\n",
    "from sklearn.ensemble import ExtraTreesClassifier\n",
    "from sklearn.ensemble import RandomForestClassifier \n",
    "from sklearn.preprocessing import LabelEncoder\n",
    "%matplotlib inline\n"
   ]
  },
  {
   "cell_type": "code",
   "execution_count": 2,
   "metadata": {},
   "outputs": [],
   "source": [
    "train = pd.read_csv('train.csv', encoding = \"ISO-8859-1\", index_col = 'ticket_id'\n",
    "                    , low_memory=False)"
   ]
  },
  {
   "cell_type": "code",
   "execution_count": 3,
   "metadata": {},
   "outputs": [],
   "source": [
    "train = train.dropna(subset=['compliance'])"
   ]
  },
  {
   "cell_type": "code",
   "execution_count": 4,
   "metadata": {},
   "outputs": [],
   "source": [
    "test = pd.read_csv('test.csv', encoding = \"ISO-8859-1\", index_col = 'ticket_id'\n",
    "                   , low_memory=False)"
   ]
  },
  {
   "cell_type": "code",
   "execution_count": 5,
   "metadata": {},
   "outputs": [
    {
     "data": {
      "text/plain": [
       "pandas.core.indexes.base.Index"
      ]
     },
     "execution_count": 5,
     "metadata": {},
     "output_type": "execute_result"
    }
   ],
   "source": [
    "type(train.columns)"
   ]
  },
  {
   "cell_type": "code",
   "execution_count": 6,
   "metadata": {},
   "outputs": [],
   "source": [
    "column_difference = train.columns.difference(test.columns)"
   ]
  },
  {
   "cell_type": "code",
   "execution_count": 7,
   "metadata": {},
   "outputs": [],
   "source": [
    "drop_columns = column_difference.drop('compliance')"
   ]
  },
  {
   "cell_type": "code",
   "execution_count": 8,
   "metadata": {},
   "outputs": [],
   "source": [
    "train = train.drop(drop_columns, axis = 1)"
   ]
  },
  {
   "cell_type": "markdown",
   "metadata": {},
   "source": [
    "## Preprocessing"
   ]
  },
  {
   "cell_type": "code",
   "execution_count": 9,
   "metadata": {},
   "outputs": [],
   "source": [
    "le = LabelEncoder()"
   ]
  },
  {
   "cell_type": "markdown",
   "metadata": {},
   "source": [
    "['agency_name', 'inspector_name', 'violator_name',\n",
    "       'violation_street_number', 'violation_street_name',\n",
    "       'violation_zip_code', 'mailing_address_str_number',\n",
    "       'mailing_address_str_name', 'city', 'state', 'zip_code',\n",
    "       'non_us_str_code', 'country', 'ticket_issued_date', 'hearing_date',\n",
    "       'violation_code', 'violation_description', 'disposition', 'fine_amount',\n",
    "       'admin_fee', 'state_fee', 'late_fee', 'discount_amount',\n",
    "       'clean_up_cost', 'judgment_amount', 'grafitti_status',"
   ]
  },
  {
   "cell_type": "code",
   "execution_count": 10,
   "metadata": {},
   "outputs": [],
   "source": [
    "train['violation_code_en'] = le.fit_transform(train['violation_code'])"
   ]
  },
  {
   "cell_type": "code",
   "execution_count": 12,
   "metadata": {},
   "outputs": [],
   "source": [
    "features = ['country'\n",
    "       'violation_code', 'violation_description', 'disposition', 'fine_amount',\n",
    "       'admin_fee', 'state_fee', 'late_fee', 'discount_amount',\n",
    "       'clean_up_cost', 'judgment_amount', 'grafitti_status']"
   ]
  },
  {
   "cell_type": "code",
   "execution_count": 13,
   "metadata": {},
   "outputs": [
    {
     "data": {
      "text/plain": [
       "array(['Failure of owner to obtain certificate of compliance',\n",
       "       'Failed To Secure Permit For Lawful Use Of Building',\n",
       "       'Failed To Secure Permit For Lawful Use Of Land',\n",
       "       'Noncompliance/Grant Condition/BZA/BSE',\n",
       "       'Removal of snow and ice from sidewalks',\n",
       "       'Dumping,  or deposting solid waste of five (5) cubic feet or more from any motor vehicle upon any public or private property or street',\n",
       "       'Failure to remove animal waste on public/private property',\n",
       "       'Failure of owner to post, maintain, or present certificate of compliance dwelling, building, or structure',\n",
       "       'Improper storage and separation of solid waste for collection day',\n",
       "       'Bulk solid waste deposited more than 24 hours before designated time',\n",
       "       'Insufficient parking',\n",
       "       'Other Non-Compliance with Land Use Requirements (B1,B2,B3,B4,B5,B6)',\n",
       "       'Failure of owner to keep property, its sidewalks, or adjoining public property free from solid waste',\n",
       "       'Failure of owner to comply with an emergency or imminent danger order of one- or two-family dwelling or building',\n",
       "       'Improper placement of Courville container between collections',\n",
       "       'Failure of owner or occupant to maintain rodent and pest free condition one- or two- family dwelling or building',\n",
       "       'Dumping, storing or depositing solid waste on any publicly-owned property, or private property or water, without a permit',\n",
       "       'Violation of time limit for approved containers to remain at curbside - early or late',\n",
       "       'Inoperable motor vehicle(s) one- or two-family dwelling or commercial building',\n",
       "       'Failure of owner to keep property, its sidewalks, or adjoining public property free from medical or hazardous waste',\n",
       "       'Excessive weeds or plant growth one- or two-family dwelling or commercial Building',\n",
       "       'Rodent harborage one-or two-family dwelling or commercial building',\n",
       "       'Failing to secure City or Private solid waste collection containers and services',\n",
       "       'Failure to maintain exterior of one- or two-family dwelling, building, premises or commercial structure in good repair, structurally sound or in a sanitary condition to prevent threat to the public health, safety or welfare',\n",
       "       'Failure to maintain balcony, deck, porch, or stairway one- or two-family dwelling or commercial building',\n",
       "       'Banner/ Sinage/ Antenna (B1,B2,SD1,SD2)',\n",
       "       'Improper placement of courville containers at residential structures containing one, two, three or four household units',\n",
       "       'Unlawful accumulation of solid waste one- or two-family dwelling or commercial building',\n",
       "       'Failure of owner of one- or two-family dwelling to comply with an emergency or imminent danger order concerining an unsafe or unsanitar',\n",
       "       'Defective exterior wall(s) one- or two-family dwelling or commercial building',\n",
       "       'Defective roof or drainage one- or two-family dwelling or commercial building',\n",
       "       'Failure to maintain accessory structure(s) one-or two- family dwelling or commercial building',\n",
       "       'Failure to maintain exterior surface of one- or two-family dwelling or commercial building',\n",
       "       'Defective chimney(s) or tower(s) one- or two-family dwelling or commercial building',\n",
       "       'Failure to maintain skirting for exterior opening(s) one- or two-family dwelling or commercial building',\n",
       "       'Failure to maintain vacant one- or two- family dwelling or building',\n",
       "       'Defective window(s) or window hardware one- or two-family dwelling',\n",
       "       'Defective  driveway(s), parking space(s), walkway(s), areas of traverse  dwellings or buildings',\n",
       "       'Failure to maintain or properly install electrical equipment, wiring, or appliance in a safe or approved manner one- or two- family dwelling or building',\n",
       "       'Defective or unapproved handrail(s) or guard(s) one- or two-family dwelling or commercial  building',\n",
       "       'Defective foundation wall(s) one- or two-family dwelling or commercial building',\n",
       "       'Failure to maintain operable or unobstructed opening protective(s), fire or smoke barrier door(s) one- or two- family dwelling or building',\n",
       "       'Failure to maintain overhang extension(s) one- or two-family dwelling or commercial building',\n",
       "       'Failure to obtain certificate of registration for rental property',\n",
       "       'Hazardous electrical system one- or two- family dwelling  or building',\n",
       "       'Improper placement of Courville containers for collection-commercial or resident',\n",
       "       'Failure to maintain interior surface(s) in good, clean, and sanitary conditon one- or two- family dwelling or commercial building',\n",
       "       'Large movable or stationary containers; residential structures and commercial',\n",
       "       'Failure of owner to remove graffiti or maintain or restore property free of graffiti.',\n",
       "       'Improperly stored or separated Solid Waste',\n",
       "       'Unlawful storage of items outside one- or two-family dwelling or commercial building',\n",
       "       'Burning solid waste  in open fires',\n",
       "       'Occupancy without certificate of compliance one-or two-family dwelling, building, premise or structure',\n",
       "       'Other Non-Compliance with Land Use Requirements (R1,R2,R3,R4,R5,R6)',\n",
       "       'Defective or unapproved exhaust vent(s) or other means one- or tow-family dwelling or commercial building',\n",
       "       'Defective gate(s) one- or two-family dwelling or commercial building',\n",
       "       'Failure of owner of any other structure, except buildings with five (5) or more stories, to comply with an emergency or imminent danger order concerning an unsafe or unsanitary structure or unlawful occupancy',\n",
       "       'Open Storage/ Residential/ Inoperable Vehicles (R2)',\n",
       "       'Open Storage/ Residential/ Commercial Vehicles (R1)',\n",
       "       'Failure to remove or cause to be removed any solid waste within 48 hours or placement; declare to be a public nuisance',\n",
       "       'Failure to remove, or cause to be removed, and properly dispose of medical or hazardous waste before vacating private property or water',\n",
       "       'Courville container left at curb early or improperly stored',\n",
       "       'Occupy rental property without a certificate of compliance one- or two- family dwelling or commercial building',\n",
       "       'Open Storage/ Residential/ Inoperable Vehicles (R1)',\n",
       "       'Banner/ Sinage/ Antenna (B3,B4,B5,B6,M1,M2,M3,M4,M5,W1)',\n",
       "       'Defective door(s) one- or two-family dwelling or commercial building',\n",
       "       'Failure of owner of a building with five (5) or more stories to comply with an emergency or imminent danger order concerning an unsafe ',\n",
       "       'Failure to maintain stairs or other walking surface(s) in sound condition and in good repair one- or two-family dwelling or commercial ',\n",
       "       'Defective grading or drainage one- or two-family dwelling or commercial building',\n",
       "       'Defective door, skylight, or window frame(s) one- or two-family dwelling or commercial building',\n",
       "       'Depositing domestic or commercial solid waste in containers owned, assigned to, or contracted for, by other persons or premises',\n",
       "       'Failure to remove solid waste within 72 hours',\n",
       "       'Failure to maintain decorative feature(s) one- or two-family dwelling or commercial building',\n",
       "       'Owner or occupant failure to exterminate public or shared area or exterior property two family dwelling or building',\n",
       "       'Defective interior door(s) building one- or two-family dwelling or commercial building',\n",
       "       'Open Storage/ Residential/ Inoperable Vehicles (R3)',\n",
       "       'Open Storage/ Non-residential/ Inoperable Vehicles (P1)',\n",
       "       'Open Storage/ Non-residential/ Inoperable Vehicles (SD4)',\n",
       "       'Open Storage/ Non-residential/ Inoperable Vehicles (SD3)',\n",
       "       'Defective or unapproved heating facilities in a  one- or two- family dwelling or building',\n",
       "       'Defective contaminated or unapproved water supply system for plumbing facilities or fixture(s) one- or two- family dwelling  or buildin',\n",
       "       'Defective hot or cold water of unapproved connection to water supply system for plumbing facilities or fixture(s)',\n",
       "       'Failure of owner to provide or maintain required mechanical or electrical equipment and facilities one- or two- family dwellings or bui',\n",
       "       'Failure to provide required electrical system for occupied one- or two- family dwelling  or building',\n",
       "       'Failure of owner to provide or maintain required facilities, fixtures and systems for plumbing or drainage one- or two- family dwelling or building',\n",
       "       'Defective glazing one- or two-family dwelling or commercial building',\n",
       "       'Improper location of containers for collection',\n",
       "       'Unlawful painting of motor vehicles one- or two-family dwelling or commercial building',\n",
       "       'Defective plumbing system drainage one-or-two family dwelling or building',\n",
       "       'Failure to remove, or cause to be removed, and properly dispose of solid waste before vacting priovate property or water',\n",
       "       'Improper storage of containers between collection days',\n",
       "       'False information on application for certificate of registration one- or two-family dwelling or commercial building',\n",
       "       'Failure to maintain interior of one- or two-family dwelling or commercial building in good repair, or in a clean and sanitary condition',\n",
       "       'Unlawful accumulation of solid waste in interior of one- or two- family dwelling or building',\n",
       "       'Defective or no building identification one- or two-family dwelling or commercial building',\n",
       "       'Defective or unapproved water heating facilities one- or two- family dwelling  or building',\n",
       "       'Interior insect or rodent infestation one- or two family dwelling or building',\n",
       "       'Use of kitchen or other non-habitable space(s) for sleeping purposes one- or two family dwelling or building',\n",
       "       'Improperly dispositing of less than 1 cubic foot or solid waste(simple littering)',\n",
       "       'Failure to maintain or provide required smoke alarm(s) one-or two- family dwelling or builiding',\n",
       "       'Open Storage/ Non-residential/ Inoperable Vehicles (M1)',\n",
       "       'Insufficient electrical receptacles one- or two- family dwelling or building',\n",
       "       'Defective installation or maintenance of plumbing fixture(s) one- or two- family dwelling or building',\n",
       "       'Failure to provide sufficient lighting for common hall(s), stairway(s) , or means of egress for building',\n",
       "       'Defective or unapproved removal and  ventilation for fuel burning appliance or equipment one- or two- family dwelling or building',\n",
       "       'Open Storage/ Residential (R1,R2,R3,R4,R5,R6)',\n",
       "       'Failure to furnish required heat for rental unit one- or two- family dwelling or building',\n",
       "       'Defective or unapproved plumbing connection to public sewer system one- or two- family dwelling or building',\n",
       "       'Locked doors preventing doors preventing safe egress building one- or two-family dwelling or commercial building',\n",
       "       'Defective or unapproved handrail(s) or guard(s) one- or two-family dwelling or commercial building',\n",
       "       'Defective plumbing stack, vent, waste or sewer line for sanitary drainage system one- or two- family dwelling or building',\n",
       "       'Unlawful change of use of building without a permit',\n",
       "       'Disposing of undrained, unwrapped waste: Disposal not in approved container; Burning of waste',\n",
       "       'Unlawful change of use of land without a Permit',\n",
       "       'Defacement or removal of closing or condemnation notice one- or two-family dwellling or building',\n",
       "       'Occupancy of building, premises or structure subject to a notice of closure or to operate equipment subject to a posted notice',\n",
       "       'Unlawful entry of building, premises or structure declared unsafe for occupancy',\n",
       "       'Dumping or depositing solid waste from a motor vehicle',\n",
       "       'Failure to maintain mechanical appliances and equipment in a safe working condition, properly installed and capable of performing the intended function for dwelling or building',\n",
       "       'Failure to maintain window(s) for emergency escape and rescue in sleeping area one- or two- family dwelling or building',\n",
       "       'Failure to provide approved or required mail receptacle(s)  one- or two-family dwelling or commercial building',\n",
       "       'Other Non-Compliance with Land Use Requirements (TM)',\n",
       "       'Early placement of Courville Containers at residential structures with five or more household units',\n",
       "       'Improperly depositing solid waste public receptacles',\n",
       "       'Failure to provide safe, continuous and unobstructed means of egress one- or two family dwelling or commercial buillding',\n",
       "       \"Failure to post Tenant's Statement of Rights or House Rules and Tenant Responsibilities one- or two-family dwelling or commercial build\",\n",
       "       'Failure to provide openable window for habitable space(s)  one- or two- family dwelling or building',\n",
       "       'Occupancy of rental property without certificate of registration',\n",
       "       'Improper use of or deposit of solid waste in or around portable containers',\n",
       "       'Failure to designate or post name responsible person(s) or employee for emergency purposes one- or two-family dwelling or commercial bu',\n",
       "       'Failure of single-tenant in nonresidential structure to exterminate building',\n",
       "       'Land Use without Permit - Unlawful storage of vehicle upon vacant land',\n",
       "       'Occupancy of building, premises or structure not maintained in habitable, sanitary, and safe condition',\n",
       "       'Storage,dismantling or repair of motor vehicle or equipment on residential property without a permit',\n",
       "       'Sell or transfer of one- or two-family dwelling, building, premise or structure without copy of pending notice, order, violation notice or citation',\n",
       "       'Failure to maintain swimming pool(s) one- or two-family dwelling or commercial building',\n",
       "       'Unlawful disposal, separation, or storage of commercial solid waste by commercial establisments building',\n",
       "       'Failure to remove recreation equipment or furniture one- or tow-family dwelling or commercial building',\n",
       "       'Failure to comply with condition granted by the Building and Safety Department or by the Board of Zoning Appeals',\n",
       "       'Failed to comply with other land use or procedural requirements - Unlawful Sign, Banner or antenna',\n",
       "       'Using improper transport vehicle for solid, medical or hazardous waste; failure to obtain Police department certification',\n",
       "       'Failure to transport and deliver solid waste, with manifest, to proper disposal area or licensed transfer facility, or to use vehicle or container that does not leak or spill',\n",
       "       'Failed to comply with land use requirements, i.e. unlawful storage of vehicle on residential land',\n",
       "       'Generating, disposing, storing, treating, processing, reprocessing or transporting hazardous waste without complying with Michigan Natural Resources Environmental Protection Act',\n",
       "       'Failure to transport and deliver scrap tires to proper disposal area or licensed transfer facility, or to use vehicle or container that does not leak or spill',\n",
       "       'Owner failure to exterminate prior to renting or leasing one- or two- family dwelling or building',\n",
       "       'Defective structural member(s) one- or two-family dwelling or commercial building',\n",
       "       'Unlawful use of Land',\n",
       "       'Placing animal and fowl excrement in approved container without proper wrapping',\n",
       "       'Open Storage/ Non-residential/ Inoperable Vehicles (SD1)',\n",
       "       'Failure to remove the large movable container within 48 hours of its placement',\n",
       "       'Failed to comply with other land use or procedural requirements - FAILURE TO COMPLY WITH PROCEDURAL OR OTHER REQUIREMENTS',\n",
       "       'Open Storage/ Residential/ Debris (R3)',\n",
       "       'Open Storage/ Residential/ Refuse (R6)',\n",
       "       'Open Storage/ Residential/ Inoperable Vehicles (R6)',\n",
       "       'Open Storage/ Residential/ Debris (R2)',\n",
       "       'Unlawful change of use of building or land',\n",
       "       'Open Storage/ Non-residential/ Other (M4)',\n",
       "       'Defective or obstructed duct system one- or two- family dwelling or building',\n",
       "       'Open Storage/ Residential/ Commercial Vehicles (R6)',\n",
       "       'Failed to comply with other land use or procedural requirements - Vehicle other than operable recreational equipment or operable privat',\n",
       "       'Failed to comply with other land use or procedural requirements - Inoperable vehicle(Non-RESIDENTIAL)',\n",
       "       'Projection/Encroachment', 'Unlawful change of use of building',\n",
       "       'Failed to secure permit required for erection or alteration of a building or structure',\n",
       "       'Failed to comply with other land use or procedural requirements - OTHER NON-COMPLIANCE WITH LAND USE REQUIREMENTS',\n",
       "       'Failure to secure a certificate of Maintenance of Grant Conditions',\n",
       "       'Failed to comply with other land use or procedural requirements - Other unlawful storage(RESIDENTIAL)',\n",
       "       'Failure to abate unlawful occupancy of Building,Premises or Structure - Emergency Order - Less than 5 stories',\n",
       "       'Failure to maintain at least one (1) elevator in an occupied building or structure with two or more elevators',\n",
       "       'Failed to comply with other land use or procedural requirements - Inoperable private passenger vehicle(RESIDENTIAL)',\n",
       "       'Allowing bulk solid waste to lie or accumulate on or about the premises',\n",
       "       'Improper placement of Courville containers for collection-commercial or residential',\n",
       "       'Failure to remove animal waste on public or private property',\n",
       "       'Dumping, storing or depositing solid waste 5 or more cubic yards on any publicly-owned property, or private property or water, without a permit',\n",
       "       'Failure of owner to keep property, its sidewalks, or adjoining public property free from solid, medical or hazardous waste',\n",
       "       'publicly-owned property, or private property or water, without a permit or dumping, storing or depositing solid waste less than 5 cubic feet from a moving vehicle on any publicly-owned property, or private property or water, without a permit',\n",
       "       'Dumping, storing or depositing solid waste 5 or more cubic feet from a moving vehicle on any publicly-owned property, or private property or water, without a permit',\n",
       "       'Failure to remove or cause to be removed, and properly dispose of solid waste within 48 hours of owner or operator  knew or should have known of its existance',\n",
       "       'Dumping, storing or depositing solid waste less than 5 cubic feet from a moving vehicle on any publicly-owned property, or private property or water, without a permit',\n",
       "       'Failure to obtain a permit for large movable or stationary container prior to the installation on any public right-of-way',\n",
       "       'Failure to maintain sufficient large movable or stationary containers at least two (2) cubic yard capacity',\n",
       "       'Open Storage/ Residential/ Commercial Vehicles (R4)',\n",
       "       'Open Storage/ Residential/ Inoperable Vehicles (R4)',\n",
       "       'Fail to comply with an Emergency or imminent danger order concerining an unsafe or unsanitary structure or unlawful occupancy (1 or 2 f',\n",
       "       'Unlawful occupation of rental property without lead clearance -  all other structures, except buildings with five (5) or more stories',\n",
       "       'Fail to comply with an Emergency or imminent danger order concerining an unsafe or unsanitary structure or unlawful occupancy (Building',\n",
       "       'Fail to comply with an Emergency or imminent danger order concerining an unsafe or unsanitary structure or unlawful occupancy (all other structures, except buildings with five (5) or more stories)',\n",
       "       'Unlawful occupation of rental property without lead clearance - one or two-family dwelling',\n",
       "       'Failure to secure City or Private solid waste collection containers and services',\n",
       "       'Failure to obtain a lead clearance for rental property - one or two-family dwelling',\n",
       "       'Unlawful occupation of rental property without lead clearance - buildings with five (5) or more stories',\n",
       "       'Failure to obtain a lead clearance for rental property -  all other structures, except buildings with five (5) or more stories',\n",
       "       'Failure to provide bathtub or shower, lavatory or toilet or water closet for each four(4) units rooming  in a one- or two- family dwelling or building',\n",
       "       'Unlawful disposal separation, or storage of domestic solid waste from building(s) or structure(s) one- or two- family dwelling or building',\n",
       "       'Failure to obtain Certificate of Compliance for rental property',\n",
       "       'Failure to obtain a lead clearance for rental property - buildings with five (5) or more stories',\n",
       "       'Failure to remove, or cause to be removed, and properly dispose of solid waste before vacating private property or water',\n",
       "       'Failure to abate unlawful occupancy of Building,Premises or Structure emergency order - 1 or 2 family dwelling',\n",
       "       'Placement of  large movable or stationary containers upon a public right-of-way without a permit',\n",
       "       'Failed to comply with other land use or procedural requirements - Other unlawful storage(Non-RESIDENTIAL)',\n",
       "       'Failure to obtain the certificate of Compliance for Vacant Building',\n",
       "       'Failure to maintain a vacant building or structure in accordance with the requirements of Section 9-1-113 of the Detroit City Code: (1)',\n",
       "       'Failure to obtain a Certificate of Vacant Property Registration',\n",
       "       'Failure to maintain device, equipment, safeguard or system in good repair one- or two-family dwelling, building, premise or structure',\n",
       "       'Failed to obtain the required Certificate of registration for Vacant Building',\n",
       "       'Failure to identify or label large containers with name, capacity, address for which the container was approved in Arabic numerals at least three (3) inches'],\n",
       "      dtype=object)"
      ]
     },
     "execution_count": 13,
     "metadata": {},
     "output_type": "execute_result"
    }
   ],
   "source": [
    "train['violation_description'].unique()"
   ]
  },
  {
   "cell_type": "code",
   "execution_count": 14,
   "metadata": {},
   "outputs": [
    {
     "data": {
      "text/plain": [
       "array(['Failure to secure City or Private solid waste collection containers and services',\n",
       "       'Allowing bulk solid waste to lie or accumulate on or about the premises',\n",
       "       'Improper placement of Courville container between collections',\n",
       "       'Violation of time limit for approved containers to remain at curbside - early or late',\n",
       "       'Inoperable motor vehicle(s) one- or two-family dwelling or commercial building',\n",
       "       'Excessive weeds or plant growth one- or two-family dwelling or commercial Building',\n",
       "       'Failure of owner to obtain certificate of compliance',\n",
       "       'Unlawful change of use of building or land',\n",
       "       'Fail to comply with an Emergency or imminent danger order concerining an unsafe or unsanitary structure or unlawful occupancy (all other structures, except buildings with five (5) or more stories)',\n",
       "       'Failure to obtain certificate of registration for rental property',\n",
       "       'Failure to obtain a lead clearance for rental property -  all other structures, except buildings with five (5) or more stories',\n",
       "       'Rodent harborage one-or two-family dwelling or commercial building',\n",
       "       'Failure to obtain the certificate of Compliance for Vacant Building',\n",
       "       'Dumping, storing or depositing solid waste 5 or more cubic yards on any publicly-owned property, or private property or water, without a permit',\n",
       "       'Bulk solid waste deposited more than 24 hours before designated time',\n",
       "       'Placement of  large movable or stationary containers upon a public right-of-way without a permit',\n",
       "       'Failure to obtain a Certificate of Vacant Property Registration',\n",
       "       'Failure to maintain a vacant building or structure in accordance with the requirements of Section 9-1-113 of the Detroit City Code: (1)',\n",
       "       'Failure to maintain vacant one- or two- family dwelling or building',\n",
       "       'Dumping, storing or depositing solid waste 5 or more cubic feet from a moving vehicle on any publicly-owned property, or private property or water, without a permit',\n",
       "       'Failure to maintain exterior of one- or two-family dwelling, building, premises or commercial structure in good repair, structurally sound or in a sanitary condition to prevent threat to the public health, safety or welfare',\n",
       "       'Improper storage and separation of solid waste for collection day',\n",
       "       'Failure of owner to keep property, its sidewalks, or adjoining public property free from solid, medical or hazardous waste',\n",
       "       'Failure to remove or cause to be removed, and properly dispose of solid waste within 48 hours of owner or operator  knew or should have known of its existance',\n",
       "       'Failure of owner to remove graffiti or maintain or restore property free of graffiti.',\n",
       "       'Defective or no building identification one- or two-family dwelling or commercial building',\n",
       "       'Unlawful accumulation of solid waste one- or two-family dwelling or commercial building',\n",
       "       'Unlawful occupation of rental property without lead clearance -  all other structures, except buildings with five (5) or more stories',\n",
       "       'Unlawful occupation of rental property without lead clearance - one or two-family dwelling',\n",
       "       'Fail to comply with an Emergency or imminent danger order concerining an unsafe or unsanitary structure or unlawful occupancy (1 or 2 f',\n",
       "       'Failed to obtain the required Certificate of registration for Vacant Building',\n",
       "       'Defective roof or drainage one- or two-family dwelling or commercial building',\n",
       "       'Defective exterior wall(s) one- or two-family dwelling or commercial building',\n",
       "       'Failure to maintain balcony, deck, porch, or stairway one- or two-family dwelling or commercial building',\n",
       "       'Failed to comply with other land use or procedural requirements - Unlawful Sign, Banner or antenna',\n",
       "       'Unlawful storage of items outside one- or two-family dwelling or commercial building',\n",
       "       'Failure to maintain overhang extension(s) one- or two-family dwelling or commercial building',\n",
       "       'Failure to comply with condition granted by the Building and Safety Department or by the Board of Zoning Appeals',\n",
       "       'publicly-owned property, or private property or water, without a permit or dumping, storing or depositing solid waste less than 5 cubic feet from a moving vehicle on any publicly-owned property, or private property or water, without a permit',\n",
       "       'Failure to obtain a lead clearance for rental property - one or two-family dwelling',\n",
       "       'Failure to remove, or cause to be removed, and properly dispose of solid waste before vacating private property or water',\n",
       "       'Fail to comply with an Emergency or imminent danger order concerining an unsafe or unsanitary structure or unlawful occupancy (Building',\n",
       "       'Defective grading or drainage one- or two-family dwelling or commercial building',\n",
       "       'Unlawful change of use of building',\n",
       "       'Failure to maintain accessory structure(s) one-or two- family dwelling or commercial building',\n",
       "       'Failure to obtain Lead Clearance Certificate',\n",
       "       'Defective glazing one- or two-family dwelling or commercial building',\n",
       "       'Failed to comply with other land use or procedural requirements - FAILURE TO COMPLY WITH PROCEDURAL OR OTHER REQUIREMENTS',\n",
       "       'Failure to remove animal waste on public or private property',\n",
       "       'Unlawful occupation of rental property without lead clearance - buildings with five (5) or more stories',\n",
       "       'Failure to maintain interior surface(s) in good, clean, and sanitary conditon one- or two- family dwelling or commercial building',\n",
       "       'Failure to maintain swimming pool(s) one- or two-family dwelling or commercial building',\n",
       "       'Depositing domestic or commercial solid waste in containers owned, assigned to, or contracted for, by other persons or premises',\n",
       "       'Unlawful change of use of land without a Permit',\n",
       "       'Unlawful use of Land',\n",
       "       'Early placement of Courville containers at residential structures with five or more household units',\n",
       "       'Locked doors preventing doors preventing safe egress building one- or two-family dwelling or commercial building',\n",
       "       'Failure to obtain Certificate of Compliance for rental property',\n",
       "       'Defective  driveway(s), parking space(s), walkway(s), areas of traverse  dwellings or buildings',\n",
       "       'Improper placement of Courville containers for collection-commercial or residential',\n",
       "       'Failure to obtain a permit for large movable or stationary container prior to the installation on any public right-of-way',\n",
       "       'Failure to establish or operate other activities, structures, or land uses that are in violation of specific provisions, of the general purpose and inten, of the Zoning Ordinance',\n",
       "       'Failure of owner to post, maintain, or present certificate of compliance dwelling, building, or structure',\n",
       "       'Occupancy of building, premises or structure subject to a notice of closure or to operate equipment subject to a posted notice',\n",
       "       'Failure of occupants of one family dwelling to exterminate',\n",
       "       'Occupancy without certificate of compliance one-or two-family dwelling, building, premise or structure',\n",
       "       'Failure of owner to provide or maintain required facilities, fixtures and systems for plumbing or drainage one- or two- family dwelling or building',\n",
       "       'Failure to maintain or provide required smoke alarm(s) one-or two- family dwelling or builiding',\n",
       "       'Failure to abate unlawful occupancy of Building,Premises or Structure - Emergency Order - Less than 5 stories',\n",
       "       'Removal of snow and ice from sidewalks',\n",
       "       'Defective door, skylight, or window frame(s) one- or two-family dwelling or commercial building',\n",
       "       'Failure to maintain adequate guard(s) for basement window(s) one- or two-family dwelling or commercial building',\n",
       "       'Failure to maintain operable or unobstructed opening protective(s), fire or smoke barrier door(s) one- or two- family dwelling or building',\n",
       "       'Failure to provide safe and continuous unobstructed aisle one- or two-family dwelling or commercial building',\n",
       "       'Land Use without Permit - Unlawful storage of vehicle upon vacant land',\n",
       "       'Failure to provide a roll off container when tenant is evicted or improper placement of roll-off on public area adjacent to owner/opera',\n",
       "       'Open Storage/ Non-residential/ Inoperable Vehicles (M3)',\n",
       "       'Open Storage/ Non-residential/ Inoperable Vehicles (SD1)',\n",
       "       'Failure of owner or occupant to maintain rodent and pest free condition one- or two- family dwelling or building',\n",
       "       'Occupancy of building, premises or structure not maintained in habitable, sanitary, and safe condition',\n",
       "       'Failure to transport solid  waste as required by the Michigan NREPA (Natural Resources Environmental Protection Act)',\n",
       "       'Failure of owner to comply with an emergency or imminent danger order of one- or two-family dwelling or building',\n",
       "       'Open Storage/ Non-residential/ Inoperable Vehicles (PC)',\n",
       "       'Defective door(s) one- or two-family dwelling or commercial building',\n",
       "       'Failed to secure permit required for erection or alteration of a building or structure',\n",
       "       'Open Storage/ Residential/ Commercial Vehicles (R3)',\n",
       "       'Open Storage/ Residential/ Inoperable Vehicles (R5)',\n",
       "       'Unlawful painting of motor vehicles one- or two-family dwelling or commercial building',\n",
       "       'Occupancy of rental property without certificate of registration',\n",
       "       'Early placement of Courville containers at residential structures with one, two, three or four household units',\n",
       "       'Failure to abate unsafe condition for Building, premises, structure(s), equipment or device(s).   1 or 2 family dwelling.',\n",
       "       'Failure to obtain a lead clearance for rental property - buildings with five (5) or more stories',\n",
       "       'Failure to maintain interior of one- or two-family dwelling or commercial building in good repair, or in a clean and sanitary condition',\n",
       "       'Maintenance of hazardous plumbing or drainage system in a one- or two- family dwelling or building',\n",
       "       'Failure to maintain exterior surface of one- or two-family dwelling or commercial building',\n",
       "       'Failure to maintain sufficient large movable or stationary containers at least two (2) cubic yard capacity',\n",
       "       'Failure to abate unsafe condition for Building, premises, structure(s), equipment or device(s).',\n",
       "       'Failure to comply with a dimensional requirement',\n",
       "       'Failure to identify or label large containers with name, capacity, address for which the container was approved in Arabic numerals at least three (3) inches',\n",
       "       'Failure to remove recreation equipment or furniture one- or tow-family dwelling or commercial building',\n",
       "       'Unlawful grafitti, demage or deface to exterior of building or structure',\n",
       "       'Open Storage/ Residential/ Inoperable Vehicles (R2)',\n",
       "       'Open Storage/ Non-residential/ Inoperable Vehicles (M4)',\n",
       "       'Open Storage/ Non-residential/ Inoperable Vehicles (M2)',\n",
       "       'Open Storage/ Residential/ Inoperable Vehicles (R1)',\n",
       "       'Dumping, storing or depositing solid waste less than 5 cubic feet from a moving vehicle on any publicly-owned property, or private property or water, without a permit',\n",
       "       'Improperly stored or separated Solid Waste',\n",
       "       'Failure to remove animal waste on public/private property',\n",
       "       'Dumping, storing or depositing solid waste on any publicly-owned property, or private property or water, without a permit',\n",
       "       'Failure of owner to keep property, its sidewalks, or adjoining public property free from solid waste',\n",
       "       'Failing to secure City or Private solid waste collection containers and services',\n",
       "       'Failure of owner to keep property, its sidewalks, or adjoining public property free from medical or hazardous waste',\n",
       "       'Failure of owner of one- or two-family dwelling to comply with an emergency or imminent danger order concerining an unsafe or unsanitar',\n",
       "       'Dumping,  or deposting solid waste of five (5) cubic feet or more from any motor vehicle upon any public or private property or street',\n",
       "       'Failure of owner to restore exterior of buildingg or struture demaged by grafitti',\n",
       "       'Open Storage/ Residential/ Refuse (R1)',\n",
       "       'Dumping or depositing solid waste from a motor vehicle',\n",
       "       'Open Storage/ Non-residential/ Debris (M3)',\n",
       "       'Failure to remove the large movable container within 48 hours of its placement',\n",
       "       'Defective foundation wall(s) one- or two-family dwelling or commercial building',\n",
       "       'Open Storage/ Residential/ Debris (R3)',\n",
       "       'Courville container left at curb early or improperly stored',\n",
       "       'Failure to obtain Lead Clearance Certificate for one or two family dwelling',\n",
       "       'Failure to transport and deliver scrap tires to proper disposal area or licensed transfer facility, or to use vehicle or container that does not leak or spill',\n",
       "       'Improper location of containers for collection',\n",
       "       'Disposing of undrained, unwrapped waste: Disposal not in approved container; Burning of waste',\n",
       "       'Failure of owner of a building with five (5) or more stories to comply with an emergency or imminent danger order concerning an unsafe ',\n",
       "       'Failure of owner of any other structure, except buildings with five (5) or more stories, to comply with an emergency or imminent danger order concerning an unsafe or unsanitary structure or unlawful occupancy',\n",
       "       'Failure to provide portable containers for use of the public',\n",
       "       'Failure to maintain mechanical appliances and equipment in a safe working condition, properly installed and capable of performing the intended function for dwelling or building',\n",
       "       'Improper placement of courville containers at residential structures containing one, two, three or four household units',\n",
       "       'Failure to provide portable containers to properly store solid waste between collections',\n",
       "       'Defective or unapproved removal and  ventilation for fuel burning appliance or equipment one- or two- family dwelling or building',\n",
       "       'Failure to maintain safety control(s) for fuel-burning appliance or equipment one- or two family dwelling or building',\n",
       "       'Sell or transfer of one- or two-family dwelling, building, premise or structure without copy of pending notice, order, violation notice or citation',\n",
       "       'Improper placement of Courville containers for collection-commercial or resident',\n",
       "       'Large movable or stationary containers; residential structures and commercial',\n",
       "       'Failed to comply with other land use or procedural requirements - Inoperable private passenger vehicle(RESIDENTIAL)',\n",
       "       'Generating, depositing, storing, treating, processing or transporting hazardous waste without complying with Michigan Natural Resources Environmental Protection Act(NREPA)',\n",
       "       'Open Storage/ Residential/ Inoperable Vehicles (R4)',\n",
       "       'Storage,dismantling or repair of motor vehicle or equipment on residential property without a permit',\n",
       "       'Unapproved burning of solid waste',\n",
       "       'Improperly depositing solid waste in public receptacles',\n",
       "       'Failure to secure a certificate of Maintenance of Grant Conditions',\n",
       "       'Open Storage/ Non-residential/ Inoperable Vehicles (M1)',\n",
       "       'Owner as listed in Wayne County Registar of Deeds unless written intrument to the contrary is presented',\n",
       "       'Open Storage/ Residential/ Inoperable Vehicles (R6)',\n",
       "       'Failure to transport and deliver solid waste, with manifest, to proper disposal area or licensed transfer facility, or to use vehicle or container that does not leak or spill',\n",
       "       'Dumping or depositing medical or hazardous waste from a motor vehicle',\n",
       "       'Open Storage/ Non-residential/ Inoperable Vehicles (SD2)',\n",
       "       'Failed to comply with other land use or procedural requirements - Other unlawful storage(Non-RESIDENTIAL)',\n",
       "       'Improper use of or deposit of solid waste in or around portable containers',\n",
       "       'Occupy rental property without a certificate of compliance one- or two- family dwelling or commercial building',\n",
       "       'Banner/ Sinage/ Antenna (B3,B4,B5,B6,M1,M2,M3,M4,M5,W1)',\n",
       "       'Unlawful storage upon residential land - Vehicle or equipment other than operable recreational equipment or operable private passenger ',\n",
       "       'Dumping, storing or depositing medial or hazardous waste on any pubicly-owned property, or private property or water, without a permit',\n",
       "       'Failure to remove or cause to be removed any solid waste within 48 hours or placement; declare to be a public nuisance',\n",
       "       'Other Non-Compliance with Land Use Requirements (M1,M2,M3,M4,M5)',\n",
       "       'Unlawful disposal separation, or storage of domestic solid waste from building(s) or structure(s) one- or two- family dwelling or building',\n",
       "       'Failure to maintain stairs or other walking surface(s) in sound condition and in good repair one- or two-family dwelling or commercial ',\n",
       "       'Defective gate(s) one- or two-family dwelling or commercial building',\n",
       "       'Failed to comply with dimensional requirement - Projection or encrachment on front, side or rear yard',\n",
       "       'Unlawful change of use of building without a permit'],\n",
       "      dtype=object)"
      ]
     },
     "execution_count": 14,
     "metadata": {},
     "output_type": "execute_result"
    }
   ],
   "source": [
    "test['violation_description'].unique()"
   ]
  },
  {
   "cell_type": "code",
   "execution_count": 15,
   "metadata": {},
   "outputs": [
    {
     "data": {
      "text/plain": [
       "LabelEncoder()"
      ]
     },
     "execution_count": 15,
     "metadata": {},
     "output_type": "execute_result"
    }
   ],
   "source": [
    "le.fit(train['country'])"
   ]
  },
  {
   "cell_type": "code",
   "execution_count": 16,
   "metadata": {},
   "outputs": [
    {
     "data": {
      "text/plain": [
       "array(['Aust', 'Cana', 'Egyp', 'Germ', 'USA'], dtype=object)"
      ]
     },
     "execution_count": 16,
     "metadata": {},
     "output_type": "execute_result"
    }
   ],
   "source": [
    "le.classes_"
   ]
  },
  {
   "cell_type": "code",
   "execution_count": 17,
   "metadata": {},
   "outputs": [
    {
     "data": {
      "text/plain": [
       "array(['USA'], dtype=object)"
      ]
     },
     "execution_count": 17,
     "metadata": {},
     "output_type": "execute_result"
    }
   ],
   "source": [
    "test['country'].unique()"
   ]
  },
  {
   "cell_type": "markdown",
   "metadata": {},
   "source": [
    "## EDA"
   ]
  },
  {
   "cell_type": "markdown",
   "metadata": {},
   "source": [
    "fine_amount, late_fee, discount_amount"
   ]
  },
  {
   "cell_type": "code",
   "execution_count": 18,
   "metadata": {},
   "outputs": [],
   "source": [
    "selected = [#'violation_code_en', \n",
    "            'fine_amount',\n",
    "            'judgment_amount']\n",
    "label = ['compliance']"
   ]
  },
  {
   "cell_type": "code",
   "execution_count": 19,
   "metadata": {},
   "outputs": [],
   "source": [
    "X_train, X_test, y_train, y_test = train_test_split(train[selected]\n",
    "                                                    ,train[label]\n",
    "                                                    ,random_state = 0)"
   ]
  },
  {
   "cell_type": "code",
   "execution_count": 20,
   "metadata": {},
   "outputs": [],
   "source": [
    "rf = RandomForestClassifier(random_state = 0)"
   ]
  },
  {
   "cell_type": "code",
   "execution_count": 21,
   "metadata": {},
   "outputs": [
    {
     "name": "stderr",
     "output_type": "stream",
     "text": [
      "/anaconda3/lib/python3.7/site-packages/sklearn/ensemble/forest.py:246: FutureWarning: The default value of n_estimators will change from 10 in version 0.20 to 100 in 0.22.\n",
      "  \"10 in version 0.20 to 100 in 0.22.\", FutureWarning)\n",
      "/anaconda3/lib/python3.7/site-packages/ipykernel_launcher.py:1: DataConversionWarning: A column-vector y was passed when a 1d array was expected. Please change the shape of y to (n_samples,), for example using ravel().\n",
      "  \"\"\"Entry point for launching an IPython kernel.\n"
     ]
    },
    {
     "data": {
      "text/plain": [
       "RandomForestClassifier(bootstrap=True, class_weight=None, criterion='gini',\n",
       "            max_depth=None, max_features='auto', max_leaf_nodes=None,\n",
       "            min_impurity_decrease=0.0, min_impurity_split=None,\n",
       "            min_samples_leaf=1, min_samples_split=2,\n",
       "            min_weight_fraction_leaf=0.0, n_estimators=10, n_jobs=None,\n",
       "            oob_score=False, random_state=0, verbose=0, warm_start=False)"
      ]
     },
     "execution_count": 21,
     "metadata": {},
     "output_type": "execute_result"
    }
   ],
   "source": [
    "rf.fit(X_train, y_train)"
   ]
  },
  {
   "cell_type": "code",
   "execution_count": 22,
   "metadata": {},
   "outputs": [
    {
     "data": {
      "text/html": [
       "<div>\n",
       "<style scoped>\n",
       "    .dataframe tbody tr th:only-of-type {\n",
       "        vertical-align: middle;\n",
       "    }\n",
       "\n",
       "    .dataframe tbody tr th {\n",
       "        vertical-align: top;\n",
       "    }\n",
       "\n",
       "    .dataframe thead th {\n",
       "        text-align: right;\n",
       "    }\n",
       "</style>\n",
       "<table border=\"1\" class=\"dataframe\">\n",
       "  <thead>\n",
       "    <tr style=\"text-align: right;\">\n",
       "      <th></th>\n",
       "      <th>compliance</th>\n",
       "    </tr>\n",
       "    <tr>\n",
       "      <th>ticket_id</th>\n",
       "      <th></th>\n",
       "    </tr>\n",
       "  </thead>\n",
       "  <tbody>\n",
       "    <tr>\n",
       "      <th>129049</th>\n",
       "      <td>0.0</td>\n",
       "    </tr>\n",
       "    <tr>\n",
       "      <th>223337</th>\n",
       "      <td>0.0</td>\n",
       "    </tr>\n",
       "    <tr>\n",
       "      <th>165904</th>\n",
       "      <td>1.0</td>\n",
       "    </tr>\n",
       "    <tr>\n",
       "      <th>90794</th>\n",
       "      <td>1.0</td>\n",
       "    </tr>\n",
       "    <tr>\n",
       "      <th>112188</th>\n",
       "      <td>0.0</td>\n",
       "    </tr>\n",
       "  </tbody>\n",
       "</table>\n",
       "</div>"
      ],
      "text/plain": [
       "           compliance\n",
       "ticket_id            \n",
       "129049            0.0\n",
       "223337            0.0\n",
       "165904            1.0\n",
       "90794             1.0\n",
       "112188            0.0"
      ]
     },
     "execution_count": 22,
     "metadata": {},
     "output_type": "execute_result"
    }
   ],
   "source": [
    "y_train.head()"
   ]
  },
  {
   "cell_type": "code",
   "execution_count": 23,
   "metadata": {},
   "outputs": [
    {
     "data": {
      "text/html": [
       "<div>\n",
       "<style scoped>\n",
       "    .dataframe tbody tr th:only-of-type {\n",
       "        vertical-align: middle;\n",
       "    }\n",
       "\n",
       "    .dataframe tbody tr th {\n",
       "        vertical-align: top;\n",
       "    }\n",
       "\n",
       "    .dataframe thead th {\n",
       "        text-align: right;\n",
       "    }\n",
       "</style>\n",
       "<table border=\"1\" class=\"dataframe\">\n",
       "  <thead>\n",
       "    <tr style=\"text-align: right;\">\n",
       "      <th></th>\n",
       "      <th>compliance</th>\n",
       "    </tr>\n",
       "    <tr>\n",
       "      <th>ticket_id</th>\n",
       "      <th></th>\n",
       "    </tr>\n",
       "  </thead>\n",
       "  <tbody>\n",
       "    <tr>\n",
       "      <th>283213</th>\n",
       "      <td>0.0</td>\n",
       "    </tr>\n",
       "    <tr>\n",
       "      <th>140880</th>\n",
       "      <td>0.0</td>\n",
       "    </tr>\n",
       "    <tr>\n",
       "      <th>180238</th>\n",
       "      <td>0.0</td>\n",
       "    </tr>\n",
       "    <tr>\n",
       "      <th>109917</th>\n",
       "      <td>0.0</td>\n",
       "    </tr>\n",
       "    <tr>\n",
       "      <th>21796</th>\n",
       "      <td>0.0</td>\n",
       "    </tr>\n",
       "  </tbody>\n",
       "</table>\n",
       "</div>"
      ],
      "text/plain": [
       "           compliance\n",
       "ticket_id            \n",
       "283213            0.0\n",
       "140880            0.0\n",
       "180238            0.0\n",
       "109917            0.0\n",
       "21796             0.0"
      ]
     },
     "execution_count": 23,
     "metadata": {},
     "output_type": "execute_result"
    }
   ],
   "source": [
    "y_test.head()"
   ]
  },
  {
   "cell_type": "code",
   "execution_count": 24,
   "metadata": {},
   "outputs": [],
   "source": [
    "y_predict = y_test.copy()\n",
    "y_predict['compliance'] = rf.predict_proba(X_test)[:,1]"
   ]
  },
  {
   "cell_type": "code",
   "execution_count": 25,
   "metadata": {},
   "outputs": [
    {
     "data": {
      "text/html": [
       "<div>\n",
       "<style scoped>\n",
       "    .dataframe tbody tr th:only-of-type {\n",
       "        vertical-align: middle;\n",
       "    }\n",
       "\n",
       "    .dataframe tbody tr th {\n",
       "        vertical-align: top;\n",
       "    }\n",
       "\n",
       "    .dataframe thead th {\n",
       "        text-align: right;\n",
       "    }\n",
       "</style>\n",
       "<table border=\"1\" class=\"dataframe\">\n",
       "  <thead>\n",
       "    <tr style=\"text-align: right;\">\n",
       "      <th></th>\n",
       "      <th>compliance</th>\n",
       "    </tr>\n",
       "    <tr>\n",
       "      <th>ticket_id</th>\n",
       "      <th></th>\n",
       "    </tr>\n",
       "  </thead>\n",
       "  <tbody>\n",
       "    <tr>\n",
       "      <th>283213</th>\n",
       "      <td>0.031180</td>\n",
       "    </tr>\n",
       "    <tr>\n",
       "      <th>140880</th>\n",
       "      <td>0.035878</td>\n",
       "    </tr>\n",
       "    <tr>\n",
       "      <th>180238</th>\n",
       "      <td>0.444768</td>\n",
       "    </tr>\n",
       "    <tr>\n",
       "      <th>109917</th>\n",
       "      <td>0.035878</td>\n",
       "    </tr>\n",
       "    <tr>\n",
       "      <th>21796</th>\n",
       "      <td>0.035878</td>\n",
       "    </tr>\n",
       "  </tbody>\n",
       "</table>\n",
       "</div>"
      ],
      "text/plain": [
       "           compliance\n",
       "ticket_id            \n",
       "283213       0.031180\n",
       "140880       0.035878\n",
       "180238       0.444768\n",
       "109917       0.035878\n",
       "21796        0.035878"
      ]
     },
     "execution_count": 25,
     "metadata": {},
     "output_type": "execute_result"
    }
   ],
   "source": [
    "y_predict.head()"
   ]
  },
  {
   "cell_type": "code",
   "execution_count": 26,
   "metadata": {},
   "outputs": [
    {
     "data": {
      "text/plain": [
       "0.9288382953882078"
      ]
     },
     "execution_count": 26,
     "metadata": {},
     "output_type": "execute_result"
    }
   ],
   "source": [
    "rf.score(X_train,y_train)"
   ]
  },
  {
   "cell_type": "code",
   "execution_count": 27,
   "metadata": {},
   "outputs": [],
   "source": [
    "y_score_rf = rf.score(X_test, y_test)"
   ]
  },
  {
   "cell_type": "code",
   "execution_count": 28,
   "metadata": {},
   "outputs": [
    {
     "data": {
      "text/plain": [
       "0.9284963722792094"
      ]
     },
     "execution_count": 28,
     "metadata": {},
     "output_type": "execute_result"
    }
   ],
   "source": [
    "y_score_rf"
   ]
  },
  {
   "cell_type": "code",
   "execution_count": 29,
   "metadata": {},
   "outputs": [
    {
     "data": {
      "text/plain": [
       "(39970, 2)"
      ]
     },
     "execution_count": 29,
     "metadata": {},
     "output_type": "execute_result"
    }
   ],
   "source": [
    "X_test.shape"
   ]
  },
  {
   "cell_type": "code",
   "execution_count": 30,
   "metadata": {},
   "outputs": [
    {
     "data": {
      "text/html": [
       "<div>\n",
       "<style scoped>\n",
       "    .dataframe tbody tr th:only-of-type {\n",
       "        vertical-align: middle;\n",
       "    }\n",
       "\n",
       "    .dataframe tbody tr th {\n",
       "        vertical-align: top;\n",
       "    }\n",
       "\n",
       "    .dataframe thead th {\n",
       "        text-align: right;\n",
       "    }\n",
       "</style>\n",
       "<table border=\"1\" class=\"dataframe\">\n",
       "  <thead>\n",
       "    <tr style=\"text-align: right;\">\n",
       "      <th></th>\n",
       "      <th>compliance</th>\n",
       "    </tr>\n",
       "    <tr>\n",
       "      <th>ticket_id</th>\n",
       "      <th></th>\n",
       "    </tr>\n",
       "  </thead>\n",
       "  <tbody>\n",
       "    <tr>\n",
       "      <th>283213</th>\n",
       "      <td>0.0</td>\n",
       "    </tr>\n",
       "    <tr>\n",
       "      <th>140880</th>\n",
       "      <td>0.0</td>\n",
       "    </tr>\n",
       "    <tr>\n",
       "      <th>180238</th>\n",
       "      <td>0.0</td>\n",
       "    </tr>\n",
       "    <tr>\n",
       "      <th>109917</th>\n",
       "      <td>0.0</td>\n",
       "    </tr>\n",
       "    <tr>\n",
       "      <th>21796</th>\n",
       "      <td>0.0</td>\n",
       "    </tr>\n",
       "  </tbody>\n",
       "</table>\n",
       "</div>"
      ],
      "text/plain": [
       "           compliance\n",
       "ticket_id            \n",
       "283213            0.0\n",
       "140880            0.0\n",
       "180238            0.0\n",
       "109917            0.0\n",
       "21796             0.0"
      ]
     },
     "execution_count": 30,
     "metadata": {},
     "output_type": "execute_result"
    }
   ],
   "source": [
    "y_test.head()"
   ]
  },
  {
   "cell_type": "code",
   "execution_count": 31,
   "metadata": {},
   "outputs": [
    {
     "data": {
      "text/plain": [
       "(39970, 1)"
      ]
     },
     "execution_count": 31,
     "metadata": {},
     "output_type": "execute_result"
    }
   ],
   "source": [
    "y_test.shape"
   ]
  },
  {
   "cell_type": "code",
   "execution_count": 32,
   "metadata": {},
   "outputs": [],
   "source": [
    "fpr_lr, tpr_lr, _ = roc_curve(y_test, y_predict)\n"
   ]
  },
  {
   "cell_type": "code",
   "execution_count": 33,
   "metadata": {},
   "outputs": [],
   "source": [
    "roc_auc_lr = auc(fpr_lr, tpr_lr)"
   ]
  },
  {
   "cell_type": "code",
   "execution_count": 34,
   "metadata": {},
   "outputs": [
    {
     "name": "stderr",
     "output_type": "stream",
     "text": [
      "/anaconda3/lib/python3.7/site-packages/matplotlib/figure.py:98: MatplotlibDeprecationWarning: \n",
      "Adding an axes using the same arguments as a previous axes currently reuses the earlier instance.  In a future version, a new instance will always be created and returned.  Meanwhile, this warning can be suppressed, and the future behavior ensured, by passing a unique label to each axes instance.\n",
      "  \"Adding an axes using the same arguments as a previous axes \"\n"
     ]
    },
    {
     "data": {
      "image/png": "[encoded data removed]",
      "text/plain": [
       "<Figure size 432x288 with 1 Axes>"
      ]
     },
     "metadata": {
      "needs_background": "light"
     },
     "output_type": "display_data"
    }
   ],
   "source": [
    "plt.figure()\n",
    "plt.xlim([-0.01, 1.00])\n",
    "plt.ylim([-0.01, 1.01])\n",
    "plt.plot(fpr_lr, tpr_lr, lw=3, label='LogRegr ROC curve (area = {:0.2f})'.format(roc_auc_lr))\n",
    "plt.xlabel('False Positive Rate', fontsize=16)\n",
    "plt.ylabel('True Positive Rate', fontsize=16)\n",
    "plt.title('ROC curve (1-of-10 digits classifier)', fontsize=16)\n",
    "plt.legend(loc='lower right', fontsize=13)\n",
    "plt.plot([0, 1], [0, 1], color='navy', lw=3, linestyle='--')\n",
    "plt.axes().set_aspect('equal')\n",
    "plt.show()"
   ]
  },
  {
   "cell_type": "code",
   "execution_count": 35,
   "metadata": {},
   "outputs": [
    {
     "data": {
      "text/plain": [
       "Int64Index([ 22056,  27586,  22046,  18738,  18735,  18733,  28204,  18743,\n",
       "             18741,  18978,\n",
       "            ...\n",
       "            285094, 285096, 285036, 285037, 285034, 285106, 284650, 285125,\n",
       "            284881, 284333],\n",
       "           dtype='int64', name='ticket_id', length=159880)"
      ]
     },
     "execution_count": 35,
     "metadata": {},
     "output_type": "execute_result"
    }
   ],
   "source": [
    "train.index"
   ]
  },
  {
   "cell_type": "code",
   "execution_count": null,
   "metadata": {},
   "outputs": [],
   "source": []
  }
 ],
 "metadata": {
  "coursera": {
   "course_slug": "python-machine-learning",
   "graded_item_id": "nNS8l",
   "launcher_item_id": "yWWk7",
   "part_id": "w8BSS"
  },
  "kernelspec": {
   "display_name": "Python 3",
   "language": "python",
   "name": "python3"
  },
  "language_info": {
   "codemirror_mode": {
    "name": "ipython",
    "version": 3
   },
   "file_extension": ".py",
   "mimetype": "text/x-python",
   "name": "python",
   "nbconvert_exporter": "python",
   "pygments_lexer": "ipython3",
   "version": "3.7.1"
  }
 },
 "nbformat": 4,
 "nbformat_minor": 2
}
