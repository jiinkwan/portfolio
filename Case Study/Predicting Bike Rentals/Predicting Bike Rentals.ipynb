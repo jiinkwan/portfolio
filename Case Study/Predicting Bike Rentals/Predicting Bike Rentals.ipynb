{
 "cells": [
  {
   "cell_type": "markdown",
   "metadata": {
    "collapsed": true
   },
   "source": [
    "# Predicting Bike Rentals\n",
    "\n",
    "Many American cities have communal bike sharing stations where you can rent bicycles by the hour or day. Washington, D.C. is one of these cities. The District collects detailed data on the number of bicycles people rent by the hour and day.\n",
    "\n",
    "Here are the descriptions for the relevant columns:\n",
    "\n",
    "- instant - A unique sequential ID number for each row\n",
    "- dteday - The date of the rentals\n",
    "- season - The season in which the rentals occurred\n",
    "- yr - The year the rentals occurred\n",
    "- mnth - The month the rentals occurred\n",
    "- hr - The hour the rentals occurred\n",
    "- holiday - Whether or not the day was a holiday\n",
    "- weekday - The day of the week (as a number, 0 to 7)\n",
    "- workingday - Whether or not the day was a working day\n",
    "- weathersit - The weather (as a categorical variable)\n",
    "- temp - The temperature, on a 0-1 scale\n",
    "- atemp - The adjusted temperature\n",
    "- hum - The humidity, on a 0-1 scale\n",
    "- windspeed - The wind speed, on a 0-1 scale\n",
    "- casual - The number of casual riders (people who hadn't previously signed up with the bike sharing program)\n",
    "- registered - The number of registered riders (people who had already signed up)\n",
    "- cnt - The total number of bike rentals (casual + registered)"
   ]
  },
  {
   "cell_type": "markdown",
   "metadata": {},
   "source": [
    "## Introduction to the Data Set"
   ]
  },
  {
   "cell_type": "code",
   "execution_count": 3,
   "metadata": {
    "collapsed": true
   },
   "outputs": [],
   "source": [
    "import pandas as pd\n",
    "import numpy as np\n",
    "import matplotlib.pyplot as plt\n",
    "%matplotlib inline\n",
    "\n",
    "bike_rentals = pd.read_csv('bike_rental_hour.csv')\n"
   ]
  },
  {
   "cell_type": "code",
   "execution_count": 15,
   "metadata": {
    "collapsed": false
   },
   "outputs": [
    {
     "data": {
      "text/plain": [
       "(17379, 17)"
      ]
     },
     "execution_count": 15,
     "metadata": {},
     "output_type": "execute_result"
    }
   ],
   "source": [
    "bike_rentals.shape"
   ]
  },
  {
   "cell_type": "code",
   "execution_count": 16,
   "metadata": {
    "collapsed": false
   },
   "outputs": [
    {
     "data": {
      "text/html": [
       "<div>\n",
       "<style scoped>\n",
       "    .dataframe tbody tr th:only-of-type {\n",
       "        vertical-align: middle;\n",
       "    }\n",
       "\n",
       "    .dataframe tbody tr th {\n",
       "        vertical-align: top;\n",
       "    }\n",
       "\n",
       "    .dataframe thead th {\n",
       "        text-align: right;\n",
       "    }\n",
       "</style>\n",
       "<table border=\"1\" class=\"dataframe\">\n",
       "  <thead>\n",
       "    <tr style=\"text-align: right;\">\n",
       "      <th></th>\n",
       "      <th>instant</th>\n",
       "      <th>dteday</th>\n",
       "      <th>season</th>\n",
       "      <th>yr</th>\n",
       "      <th>mnth</th>\n",
       "      <th>hr</th>\n",
       "      <th>holiday</th>\n",
       "      <th>weekday</th>\n",
       "      <th>workingday</th>\n",
       "      <th>weathersit</th>\n",
       "      <th>temp</th>\n",
       "      <th>atemp</th>\n",
       "      <th>hum</th>\n",
       "      <th>windspeed</th>\n",
       "      <th>casual</th>\n",
       "      <th>registered</th>\n",
       "      <th>cnt</th>\n",
       "    </tr>\n",
       "  </thead>\n",
       "  <tbody>\n",
       "    <tr>\n",
       "      <th>0</th>\n",
       "      <td>1</td>\n",
       "      <td>2011-01-01</td>\n",
       "      <td>1</td>\n",
       "      <td>0</td>\n",
       "      <td>1</td>\n",
       "      <td>0</td>\n",
       "      <td>0</td>\n",
       "      <td>6</td>\n",
       "      <td>0</td>\n",
       "      <td>1</td>\n",
       "      <td>0.24</td>\n",
       "      <td>0.2879</td>\n",
       "      <td>0.81</td>\n",
       "      <td>0.0</td>\n",
       "      <td>3</td>\n",
       "      <td>13</td>\n",
       "      <td>16</td>\n",
       "    </tr>\n",
       "    <tr>\n",
       "      <th>1</th>\n",
       "      <td>2</td>\n",
       "      <td>2011-01-01</td>\n",
       "      <td>1</td>\n",
       "      <td>0</td>\n",
       "      <td>1</td>\n",
       "      <td>1</td>\n",
       "      <td>0</td>\n",
       "      <td>6</td>\n",
       "      <td>0</td>\n",
       "      <td>1</td>\n",
       "      <td>0.22</td>\n",
       "      <td>0.2727</td>\n",
       "      <td>0.80</td>\n",
       "      <td>0.0</td>\n",
       "      <td>8</td>\n",
       "      <td>32</td>\n",
       "      <td>40</td>\n",
       "    </tr>\n",
       "    <tr>\n",
       "      <th>2</th>\n",
       "      <td>3</td>\n",
       "      <td>2011-01-01</td>\n",
       "      <td>1</td>\n",
       "      <td>0</td>\n",
       "      <td>1</td>\n",
       "      <td>2</td>\n",
       "      <td>0</td>\n",
       "      <td>6</td>\n",
       "      <td>0</td>\n",
       "      <td>1</td>\n",
       "      <td>0.22</td>\n",
       "      <td>0.2727</td>\n",
       "      <td>0.80</td>\n",
       "      <td>0.0</td>\n",
       "      <td>5</td>\n",
       "      <td>27</td>\n",
       "      <td>32</td>\n",
       "    </tr>\n",
       "    <tr>\n",
       "      <th>3</th>\n",
       "      <td>4</td>\n",
       "      <td>2011-01-01</td>\n",
       "      <td>1</td>\n",
       "      <td>0</td>\n",
       "      <td>1</td>\n",
       "      <td>3</td>\n",
       "      <td>0</td>\n",
       "      <td>6</td>\n",
       "      <td>0</td>\n",
       "      <td>1</td>\n",
       "      <td>0.24</td>\n",
       "      <td>0.2879</td>\n",
       "      <td>0.75</td>\n",
       "      <td>0.0</td>\n",
       "      <td>3</td>\n",
       "      <td>10</td>\n",
       "      <td>13</td>\n",
       "    </tr>\n",
       "    <tr>\n",
       "      <th>4</th>\n",
       "      <td>5</td>\n",
       "      <td>2011-01-01</td>\n",
       "      <td>1</td>\n",
       "      <td>0</td>\n",
       "      <td>1</td>\n",
       "      <td>4</td>\n",
       "      <td>0</td>\n",
       "      <td>6</td>\n",
       "      <td>0</td>\n",
       "      <td>1</td>\n",
       "      <td>0.24</td>\n",
       "      <td>0.2879</td>\n",
       "      <td>0.75</td>\n",
       "      <td>0.0</td>\n",
       "      <td>0</td>\n",
       "      <td>1</td>\n",
       "      <td>1</td>\n",
       "    </tr>\n",
       "  </tbody>\n",
       "</table>\n",
       "</div>"
      ],
      "text/plain": [
       "   instant      dteday  season  yr  mnth  hr  holiday  weekday  workingday  \\\n",
       "0        1  2011-01-01       1   0     1   0        0        6           0   \n",
       "1        2  2011-01-01       1   0     1   1        0        6           0   \n",
       "2        3  2011-01-01       1   0     1   2        0        6           0   \n",
       "3        4  2011-01-01       1   0     1   3        0        6           0   \n",
       "4        5  2011-01-01       1   0     1   4        0        6           0   \n",
       "\n",
       "   weathersit  temp   atemp   hum  windspeed  casual  registered  cnt  \n",
       "0           1  0.24  0.2879  0.81        0.0       3          13   16  \n",
       "1           1  0.22  0.2727  0.80        0.0       8          32   40  \n",
       "2           1  0.22  0.2727  0.80        0.0       5          27   32  \n",
       "3           1  0.24  0.2879  0.75        0.0       3          10   13  \n",
       "4           1  0.24  0.2879  0.75        0.0       0           1    1  "
      ]
     },
     "execution_count": 16,
     "metadata": {},
     "output_type": "execute_result"
    }
   ],
   "source": [
    "bike_rentals.head()"
   ]
  },
  {
   "cell_type": "markdown",
   "metadata": {},
   "source": [
    "### Histogram"
   ]
  },
  {
   "cell_type": "code",
   "execution_count": 14,
   "metadata": {
    "collapsed": false
   },
   "outputs": [
    {
     "data": {
      "text/plain": [
       "<matplotlib.axes._subplots.AxesSubplot at 0x7f78eda6f1d0>"
      ]
     },
     "execution_count": 14,
     "metadata": {},
     "output_type": "execute_result"
    },
    {
     "data": {
      "image/png": "[encoded data removed]",
      "text/plain": [
       "<matplotlib.figure.Figure at 0x7f78eda41c50>"
      ]
     },
     "metadata": {},
     "output_type": "display_data"
    }
   ],
   "source": [
    "bike_rentals['cnt'].hist(bins = 25)"
   ]
  },
  {
   "cell_type": "markdown",
   "metadata": {},
   "source": [
    "From the histogram above that we can tell that 0~25 times of rental is most common. However, we have to consider that the bike rentals probably have seasonality. "
   ]
  },
  {
   "cell_type": "markdown",
   "metadata": {},
   "source": [
    "### Correation"
   ]
  },
  {
   "cell_type": "code",
   "execution_count": 25,
   "metadata": {
    "collapsed": false
   },
   "outputs": [
    {
     "data": {
      "text/plain": [
       "registered    0.972151\n",
       "casual        0.694564\n",
       "temp          0.404772\n",
       "atemp         0.400929\n",
       "hr            0.394071\n",
       "hum           0.322911\n",
       "instant       0.278379\n",
       "yr            0.250495\n",
       "season        0.178056\n",
       "weathersit    0.142426\n",
       "mnth          0.120638\n",
       "windspeed     0.093234\n",
       "holiday       0.030927\n",
       "workingday    0.030284\n",
       "weekday       0.026900\n",
       "Name: cnt, dtype: float64"
      ]
     },
     "execution_count": 25,
     "metadata": {},
     "output_type": "execute_result"
    }
   ],
   "source": [
    "np.abs(bike_rentals.corr()['cnt']).sort_values(ascending = False).drop('cnt')"
   ]
  },
  {
   "cell_type": "markdown",
   "metadata": {},
   "source": [
    "The correlation table says that registered and casual columns have the most correlation with count. The result is unsurprising because if you add registered and casual column you get the cnt. Other than ***that, temp, atemp, and hum*** correlate to ***cnt*** column. "
   ]
  },
  {
   "cell_type": "markdown",
   "metadata": {},
   "source": [
    "## Calculating Features"
   ]
  },
  {
   "cell_type": "markdown",
   "metadata": {},
   "source": [
    "### Assigning Lables\n",
    "\n",
    "One of the most correlated columns to ***cnt*** is hr. It's reasonable to think that people rent bike in different time frames. For instance, more people rent bikes during the day than they do during the night. Let's aggregate the hours in to 4 different time frames of a day. \n",
    "\n",
    "- 1 if the hour is from 6 to 12\n",
    "- 2 if the hour is from 12 to 18\n",
    "- 3 if the hour is from 18 to 24\n",
    "- 4 if the hour is from 0 to 6"
   ]
  },
  {
   "cell_type": "code",
   "execution_count": 56,
   "metadata": {
    "collapsed": true
   },
   "outputs": [],
   "source": [
    "def assign_label(hr):\n",
    "    if (hr >= 6) & (hr < 12):\n",
    "        return 1\n",
    "    elif (hr >= 12) & (hr < 18):\n",
    "        return 2\n",
    "    elif (hr >= 18) & (hr < 24):\n",
    "        return 3\n",
    "    elif (hr >= 0) & (hr < 6):\n",
    "        return 4"
   ]
  },
  {
   "cell_type": "code",
   "execution_count": 58,
   "metadata": {
    "collapsed": false
   },
   "outputs": [],
   "source": [
    "bike_rentals['time_label'] =bike_rentals['hr'].apply(assign_label)"
   ]
  },
  {
   "cell_type": "markdown",
   "metadata": {},
   "source": [
    "## Splitting the Data into Train and Test Sets\n",
    "\n",
    "The problem itself is a lot like linear regression problem. We are going to use Root Mean Squeared Error as our evaluation method because it's a relatively simple and intuitive metric. It's also easy to understand the result. \n",
    "\n",
    "For the evaluation, we are going to use the holdout method.\n",
    "\n",
    "It's also worth mentioning that the evaluation method and metric are subject to change as the model develops."
   ]
  },
  {
   "cell_type": "code",
   "execution_count": 72,
   "metadata": {
    "collapsed": false
   },
   "outputs": [],
   "source": [
    "# Use random_state parameter for the reproducible result.\n",
    "train = bike_rentals.sample(int(len(bike_rentals)*0.8), random_state = 1)\n",
    "\n",
    "# Assign the rest to the test set. \n",
    "test = bike_rentals[~bike_rentals.index.isin(train.index)]"
   ]
  },
  {
   "cell_type": "markdown",
   "metadata": {},
   "source": [
    "## Applying Linear Regression\n",
    "\n",
    "As mentioned before, the problem looks like it has some linearlity. We are going to apply the linear regression to predict.\n",
    "\n",
    "Linear regression works best when predictors are linearly correlated to the target and also independent -- in other words, they don't change meaning when we combine them with each other. The good thing about linear regression is that it's fairly resistant to overfitting because it's straightforward. It also can be prone to underfitting the data, however, and not building a powerful enough model. This means that linear regression usually isn't the most accurate option.\n",
    "\n",
    "We are ignoring casual and registered columns because cnt column is derived from them. \n",
    "\n",
    "For the starter, we are going to include all columns except casual, dteday, and registered columns using the default hyper parameters. "
   ]
  },
  {
   "cell_type": "code",
   "execution_count": 79,
   "metadata": {
    "collapsed": true
   },
   "outputs": [],
   "source": [
    "from sklearn.linear_model import LinearRegression\n",
    "from sklearn.metrics import mean_squared_error"
   ]
  },
  {
   "cell_type": "code",
   "execution_count": 92,
   "metadata": {
    "collapsed": false
   },
   "outputs": [],
   "source": [
    "columns = train.columns\n",
    "drop_columns = ['cnt','casual','dteday','registered']\n",
    "features = columns.drop(drop_columns)\n",
    "target = 'cnt'"
   ]
  },
  {
   "cell_type": "code",
   "execution_count": 188,
   "metadata": {
    "collapsed": true
   },
   "outputs": [],
   "source": [
    "def lr_train_and_test(train, test, features, target):\n",
    "    model = LinearRegression()\n",
    "    model.fit(train[features], train[target])\n",
    "    \n",
    "    # train and test prediction to see if the model is overfitting or underfitting.\n",
    "    predictions = model.predict(test[features])\n",
    "    train_predictions = model.predict(train[features])\n",
    "    \n",
    "    # Applying error metrics\n",
    "    mse = mean_squared_error(test[target], predictions)\n",
    "    train_mse = mean_squared_error(train[target], train_predictions)\n",
    "    rmse = mse**(1/2)\n",
    "    train_rmse = train_mse**(1/2)\n",
    "    return rmse, train_rmse"
   ]
  },
  {
   "cell_type": "code",
   "execution_count": 189,
   "metadata": {
    "collapsed": false
   },
   "outputs": [
    {
     "data": {
      "text/plain": [
       "'test_rmse:130.5837848710458, train_rmse:132.6074938336205'"
      ]
     },
     "execution_count": 189,
     "metadata": {},
     "output_type": "execute_result"
    }
   ],
   "source": [
    "\"test_rmse:{}, train_rmse:{}\".format(lr_train_and_test(train, test, features, target)[0], lr_train_and_test(train, test, features, target)[1])"
   ]
  },
  {
   "cell_type": "code",
   "execution_count": 95,
   "metadata": {
    "collapsed": false
   },
   "outputs": [
    {
     "data": {
      "text/plain": [
       "181.38759909186473"
      ]
     },
     "execution_count": 95,
     "metadata": {},
     "output_type": "execute_result"
    }
   ],
   "source": [
    "bike_rentals['cnt'].std()"
   ]
  },
  {
   "cell_type": "markdown",
   "metadata": {},
   "source": [
    "With the default linear regression we got 130.58 as the error. Which doesn't seem to be very impressive, but not bad either considering that the standard deviation is 181.39. \n",
    "\n",
    "The model doesn't seem to be overfitting either. There is only small difference in the test and train RMSE.\n",
    "\n",
    "Let's try other algorithm."
   ]
  },
  {
   "cell_type": "markdown",
   "metadata": {},
   "source": [
    "## Applying Decision Trees\n",
    "\n",
    "Decision trees tend to predict outcomes much more reliably than linear regression models. Because a decision tree is a fairly complex model, it also tends to overfit, particularly when we don't tweak parameters like maximum depth and minimum number of samples per leaf. Decision trees are also prone to instability -- small changes in the input data can result in a very different output model."
   ]
  },
  {
   "cell_type": "code",
   "execution_count": 186,
   "metadata": {
    "collapsed": true
   },
   "outputs": [],
   "source": [
    "from sklearn.tree import DecisionTreeRegressor\n",
    "\n",
    "def dt_train_and_test(train, test, features, target):\n",
    "    model = DecisionTreeRegressor()\n",
    "    model.fit(train[features], train[target])\n",
    "    \n",
    "    # train and test prediction to see if the model is overfitting or underfitting.\n",
    "    predictions = model.predict(test[features])\n",
    "    train_predictions = model.predict(train[features])\n",
    "    \n",
    "    # Applying error metrics\n",
    "    mse = mean_squared_error(test[target], predictions)\n",
    "    train_mse = mean_squared_error(train[target], train_predictions)\n",
    "    rmse = mse**(1/2)\n",
    "    train_rmse = train_mse**(1/2)\n",
    "    return rmse, train_rmse"
   ]
  },
  {
   "cell_type": "code",
   "execution_count": 187,
   "metadata": {
    "collapsed": false
   },
   "outputs": [
    {
     "data": {
      "text/plain": [
       "'test_rmse:57.40675633745188, train_rmse:0.0'"
      ]
     },
     "execution_count": 187,
     "metadata": {},
     "output_type": "execute_result"
    }
   ],
   "source": [
    "\"test_rmse:{}, train_rmse:{}\".format(dt_train_and_test(train, test, features, target)[0], dt_train_and_test(train, test, features, target)[1])"
   ]
  },
  {
   "cell_type": "markdown",
   "metadata": {},
   "source": [
    "The model improved compare to linear regression. However, it came back with train RMSE as 0. Which means, the model is probably overfitting. Let's tweak around hyper parameter and see if that solves the overfitting problem."
   ]
  },
  {
   "cell_type": "markdown",
   "metadata": {},
   "source": [
    "### Pruning (Max Depth)"
   ]
  },
  {
   "cell_type": "code",
   "execution_count": 183,
   "metadata": {
    "collapsed": true
   },
   "outputs": [],
   "source": [
    "from sklearn.tree import DecisionTreeRegressor\n",
    "\n",
    "def dt_train_and_test(train, test, features, target, max_depth = 10):\n",
    "    model = DecisionTreeRegressor(max_depth=max_depth)\n",
    "    model.fit(train[features], train[target])\n",
    "    \n",
    "    # train and test prediction to see if the model is overfitting or underfitting.\n",
    "    predictions = model.predict(test[features])\n",
    "    train_predictions = model.predict(train[features])\n",
    "    \n",
    "    # Applying error metrics\n",
    "    mse = mean_squared_error(test[target], predictions)\n",
    "    train_mse = mean_squared_error(train[target], train_predictions)\n",
    "    rmse = mse**(1/2)\n",
    "    train_rmse = train_mse**(1/2)\n",
    "    return rmse, train_rmse"
   ]
  },
  {
   "cell_type": "code",
   "execution_count": 184,
   "metadata": {
    "collapsed": false
   },
   "outputs": [
    {
     "data": {
      "text/plain": [
       "'test_rmse:61.33490195936137, train_rmse:48.38933791987952'"
      ]
     },
     "execution_count": 184,
     "metadata": {},
     "output_type": "execute_result"
    }
   ],
   "source": [
    "\"test_rmse:{}, train_rmse:{}\".format(dt_train_and_test(train, test, features, target)[0], dt_train_and_test(train, test, features, target)[1])"
   ]
  },
  {
   "cell_type": "code",
   "execution_count": 185,
   "metadata": {
    "collapsed": false
   },
   "outputs": [
    {
     "data": {
      "text/plain": [
       "<matplotlib.collections.PathCollection at 0x7f78e1f22a58>"
      ]
     },
     "execution_count": 185,
     "metadata": {},
     "output_type": "execute_result"
    },
    {
     "data": {
      "image/png": "[encoded data removed]",
      "text/plain": [
       "<matplotlib.figure.Figure at 0x7f78e1f56b00>"
      ]
     },
     "metadata": {},
     "output_type": "display_data"
    }
   ],
   "source": [
    "train_rmses = {}\n",
    "test_rmses = {}\n",
    "\n",
    "for depth in range(5, 20):\n",
    "    rmse = dt_train_and_test(train,test,features,target, max_depth= depth)\n",
    "    train_rmses[depth] = rmse[1]\n",
    "    test_rmses[depth] = rmse[0]\n",
    "\n",
    "plt.scatter(x=list(train_rmses.keys()), y = list(train_rmses.values()), color = 'red')\n",
    "plt.scatter(x=list(test_rmses.keys()), y = list(test_rmses.values()))"
   ]
  },
  {
   "cell_type": "markdown",
   "metadata": {},
   "source": [
    "From the graph above, the overfitting starts when the depth is past 8. The model is improving until around max_depth is 11 however. After that it stops improving and continuing to overfit. Let's see if adjusting model complexity helps it with the overfitting. "
   ]
  },
  {
   "cell_type": "markdown",
   "metadata": {},
   "source": [
    "### Model Complexity\n",
    "\n",
    "Now that we know the model continues to improve until max depth 11, let's see if adjusting min_samples_leaf helps the model."
   ]
  },
  {
   "cell_type": "code",
   "execution_count": 180,
   "metadata": {
    "collapsed": false
   },
   "outputs": [],
   "source": [
    "from sklearn.tree import DecisionTreeRegressor\n",
    "\n",
    "def dt_train_and_test(train, test, features, target, max_depth = 11, min_samples_leaf = 50):\n",
    "    model = DecisionTreeRegressor(max_depth=max_depth, min_samples_leaf = min_samples_leaf)\n",
    "    model.fit(train[features], train[target])\n",
    "    \n",
    "    # train and test prediction to see if the model is overfitting or underfitting.\n",
    "    predictions = model.predict(test[features])\n",
    "    train_predictions = model.predict(train[features])\n",
    "    \n",
    "    # Applying error metrics\n",
    "    mse = mean_squared_error(test[target], predictions)\n",
    "    train_mse = mean_squared_error(train[target], train_predictions)\n",
    "    rmse = mse**(1/2)\n",
    "    train_rmse = train_mse**(1/2)\n",
    "    return rmse, train_rmse\n"
   ]
  },
  {
   "cell_type": "code",
   "execution_count": 181,
   "metadata": {
    "collapsed": false
   },
   "outputs": [
    {
     "data": {
      "text/plain": [
       "<matplotlib.collections.PathCollection at 0x7f78e24d8d30>"
      ]
     },
     "execution_count": 181,
     "metadata": {},
     "output_type": "execute_result"
    },
    {
     "data": {
      "image/png": "[encoded data removed]",
      "text/plain": [
       "<matplotlib.figure.Figure at 0x7f78e1fe7c88>"
      ]
     },
     "metadata": {},
     "output_type": "display_data"
    }
   ],
   "source": [
    "train_rmses = {}\n",
    "test_rmses = {}\n",
    "\n",
    "for leaf in range(250, 40, -10):\n",
    "    rmse = dt_train_and_test(train,test,features,target, max_depth= depth, min_samples_leaf = leaf)\n",
    "    train_rmses[leaf] = rmse[1]\n",
    "    test_rmses[leaf] = rmse[0]\n",
    "\n",
    "plt.scatter(x=list(train_rmses.keys()), y = list(train_rmses.values()), color = 'red')\n",
    "plt.scatter(x=list(test_rmses.keys()), y = list(test_rmses.values()))"
   ]
  },
  {
   "cell_type": "code",
   "execution_count": 182,
   "metadata": {
    "collapsed": false
   },
   "outputs": [
    {
     "data": {
      "text/plain": [
       "{50: 58.729744722753466,\n",
       " 60: 61.65846154849201,\n",
       " 70: 63.61730124618192,\n",
       " 80: 65.51887140283515,\n",
       " 90: 68.72965062805096,\n",
       " 100: 77.48274721898115,\n",
       " 110: 81.59362953809335,\n",
       " 120: 85.01897880995158,\n",
       " 130: 87.11209375172488,\n",
       " 140: 87.41362515217008,\n",
       " 150: 88.22834634268172,\n",
       " 160: 90.83752317606898,\n",
       " 170: 91.87394858337339,\n",
       " 180: 93.86562011642614,\n",
       " 190: 95.15037713718431,\n",
       " 200: 96.70557498050786,\n",
       " 210: 96.8491404977466,\n",
       " 220: 96.8848961538293,\n",
       " 230: 97.19985148683125,\n",
       " 240: 97.23959262275721,\n",
       " 250: 97.245033101717}"
      ]
     },
     "execution_count": 182,
     "metadata": {},
     "output_type": "execute_result"
    }
   ],
   "source": [
    "train_rmses"
   ]
  },
  {
   "cell_type": "markdown",
   "metadata": {},
   "source": [
    "By reducing the min_samples_leaf, we brought up train error to 58.64 without hurting the test error. The model is now less overfitting. "
   ]
  },
  {
   "cell_type": "markdown",
   "metadata": {},
   "source": [
    "### Applying Random Forests\n",
    "\n",
    "Random forests tend to be much more accurate than simple models like linear regression. Due to the way random forests are constructed, they tend to overfit much less than decision trees. Random forests can still be prone to overfitting, though, so it's important to tune parameters like maximum depth and minimum samples per leaf."
   ]
  },
  {
   "cell_type": "code",
   "execution_count": 195,
   "metadata": {
    "collapsed": false
   },
   "outputs": [
    {
     "data": {
      "text/plain": [
       "'test_rmse:44.58302820482861, train_rmse:18.502247910224987'"
      ]
     },
     "execution_count": 195,
     "metadata": {},
     "output_type": "execute_result"
    }
   ],
   "source": [
    "from sklearn.ensemble import RandomForestRegressor\n",
    "\n",
    "## Training with the basic model.\n",
    "\n",
    "def rf_train_and_test(train, test, features, target):\n",
    "    model = RandomForestRegressor()\n",
    "    model.fit(train[features], train[target])\n",
    "    \n",
    "    # train and test prediction to see if the model is overfitting or underfitting.\n",
    "    predictions = model.predict(test[features])\n",
    "    train_predictions = model.predict(train[features])\n",
    "    \n",
    "    # Applying error metrics\n",
    "    mse = mean_squared_error(test[target], predictions)\n",
    "    train_mse = mean_squared_error(train[target], train_predictions)\n",
    "    rmse = mse**(1/2)\n",
    "    train_rmse = train_mse**(1/2)\n",
    "    return rmse, train_rmse\n",
    "\n",
    "\"test_rmse:{}, train_rmse:{}\".format(rf_train_and_test(train, test, features, target)[0], rf_train_and_test(train, test, features, target)[1])"
   ]
  },
  {
   "cell_type": "markdown",
   "metadata": {},
   "source": [
    "The model has improved. However it seems it's overfitting. Let's apply the same approach as before."
   ]
  },
  {
   "cell_type": "markdown",
   "metadata": {},
   "source": [
    "### Pruning"
   ]
  },
  {
   "cell_type": "code",
   "execution_count": 198,
   "metadata": {
    "collapsed": false
   },
   "outputs": [
    {
     "data": {
      "text/plain": [
       "'test_rmse:106.38829515762869, train_rmse:105.95194963762667'"
      ]
     },
     "execution_count": 198,
     "metadata": {},
     "output_type": "execute_result"
    }
   ],
   "source": [
    "from sklearn.ensemble import RandomForestRegressor\n",
    "\n",
    "## Training with the basic model.\n",
    "\n",
    "def rf_train_and_test(train, test, features, target, max_depth = 5):\n",
    "    model = RandomForestRegressor(max_depth = max_depth)\n",
    "    model.fit(train[features], train[target])\n",
    "    \n",
    "    # train and test prediction to see if the model is overfitting or underfitting.\n",
    "    predictions = model.predict(test[features])\n",
    "    train_predictions = model.predict(train[features])\n",
    "    \n",
    "    # Applying error metrics\n",
    "    mse = mean_squared_error(test[target], predictions)\n",
    "    train_mse = mean_squared_error(train[target], train_predictions)\n",
    "    rmse = mse**(1/2)\n",
    "    train_rmse = train_mse**(1/2)\n",
    "    return rmse, train_rmse\n",
    "\n",
    "\"test_rmse:{}, train_rmse:{}\".format(rf_train_and_test(train, test, features, target)[0], rf_train_and_test(train, test, features, target)[1])"
   ]
  },
  {
   "cell_type": "code",
   "execution_count": 199,
   "metadata": {
    "collapsed": false
   },
   "outputs": [
    {
     "data": {
      "text/plain": [
       "<matplotlib.collections.PathCollection at 0x7f78e1e82eb8>"
      ]
     },
     "execution_count": 199,
     "metadata": {},
     "output_type": "execute_result"
    },
    {
     "data": {
      "image/png": "[encoded data removed]",
      "text/plain": [
       "<matplotlib.figure.Figure at 0x7f78e1fcbac8>"
      ]
     },
     "metadata": {},
     "output_type": "display_data"
    }
   ],
   "source": [
    "train_rmses = {}\n",
    "test_rmses = {}\n",
    "\n",
    "for depth in range(5, 20):\n",
    "    rmse = rf_train_and_test(train,test,features,target, max_depth= depth)\n",
    "    train_rmses[depth] = rmse[1]\n",
    "    test_rmses[depth] = rmse[0]\n",
    "\n",
    "plt.scatter(x=list(train_rmses.keys()), y = list(train_rmses.values()), color = 'red')\n",
    "plt.scatter(x=list(test_rmses.keys()), y = list(test_rmses.values()))"
   ]
  },
  {
   "cell_type": "markdown",
   "metadata": {},
   "source": [
    "The models doesn't seem to be impoved. "
   ]
  },
  {
   "cell_type": "markdown",
   "metadata": {},
   "source": [
    "### Complexity"
   ]
  },
  {
   "cell_type": "code",
   "execution_count": 225,
   "metadata": {
    "collapsed": false
   },
   "outputs": [
    {
     "data": {
      "text/plain": [
       "'test_rmse:49.30636249871798, train_rmse:39.81736522879251'"
      ]
     },
     "execution_count": 225,
     "metadata": {},
     "output_type": "execute_result"
    }
   ],
   "source": [
    "from sklearn.ensemble import RandomForestRegressor\n",
    "\n",
    "## Training with the basic model.\n",
    "\n",
    "def rf_train_and_test(train, test, features, target, min_samples_leaf = 10):\n",
    "    model = RandomForestRegressor( min_samples_leaf = min_samples_leaf)\n",
    "    model.fit(train[features], train[target])\n",
    "    \n",
    "    # train and test prediction to see if the model is overfitting or underfitting.\n",
    "    predictions = model.predict(test[features])\n",
    "    train_predictions = model.predict(train[features])\n",
    "    \n",
    "    # Applying error metrics\n",
    "    mse = mean_squared_error(test[target], predictions)\n",
    "    train_mse = mean_squared_error(train[target], train_predictions)\n",
    "    rmse = mse**(1/2)\n",
    "    train_rmse = train_mse**(1/2)\n",
    "    return rmse, train_rmse\n",
    "\n",
    "\"test_rmse:{}, train_rmse:{}\".format(rf_train_and_test(train, test, features, target)[0], rf_train_and_test(train, test, features, target)[1])"
   ]
  },
  {
   "cell_type": "code",
   "execution_count": 227,
   "metadata": {
    "collapsed": false
   },
   "outputs": [
    {
     "data": {
      "text/plain": [
       "<matplotlib.collections.PathCollection at 0x7f78e1abc940>"
      ]
     },
     "execution_count": 227,
     "metadata": {},
     "output_type": "execute_result"
    },
    {
     "data": {
      "image/png": "[encoded data removed]",
      "text/plain": [
       "<matplotlib.figure.Figure at 0x7f78e1b25048>"
      ]
     },
     "metadata": {},
     "output_type": "display_data"
    }
   ],
   "source": [
    "train_rmses = {}\n",
    "test_rmses = {}\n",
    "\n",
    "for leaf in range(20, 0,-1):\n",
    "    rmse = rf_train_and_test(train,test,features,target, min_samples_leaf = leaf)\n",
    "    train_rmses[leaf] = rmse[1]\n",
    "    test_rmses[leaf] = rmse[0]\n",
    "\n",
    "plt.scatter(x=list(train_rmses.keys()), y = list(train_rmses.values()), color = 'red')\n",
    "plt.scatter(x=list(test_rmses.keys()), y = list(test_rmses.values()))"
   ]
  },
  {
   "cell_type": "markdown",
   "metadata": {},
   "source": [
    "The error slightly increased, but the model is generalizing better. "
   ]
  },
  {
   "cell_type": "markdown",
   "metadata": {},
   "source": [
    "### n_estimator"
   ]
  },
  {
   "cell_type": "code",
   "execution_count": 228,
   "metadata": {
    "collapsed": false
   },
   "outputs": [
    {
     "data": {
      "text/plain": [
       "'test_rmse:48.19122585273032, train_rmse:37.21658770640586'"
      ]
     },
     "execution_count": 228,
     "metadata": {},
     "output_type": "execute_result"
    }
   ],
   "source": [
    "from sklearn.ensemble import RandomForestRegressor\n",
    "\n",
    "## Training with the basic model.\n",
    "\n",
    "def rf_train_and_test(train, test, features, target, min_samples_leaf= 8, n_estimators = 10):\n",
    "    model = RandomForestRegressor(min_samples_leaf = min_samples_leaf, n_estimators= n_estimators)\n",
    "    model.fit(train[features], train[target])\n",
    "    \n",
    "    # train and test prediction to see if the model is overfitting or underfitting.\n",
    "    predictions = model.predict(test[features])\n",
    "    train_predictions = model.predict(train[features])\n",
    "    \n",
    "    # Applying error metrics\n",
    "    mse = mean_squared_error(test[target], predictions)\n",
    "    train_mse = mean_squared_error(train[target], train_predictions)\n",
    "    rmse = mse**(1/2)\n",
    "    train_rmse = train_mse**(1/2)\n",
    "    return rmse, train_rmse\n",
    "\n",
    "\"test_rmse:{}, train_rmse:{}\".format(rf_train_and_test(train, test, features, target)[0], rf_train_and_test(train, test, features, target)[1])"
   ]
  },
  {
   "cell_type": "code",
   "execution_count": 229,
   "metadata": {
    "collapsed": false
   },
   "outputs": [
    {
     "data": {
      "text/plain": [
       "<matplotlib.collections.PathCollection at 0x7f78e1a27d30>"
      ]
     },
     "execution_count": 229,
     "metadata": {},
     "output_type": "execute_result"
    },
    {
     "data": {
      "image/png": "[encoded data removed]",
      "text/plain": [
       "<matplotlib.figure.Figure at 0x7f78e1c68550>"
      ]
     },
     "metadata": {},
     "output_type": "display_data"
    }
   ],
   "source": [
    "train_rmses = {}\n",
    "test_rmses = {}\n",
    "\n",
    "for n in range(1, 50):\n",
    "    rmse = rf_train_and_test(train,test,features,target,n_estimators=n)\n",
    "    train_rmses[n] = rmse[1]\n",
    "    test_rmses[n] = rmse[0]\n",
    "\n",
    "plt.scatter(x=list(train_rmses.keys()), y = list(train_rmses.values()), color = 'red')\n",
    "plt.scatter(x=list(test_rmses.keys()), y = list(test_rmses.values()))"
   ]
  },
  {
   "cell_type": "markdown",
   "metadata": {},
   "source": [
    "## Conclusion\n",
    "\n",
    "We explored, the bike rentals prediction with difference models. "
   ]
  }
 ],
 "metadata": {
  "kernelspec": {
   "display_name": "Python 3",
   "language": "python",
   "name": "python3"
  },
  "language_info": {
   "codemirror_mode": {
    "name": "ipython",
    "version": 3
   },
   "file_extension": ".py",
   "mimetype": "text/x-python",
   "name": "python",
   "nbconvert_exporter": "python",
   "pygments_lexer": "ipython3",
   "version": "3.4.3"
  }
 },
 "nbformat": 4,
 "nbformat_minor": 0
}
