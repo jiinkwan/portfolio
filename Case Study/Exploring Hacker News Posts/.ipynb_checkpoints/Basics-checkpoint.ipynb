{
 "cells": [
  {
   "cell_type": "markdown",
   "metadata": {
    "collapsed": true
   },
   "source": [
    "# Exploring Hacker News Posts\n",
    "\n",
    "Hacker News is a site started by the startup incubator Y Combinator, where user-submitted stories (known as \"posts\") are voted and commented upon, similar to reddit. Hacker News is extremely popular in technology and startup circles, and posts that make it to the top of Hacker News' listings can get hundreds of thousands of visitors as a result.\n",
    "\n",
    "You can find the data set [here](https://www.kaggle.com/hacker-news/hacker-news-posts), but note that it has been reduced from almost 300,000 rows to approximately 20,000 rows by removing all submissions that did not receive any comments, and then randomly sampling from the remaining submissions. Below are descriptions of the columns:\n",
    "\n",
    "- id: The unique identifier from Hacker News for the post\n",
    "title: The title of the post\n",
    "- url: The URL that the posts links to, if it the post has a URL\n",
    "- num_points: The number of points the post acquired, calculated as the total number of upvotes minus the total number of downvotes\n",
    "- num_comments: The number of comments that were made on the post\n",
    "- author: The username of the person who submitted the post\n",
    "- created_at: The date and time at which the post was submitted\n",
    "\n",
    "We're specifically interested in posts whose titles begin with either ***Ask HN*** or ***Show HN***. Users submit ***Ask HN*** posts to ask the Hacker News community a specific question. Below are a couple examples:\n",
    "\n",
    "```\n",
    "Ask HN: How to improve my personal website?\n",
    "Ask HN: Am I the only one outraged by Twitter shutting down share counts?\n",
    "Ask HN: Aby recent changes to CSS that broke mobile?\n",
    "```\n",
    "\n",
    "Likewise, users submit ***Show HN*** posts to show the Hacker News community a project, product, or just generally something interesting. Below are a couple of examples:\n",
    "\n",
    "```\n",
    "Show HN: Wio Link  ESP8266 Based Web of Things Hardware Development Platform'\n",
    "Show HN: Something pointless I made\n",
    "Show HN: Shanhu.io, a programming playground powered by e8vm\n",
    "```"
   ]
  },
  {
   "cell_type": "markdown",
   "metadata": {},
   "source": [
    "We'll compare these two types of posts to determine the following:\n",
    "\n",
    "- Do Ask HN or Show HN receive more comments on average?\n",
    "- Do posts created at a certain time receive more comments on average?"
   ]
  },
  {
   "cell_type": "code",
   "execution_count": 17,
   "metadata": {
    "collapsed": false
   },
   "outputs": [],
   "source": [
    "from csv import reader\n",
    "\n",
    "opened_file = open('hacker_news.csv')\n",
    "read_file = reader(opened_file)\n",
    "full = list(read_file)\n",
    "headers = full[0]\n",
    "hn = full[1:]"
   ]
  },
  {
   "cell_type": "code",
   "execution_count": 18,
   "metadata": {
    "collapsed": true
   },
   "outputs": [],
   "source": [
    "ask_posts = []\n",
    "show_posts = []\n",
    "other_posts = []"
   ]
  },
  {
   "cell_type": "code",
   "execution_count": 19,
   "metadata": {
    "collapsed": true
   },
   "outputs": [],
   "source": [
    "for row in hn:\n",
    "    title = row[1].lower()\n",
    "    if title.startswith('ask'):\n",
    "        ask_posts.append(row)\n",
    "    elif title.startswith('show'):\n",
    "        show_posts.append(row)\n",
    "    else:\n",
    "        other_posts.append(row)\n",
    "        \n",
    "        "
   ]
  },
  {
   "cell_type": "code",
   "execution_count": 20,
   "metadata": {
    "collapsed": false
   },
   "outputs": [
    {
     "name": "stdout",
     "output_type": "stream",
     "text": [
      "1756 1164 17180\n"
     ]
    }
   ],
   "source": [
    "print(len(ask_posts), len(show_posts), len(other_posts))"
   ]
  },
  {
   "cell_type": "code",
   "execution_count": 24,
   "metadata": {
    "collapsed": false
   },
   "outputs": [],
   "source": [
    "total_ask_comments = 0\n",
    "\n",
    "for row in ask_posts:\n",
    "    num_comments = int(row[4])\n",
    "    total_ask_comments += num_comments\n",
    "    \n",
    "avg_ask_comments = total_ask_comments / len(ask_posts)"
   ]
  },
  {
   "cell_type": "code",
   "execution_count": 26,
   "metadata": {
    "collapsed": false
   },
   "outputs": [
    {
     "data": {
      "text/plain": [
       "14.203302961275627"
      ]
     },
     "execution_count": 26,
     "metadata": {},
     "output_type": "execute_result"
    }
   ],
   "source": [
    "avg_ask_comments"
   ]
  },
  {
   "cell_type": "code",
   "execution_count": 27,
   "metadata": {
    "collapsed": true
   },
   "outputs": [],
   "source": [
    "total_show_comments = 0\n",
    "\n",
    "for row in show_posts:\n",
    "    num_comments = int(row[4])\n",
    "    total_show_comments += num_comments\n",
    "    \n",
    "avg_show_comments = total_show_comments / len(show_posts)"
   ]
  },
  {
   "cell_type": "code",
   "execution_count": 28,
   "metadata": {
    "collapsed": false
   },
   "outputs": [
    {
     "data": {
      "text/plain": [
       "10.323024054982818"
      ]
     },
     "execution_count": 28,
     "metadata": {},
     "output_type": "execute_result"
    }
   ],
   "source": [
    "avg_show_comments"
   ]
  },
  {
   "cell_type": "markdown",
   "metadata": {},
   "source": [
    "From the result above, we can conclude that on average, ***ask HN*** receives more comments than ***show HN***.\n",
    "\n",
    "Now that we know ***ask HN*** receives more comments, we will focus on ask posts than show posts on what time it receives the most comments."
   ]
  },
  {
   "cell_type": "code",
   "execution_count": 29,
   "metadata": {
    "collapsed": true
   },
   "outputs": [],
   "source": [
    "import datetime as dt"
   ]
  },
  {
   "cell_type": "code",
   "execution_count": 33,
   "metadata": {
    "collapsed": false
   },
   "outputs": [],
   "source": [
    "result_list = []\n",
    "\n",
    "for row in ask_posts:\n",
    "    result_list.append([row[6],\n",
    "                    int(row[4])])"
   ]
  },
  {
   "cell_type": "code",
   "execution_count": 39,
   "metadata": {
    "collapsed": false
   },
   "outputs": [],
   "source": [
    "counts_by_hour = {}\n",
    "comments_by_hour = {}\n",
    "\n",
    "for row in result_list:\n",
    "    date = dt.datetime.strptime(row[0],\"%m/%d/%Y %H:%M\")\n",
    "    if date.hour not in counts_by_hour:\n",
    "        counts_by_hour[date.hour] = 1\n",
    "        comments_by_hour[date.hour] = row[1]\n",
    "    else:\n",
    "        counts_by_hour[date.hour] += 1\n",
    "        comments_by_hour[date.hour] += row[1]"
   ]
  },
  {
   "cell_type": "code",
   "execution_count": 40,
   "metadata": {
    "collapsed": false
   },
   "outputs": [
    {
     "data": {
      "text/plain": [
       "{0: 55,\n",
       " 1: 60,\n",
       " 2: 58,\n",
       " 3: 55,\n",
       " 4: 48,\n",
       " 5: 46,\n",
       " 6: 44,\n",
       " 7: 34,\n",
       " 8: 48,\n",
       " 9: 45,\n",
       " 10: 60,\n",
       " 11: 58,\n",
       " 12: 73,\n",
       " 13: 86,\n",
       " 14: 110,\n",
       " 15: 116,\n",
       " 16: 109,\n",
       " 17: 100,\n",
       " 18: 109,\n",
       " 19: 112,\n",
       " 20: 80,\n",
       " 21: 109,\n",
       " 22: 71,\n",
       " 23: 70}"
      ]
     },
     "execution_count": 40,
     "metadata": {},
     "output_type": "execute_result"
    }
   ],
   "source": [
    "counts_by_hour"
   ]
  },
  {
   "cell_type": "code",
   "execution_count": 41,
   "metadata": {
    "collapsed": false
   },
   "outputs": [
    {
     "data": {
      "text/plain": [
       "{0: 447,\n",
       " 1: 683,\n",
       " 2: 1381,\n",
       " 3: 459,\n",
       " 4: 339,\n",
       " 5: 464,\n",
       " 6: 397,\n",
       " 7: 267,\n",
       " 8: 492,\n",
       " 9: 251,\n",
       " 10: 794,\n",
       " 11: 641,\n",
       " 12: 687,\n",
       " 13: 1254,\n",
       " 14: 1420,\n",
       " 15: 4477,\n",
       " 16: 1949,\n",
       " 17: 1146,\n",
       " 18: 1439,\n",
       " 19: 1295,\n",
       " 20: 1722,\n",
       " 21: 1745,\n",
       " 22: 479,\n",
       " 23: 713}"
      ]
     },
     "execution_count": 41,
     "metadata": {},
     "output_type": "execute_result"
    }
   ],
   "source": [
    "comments_by_hour"
   ]
  },
  {
   "cell_type": "code",
   "execution_count": 42,
   "metadata": {
    "collapsed": false
   },
   "outputs": [
    {
     "data": {
      "text/plain": [
       "[[0, 8.127272727272727],\n",
       " [1, 11.383333333333333],\n",
       " [2, 23.810344827586206],\n",
       " [3, 8.345454545454546],\n",
       " [4, 7.0625],\n",
       " [5, 10.08695652173913],\n",
       " [6, 9.022727272727273],\n",
       " [7, 7.852941176470588],\n",
       " [8, 10.25],\n",
       " [9, 5.5777777777777775],\n",
       " [10, 13.233333333333333],\n",
       " [11, 11.051724137931034],\n",
       " [12, 9.41095890410959],\n",
       " [13, 14.581395348837209],\n",
       " [14, 12.909090909090908],\n",
       " [15, 38.5948275862069],\n",
       " [16, 17.880733944954127],\n",
       " [17, 11.46],\n",
       " [18, 13.20183486238532],\n",
       " [19, 11.5625],\n",
       " [20, 21.525],\n",
       " [21, 16.009174311926607],\n",
       " [22, 6.746478873239437],\n",
       " [23, 10.185714285714285]]"
      ]
     },
     "execution_count": 42,
     "metadata": {},
     "output_type": "execute_result"
    }
   ],
   "source": [
    "avg_by_hour = []\n",
    "\n",
    "for hour in comments_by_hour:\n",
    "    avg_by_hour.append([hour, \n",
    "                        comments_by_hour[hour]/ counts_by_hour[hour]])\n",
    "    \n",
    "avg_by_hour"
   ]
  },
  {
   "cell_type": "markdown",
   "metadata": {},
   "source": [
    "It's little hard to see which posts within certain hour gets the most comments. Let's sort it. "
   ]
  },
  {
   "cell_type": "code",
   "execution_count": 44,
   "metadata": {
    "collapsed": false
   },
   "outputs": [],
   "source": [
    "swap_avg_by_hour = []\n",
    "\n",
    "for row in avg_by_hour:\n",
    "    swap_avg_by_hour.append([row[1], row[0]])"
   ]
  },
  {
   "cell_type": "code",
   "execution_count": 47,
   "metadata": {
    "collapsed": false
   },
   "outputs": [],
   "source": [
    "sorted_swap = sorted(swap_avg_by_hour, reverse = True)"
   ]
  },
  {
   "cell_type": "markdown",
   "metadata": {},
   "source": [
    "Top 5 Hours for Ask Posts Comments"
   ]
  },
  {
   "cell_type": "code",
   "execution_count": 49,
   "metadata": {
    "collapsed": false
   },
   "outputs": [
    {
     "data": {
      "text/plain": [
       "[[38.5948275862069, 15],\n",
       " [23.810344827586206, 2],\n",
       " [21.525, 20],\n",
       " [17.880733944954127, 16],\n",
       " [16.009174311926607, 21]]"
      ]
     },
     "execution_count": 49,
     "metadata": {},
     "output_type": "execute_result"
    }
   ],
   "source": [
    "sorted_swap[0:5]"
   ]
  },
  {
   "cell_type": "code",
   "execution_count": 51,
   "metadata": {
    "collapsed": true
   },
   "outputs": [],
   "source": [
    "template = \"{hour}:00: {avg_com:.2f} average comments per post\""
   ]
  },
  {
   "cell_type": "code",
   "execution_count": 55,
   "metadata": {
    "collapsed": false
   },
   "outputs": [
    {
     "name": "stdout",
     "output_type": "stream",
     "text": [
      "15:00: 38.59 average comments per post\n",
      "2:00: 23.81 average comments per post\n",
      "20:00: 21.52 average comments per post\n",
      "16:00: 17.88 average comments per post\n",
      "21:00: 16.01 average comments per post\n"
     ]
    }
   ],
   "source": [
    "for row in sorted_swap[0:5]:\n",
    "    print(template.format(hour = row[1], avg_com = row[0]))"
   ]
  },
  {
   "cell_type": "markdown",
   "metadata": {},
   "source": [
    "From the result above we can conclude that if you want to get the most response, it's probably 3pm would be the best time to post in Hacker News. "
   ]
  },
  {
   "cell_type": "code",
   "execution_count": null,
   "metadata": {
    "collapsed": true
   },
   "outputs": [],
   "source": []
  }
 ],
 "metadata": {
  "kernelspec": {
   "display_name": "Python 3",
   "language": "python",
   "name": "python3"
  },
  "language_info": {
   "codemirror_mode": {
    "name": "ipython",
    "version": 3
   },
   "file_extension": ".py",
   "mimetype": "text/x-python",
   "name": "python",
   "nbconvert_exporter": "python",
   "pygments_lexer": "ipython3",
   "version": "3.4.3"
  }
 },
 "nbformat": 4,
 "nbformat_minor": 2
}
