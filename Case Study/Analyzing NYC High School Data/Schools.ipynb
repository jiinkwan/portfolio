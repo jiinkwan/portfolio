{
 "cells": [
  {
   "cell_type": "markdown",
   "metadata": {},
   "source": [
    "# Read in the data"
   ]
  },
  {
   "cell_type": "code",
   "execution_count": 1,
   "metadata": {
    "collapsed": true
   },
   "outputs": [],
   "source": [
    "import pandas as pd\n",
    "import numpy as np\n",
    "import re\n",
    "\n",
    "data_files = [\n",
    "    \"ap_2010.csv\",\n",
    "    \"class_size.csv\",\n",
    "    \"demographics.csv\",\n",
    "    \"graduation.csv\",\n",
    "    \"hs_directory.csv\",\n",
    "    \"sat_results.csv\"\n",
    "]\n",
    "\n",
    "data = {}\n",
    "\n",
    "for f in data_files:\n",
    "    d = pd.read_csv(\"schools/{0}\".format(f))\n",
    "    data[f.replace(\".csv\", \"\")] = d"
   ]
  },
  {
   "cell_type": "markdown",
   "metadata": {},
   "source": [
    "# Read in the surveys"
   ]
  },
  {
   "cell_type": "code",
   "execution_count": 2,
   "metadata": {
    "collapsed": true
   },
   "outputs": [],
   "source": [
    "all_survey = pd.read_csv(\"schools/survey_all.txt\", delimiter=\"\\t\", encoding='windows-1252')\n",
    "d75_survey = pd.read_csv(\"schools/survey_d75.txt\", delimiter=\"\\t\", encoding='windows-1252')\n",
    "survey = pd.concat([all_survey, d75_survey], axis=0)\n",
    "\n",
    "survey[\"DBN\"] = survey[\"dbn\"]\n",
    "\n",
    "survey_fields = [\n",
    "    \"DBN\", \n",
    "    \"rr_s\", \n",
    "    \"rr_t\", \n",
    "    \"rr_p\", \n",
    "    \"N_s\", \n",
    "    \"N_t\", \n",
    "    \"N_p\", \n",
    "    \"saf_p_11\", \n",
    "    \"com_p_11\", \n",
    "    \"eng_p_11\", \n",
    "    \"aca_p_11\", \n",
    "    \"saf_t_11\", \n",
    "    \"com_t_11\", \n",
    "    \"eng_t_11\", \n",
    "    \"aca_t_11\", \n",
    "    \"saf_s_11\", \n",
    "    \"com_s_11\", \n",
    "    \"eng_s_11\", \n",
    "    \"aca_s_11\", \n",
    "    \"saf_tot_11\", \n",
    "    \"com_tot_11\", \n",
    "    \"eng_tot_11\", \n",
    "    \"aca_tot_11\",\n",
    "]\n",
    "survey = survey.loc[:,survey_fields]\n",
    "data[\"survey\"] = survey"
   ]
  },
  {
   "cell_type": "markdown",
   "metadata": {},
   "source": [
    "# Add DBN columns"
   ]
  },
  {
   "cell_type": "code",
   "execution_count": 3,
   "metadata": {
    "collapsed": true
   },
   "outputs": [],
   "source": [
    "data[\"hs_directory\"][\"DBN\"] = data[\"hs_directory\"][\"dbn\"]\n",
    "\n",
    "def pad_csd(num):\n",
    "    string_representation = str(num)\n",
    "    if len(string_representation) > 1:\n",
    "        return string_representation\n",
    "    else:\n",
    "        return \"0\" + string_representation\n",
    "    \n",
    "data[\"class_size\"][\"padded_csd\"] = data[\"class_size\"][\"CSD\"].apply(pad_csd)\n",
    "data[\"class_size\"][\"DBN\"] = data[\"class_size\"][\"padded_csd\"] + data[\"class_size\"][\"SCHOOL CODE\"]"
   ]
  },
  {
   "cell_type": "markdown",
   "metadata": {},
   "source": [
    "# Convert columns to numeric"
   ]
  },
  {
   "cell_type": "code",
   "execution_count": 4,
   "metadata": {
    "collapsed": true
   },
   "outputs": [],
   "source": [
    "cols = ['SAT Math Avg. Score', 'SAT Critical Reading Avg. Score', 'SAT Writing Avg. Score']\n",
    "for c in cols:\n",
    "    data[\"sat_results\"][c] = pd.to_numeric(data[\"sat_results\"][c], errors=\"coerce\")\n",
    "\n",
    "data['sat_results']['sat_score'] = data['sat_results'][cols[0]] + data['sat_results'][cols[1]] + data['sat_results'][cols[2]]\n",
    "\n",
    "def find_lat(loc):\n",
    "    coords = re.findall(\"\\(.+, .+\\)\", loc)\n",
    "    lat = coords[0].split(\",\")[0].replace(\"(\", \"\")\n",
    "    return lat\n",
    "\n",
    "def find_lon(loc):\n",
    "    coords = re.findall(\"\\(.+, .+\\)\", loc)\n",
    "    lon = coords[0].split(\",\")[1].replace(\")\", \"\").strip()\n",
    "    return lon\n",
    "\n",
    "data[\"hs_directory\"][\"lat\"] = data[\"hs_directory\"][\"Location 1\"].apply(find_lat)\n",
    "data[\"hs_directory\"][\"lon\"] = data[\"hs_directory\"][\"Location 1\"].apply(find_lon)\n",
    "\n",
    "data[\"hs_directory\"][\"lat\"] = pd.to_numeric(data[\"hs_directory\"][\"lat\"], errors=\"coerce\")\n",
    "data[\"hs_directory\"][\"lon\"] = pd.to_numeric(data[\"hs_directory\"][\"lon\"], errors=\"coerce\")"
   ]
  },
  {
   "cell_type": "markdown",
   "metadata": {},
   "source": [
    "# Condense datasets"
   ]
  },
  {
   "cell_type": "code",
   "execution_count": 5,
   "metadata": {
    "collapsed": false
   },
   "outputs": [],
   "source": [
    "class_size = data[\"class_size\"]\n",
    "class_size = class_size[class_size[\"GRADE \"] == \"09-12\"]\n",
    "class_size = class_size[class_size[\"PROGRAM TYPE\"] == \"GEN ED\"]\n",
    "\n",
    "class_size = class_size.groupby(\"DBN\").agg(np.mean)\n",
    "class_size.reset_index(inplace=True)\n",
    "data[\"class_size\"] = class_size\n",
    "\n",
    "data[\"demographics\"] = data[\"demographics\"][data[\"demographics\"][\"schoolyear\"] == 20112012]\n",
    "\n",
    "data[\"graduation\"] = data[\"graduation\"][data[\"graduation\"][\"Cohort\"] == \"2006\"]\n",
    "data[\"graduation\"] = data[\"graduation\"][data[\"graduation\"][\"Demographic\"] == \"Total Cohort\"]"
   ]
  },
  {
   "cell_type": "markdown",
   "metadata": {},
   "source": [
    "# Convert AP scores to numeric"
   ]
  },
  {
   "cell_type": "code",
   "execution_count": 6,
   "metadata": {
    "collapsed": true
   },
   "outputs": [],
   "source": [
    "cols = ['AP Test Takers ', 'Total Exams Taken', 'Number of Exams with scores 3 4 or 5']\n",
    "\n",
    "for col in cols:\n",
    "    data[\"ap_2010\"][col] = pd.to_numeric(data[\"ap_2010\"][col], errors=\"coerce\")"
   ]
  },
  {
   "cell_type": "markdown",
   "metadata": {},
   "source": [
    "# Combine the datasets"
   ]
  },
  {
   "cell_type": "code",
   "execution_count": 7,
   "metadata": {
    "collapsed": true
   },
   "outputs": [],
   "source": [
    "combined = data[\"sat_results\"]\n",
    "\n",
    "combined = combined.merge(data[\"ap_2010\"], on=\"DBN\", how=\"left\")\n",
    "combined = combined.merge(data[\"graduation\"], on=\"DBN\", how=\"left\")\n",
    "\n",
    "to_merge = [\"class_size\", \"demographics\", \"survey\", \"hs_directory\"]\n",
    "\n",
    "for m in to_merge:\n",
    "    combined = combined.merge(data[m], on=\"DBN\", how=\"inner\")\n",
    "\n",
    "combined = combined.fillna(combined.mean())\n",
    "combined = combined.fillna(0)"
   ]
  },
  {
   "cell_type": "markdown",
   "metadata": {},
   "source": [
    "# Add a school district column for mapping"
   ]
  },
  {
   "cell_type": "code",
   "execution_count": 8,
   "metadata": {
    "collapsed": true
   },
   "outputs": [],
   "source": [
    "def get_first_two_chars(dbn):\n",
    "    return dbn[0:2]\n",
    "\n",
    "combined[\"school_dist\"] = combined[\"DBN\"].apply(get_first_two_chars)"
   ]
  },
  {
   "cell_type": "markdown",
   "metadata": {},
   "source": [
    "New York City has published data on student SAT scores by high school, along with additional demographic data sets. Above, we combined the following data sets into a single, clean pandas dataframe:  \n",
    "\n",
    "- SAT scores by school - SAT scores for each high school in New York City\n",
    "- School attendance - Attendance information for each school in New York City\n",
    "- Class size - Information on class size for each school\n",
    "- AP test results - Advanced Placement (AP) exam results for each high school (passing an optional AP exam in a particular subject can earn a student college credit in that subject)\n",
    "- Graduation outcomes - The percentage of students who graduated, and other outcome information\n",
    "- Demographics - Demographic information for each school\n",
    "- School survey - Surveys of parents, teachers, and students at each school  \n",
    "\n",
    "New York City has a significant immigrant population and is very diverse, so comparing demographic factors such as race, income, and gender with SAT scores is a good way to determine whether the SAT is a fair test. For example, if certain racial groups consistently perform better on the SAT, we would have some evidence that the SAT is unfair."
   ]
  },
  {
   "cell_type": "markdown",
   "metadata": {},
   "source": [
    "# Find correlations"
   ]
  },
  {
   "cell_type": "code",
   "execution_count": 9,
   "metadata": {
    "collapsed": false
   },
   "outputs": [],
   "source": [
    "correlations = combined.corr()\n",
    "correlations = correlations[\"sat_score\"]\n",
    "#print(correlations)"
   ]
  },
  {
   "cell_type": "code",
   "execution_count": 10,
   "metadata": {
    "collapsed": false
   },
   "outputs": [
    {
     "data": {
      "text/plain": [
       "SAT Critical Reading Avg. Score         0.986820\n",
       "SAT Math Avg. Score                     0.972643\n",
       "SAT Writing Avg. Score                  0.987771\n",
       "sat_score                               1.000000\n",
       "AP Test Takers                          0.523140\n",
       "Total Exams Taken                       0.514333\n",
       "Number of Exams with scores 3 4 or 5    0.463245\n",
       "Total Cohort                            0.325144\n",
       "NUMBER OF STUDENTS / SEATS FILLED       0.394626\n",
       "NUMBER OF SECTIONS                      0.362673\n",
       "AVERAGE CLASS SIZE                      0.381014\n",
       "SIZE OF LARGEST CLASS                   0.314434\n",
       "frl_percent                            -0.722225\n",
       "total_enrollment                        0.367857\n",
       "ell_percent                            -0.398750\n",
       "sped_percent                           -0.448170\n",
       "asian_num                               0.475445\n",
       "asian_per                               0.570730\n",
       "black_per                              -0.284139\n",
       "hispanic_per                           -0.396985\n",
       "white_num                               0.449559\n",
       "white_per                               0.620718\n",
       "male_num                                0.325520\n",
       "female_num                              0.388631\n",
       "N_s                                     0.423463\n",
       "N_t                                     0.291463\n",
       "N_p                                     0.421530\n",
       "saf_t_11                                0.313810\n",
       "saf_s_11                                0.337639\n",
       "aca_s_11                                0.339435\n",
       "saf_tot_11                              0.318753\n",
       "total_students                          0.407827\n",
       "Name: sat_score, dtype: float64"
      ]
     },
     "execution_count": 10,
     "metadata": {},
     "output_type": "execute_result"
    }
   ],
   "source": [
    "correlations[abs(correlations) > abs(0.25)]"
   ]
  },
  {
   "cell_type": "markdown",
   "metadata": {},
   "source": [
    "From the result above, it looks like white percentage(white_per column) has the strongest correlations with sat score floowed by asian percentage(asian_per column).\n",
    "\n",
    "The strongest negative correlations is free-and-reduced-price lunch program (FRL) percentage(frl_percent). The more FRL eligible students there are, the less average SAT score they get. \n",
    "\n",
    "It almost undeniable that ethnicity and family wealth come into play. Which conforms with the public opinion.\n",
    "\n",
    "One that less obvious is saf_t_11 and saf_s_11, which measure how teacher and students perceive safety at school, correlated highly with sat_score. Let's look into more."
   ]
  },
  {
   "cell_type": "markdown",
   "metadata": {},
   "source": [
    "# Plotting survey correlations"
   ]
  },
  {
   "cell_type": "code",
   "execution_count": 11,
   "metadata": {
    "collapsed": true
   },
   "outputs": [],
   "source": [
    "# Remove DBN since it's a unique identifier, not a useful numerical value for correlation.\n",
    "survey_fields.remove(\"DBN\")"
   ]
  },
  {
   "cell_type": "code",
   "execution_count": 12,
   "metadata": {
    "collapsed": true
   },
   "outputs": [],
   "source": [
    "import matplotlib.pyplot as plt\n",
    "%matplotlib inline"
   ]
  },
  {
   "cell_type": "code",
   "execution_count": 13,
   "metadata": {
    "collapsed": false
   },
   "outputs": [
    {
     "data": {
      "text/plain": [
       "<matplotlib.axes._subplots.AxesSubplot at 0x7f1da37715f8>"
      ]
     },
     "execution_count": 13,
     "metadata": {},
     "output_type": "execute_result"
    },
    {
     "data": {
      "image/png": "[encoded data removed]",
      "text/plain": [
       "<matplotlib.figure.Figure at 0x7f1da3770198>"
      ]
     },
     "metadata": {},
     "output_type": "display_data"
    }
   ],
   "source": [
    "combined.plot.scatter(x = 'saf_t_11', y = 'sat_score')"
   ]
  },
  {
   "cell_type": "markdown",
   "metadata": {},
   "source": [
    "As you can from the above, the students who go to the school that they feel safer, generally do better in SAT."
   ]
  },
  {
   "cell_type": "markdown",
   "metadata": {},
   "source": [
    "## Average Sefety Score by Districts"
   ]
  },
  {
   "cell_type": "code",
   "execution_count": 14,
   "metadata": {
    "collapsed": false
   },
   "outputs": [],
   "source": [
    "safety = combined.groupby('school_dist').agg(np.mean)[['saf_s_11','lon','lat']]"
   ]
  },
  {
   "cell_type": "code",
   "execution_count": 15,
   "metadata": {
    "collapsed": false
   },
   "outputs": [
    {
     "data": {
      "text/plain": [
       "<matplotlib.collections.PathCollection at 0x7f1da16fccc0>"
      ]
     },
     "execution_count": 15,
     "metadata": {},
     "output_type": "execute_result"
    },
    {
     "data": {
      "image/png": "[encoded data removed]",
      "text/plain": [
       "<matplotlib.figure.Figure at 0x7f1da376bd68>"
      ]
     },
     "metadata": {},
     "output_type": "display_data"
    }
   ],
   "source": [
    "from mpl_toolkits.basemap import Basemap\n",
    "m = Basemap(\n",
    "    projection='merc', \n",
    "    llcrnrlat=40.496044, \n",
    "    urcrnrlat=40.915256, \n",
    "    llcrnrlon=-74.255735, \n",
    "    urcrnrlon=-73.700272,\n",
    "    resolution='i'\n",
    ")\n",
    "\n",
    "m.drawmapboundary(fill_color='#85A6D9')\n",
    "m.drawcoastlines(color='#6D5F47', linewidth=.4)\n",
    "m.drawrivers(color='#6D5F47', linewidth=.4)\n",
    "\n",
    "longitudes = list(safety['lon'])\n",
    "latitudes = list(safety['lat'])\n",
    "\n",
    "m.scatter(longitudes, latitudes, s = 30, zorder = 1, latlon = True, c = safety['saf_s_11'] ,cmap = 'summer')"
   ]
  },
  {
   "cell_type": "code",
   "execution_count": 16,
   "metadata": {
    "collapsed": false
   },
   "outputs": [
    {
     "data": {
      "text/plain": [
       "<matplotlib.axes._subplots.AxesSubplot at 0x7f1da6361a20>"
      ]
     },
     "execution_count": 16,
     "metadata": {},
     "output_type": "execute_result"
    },
    {
     "data": {
      "image/png": "[encoded data removed]",
      "text/plain": [
       "<matplotlib.figure.Figure at 0x7f1da37688d0>"
      ]
     },
     "metadata": {},
     "output_type": "display_data"
    }
   ],
   "source": [
    "correlations[['white_per','asian_per','black_per','hispanic_per']].plot(kind = 'bar')"
   ]
  },
  {
   "cell_type": "markdown",
   "metadata": {},
   "source": [
    "From the above graph, we can see the school that have higher white and asian students composition do better in terms of SAT and the opposite is true for black and hispanic students. We will investigate further on the issue.\n",
    "\n",
    "Let's look into hispanic case first."
   ]
  },
  {
   "cell_type": "code",
   "execution_count": 17,
   "metadata": {
    "collapsed": false
   },
   "outputs": [
    {
     "data": {
      "text/plain": [
       "<matplotlib.axes._subplots.AxesSubplot at 0x7f1da1c350b8>"
      ]
     },
     "execution_count": 17,
     "metadata": {},
     "output_type": "execute_result"
    },
    {
     "data": {
      "image/png": "[encoded data removed]",
      "text/plain": [
       "<matplotlib.figure.Figure at 0x7f1da172cd30>"
      ]
     },
     "metadata": {},
     "output_type": "display_data"
    }
   ],
   "source": [
    "combined.plot.scatter(x = 'hispanic_per', y = 'sat_score')"
   ]
  },
  {
   "cell_type": "markdown",
   "metadata": {},
   "source": [
    "As expected, there is negative correlations. Let's look into those schools that have high hispanic percentage. "
   ]
  },
  {
   "cell_type": "code",
   "execution_count": 27,
   "metadata": {
    "collapsed": true
   },
   "outputs": [],
   "source": [
    "hispanic_per_95 = combined[combined['hispanic_per'] > 95]"
   ]
  },
  {
   "cell_type": "code",
   "execution_count": 31,
   "metadata": {
    "collapsed": false
   },
   "outputs": [
    {
     "data": {
      "text/html": [
       "<div>\n",
       "<style scoped>\n",
       "    .dataframe tbody tr th:only-of-type {\n",
       "        vertical-align: middle;\n",
       "    }\n",
       "\n",
       "    .dataframe tbody tr th {\n",
       "        vertical-align: top;\n",
       "    }\n",
       "\n",
       "    .dataframe thead th {\n",
       "        text-align: right;\n",
       "    }\n",
       "</style>\n",
       "<table border=\"1\" class=\"dataframe\">\n",
       "  <thead>\n",
       "    <tr style=\"text-align: right;\">\n",
       "      <th></th>\n",
       "      <th>DBN</th>\n",
       "      <th>SCHOOL NAME</th>\n",
       "      <th>Num of SAT Test Takers</th>\n",
       "      <th>SAT Critical Reading Avg. Score</th>\n",
       "      <th>SAT Math Avg. Score</th>\n",
       "      <th>SAT Writing Avg. Score</th>\n",
       "      <th>sat_score</th>\n",
       "      <th>SchoolName</th>\n",
       "      <th>AP Test Takers</th>\n",
       "      <th>Total Exams Taken</th>\n",
       "      <th>...</th>\n",
       "      <th>priority05</th>\n",
       "      <th>priority06</th>\n",
       "      <th>priority07</th>\n",
       "      <th>priority08</th>\n",
       "      <th>priority09</th>\n",
       "      <th>priority10</th>\n",
       "      <th>Location 1</th>\n",
       "      <th>lat</th>\n",
       "      <th>lon</th>\n",
       "      <th>school_dist</th>\n",
       "    </tr>\n",
       "  </thead>\n",
       "  <tbody>\n",
       "    <tr>\n",
       "      <th>44</th>\n",
       "      <td>02M542</td>\n",
       "      <td>MANHATTAN BRIDGES HIGH SCHOOL</td>\n",
       "      <td>66</td>\n",
       "      <td>336.0</td>\n",
       "      <td>378.0</td>\n",
       "      <td>344.0</td>\n",
       "      <td>1058.0</td>\n",
       "      <td>Manhattan Bridges High School</td>\n",
       "      <td>67.000000</td>\n",
       "      <td>102.000000</td>\n",
       "      <td>...</td>\n",
       "      <td>0</td>\n",
       "      <td>0</td>\n",
       "      <td>0</td>\n",
       "      <td>0</td>\n",
       "      <td>0</td>\n",
       "      <td>0</td>\n",
       "      <td>525 West 50Th Street\\nNew York, NY 10019\\n(40....</td>\n",
       "      <td>40.765027</td>\n",
       "      <td>-73.992517</td>\n",
       "      <td>02</td>\n",
       "    </tr>\n",
       "    <tr>\n",
       "      <th>82</th>\n",
       "      <td>06M348</td>\n",
       "      <td>WASHINGTON HEIGHTS EXPEDITIONARY LEARNING SCHOOL</td>\n",
       "      <td>70</td>\n",
       "      <td>380.0</td>\n",
       "      <td>395.0</td>\n",
       "      <td>399.0</td>\n",
       "      <td>1174.0</td>\n",
       "      <td>0</td>\n",
       "      <td>129.028846</td>\n",
       "      <td>197.038462</td>\n",
       "      <td>...</td>\n",
       "      <td>Then to New York City residents</td>\n",
       "      <td>0</td>\n",
       "      <td>0</td>\n",
       "      <td>0</td>\n",
       "      <td>0</td>\n",
       "      <td>0</td>\n",
       "      <td>511 West 182Nd Street\\nNew York, NY 10033\\n(40...</td>\n",
       "      <td>40.848879</td>\n",
       "      <td>-73.930807</td>\n",
       "      <td>06</td>\n",
       "    </tr>\n",
       "    <tr>\n",
       "      <th>89</th>\n",
       "      <td>06M552</td>\n",
       "      <td>GREGORIO LUPERON HIGH SCHOOL FOR SCIENCE AND M...</td>\n",
       "      <td>56</td>\n",
       "      <td>339.0</td>\n",
       "      <td>349.0</td>\n",
       "      <td>326.0</td>\n",
       "      <td>1014.0</td>\n",
       "      <td>GREGORIO LUPERON HS SCI &amp; MATH</td>\n",
       "      <td>88.000000</td>\n",
       "      <td>138.000000</td>\n",
       "      <td>...</td>\n",
       "      <td>0</td>\n",
       "      <td>0</td>\n",
       "      <td>0</td>\n",
       "      <td>0</td>\n",
       "      <td>0</td>\n",
       "      <td>0</td>\n",
       "      <td>501 West 165Th\\nNew York, NY 10032\\n(40.838032...</td>\n",
       "      <td>40.838032</td>\n",
       "      <td>-73.938371</td>\n",
       "      <td>06</td>\n",
       "    </tr>\n",
       "    <tr>\n",
       "      <th>125</th>\n",
       "      <td>09X365</td>\n",
       "      <td>ACADEMY FOR LANGUAGE AND TECHNOLOGY</td>\n",
       "      <td>54</td>\n",
       "      <td>315.0</td>\n",
       "      <td>339.0</td>\n",
       "      <td>297.0</td>\n",
       "      <td>951.0</td>\n",
       "      <td>Academy for Language and Technology</td>\n",
       "      <td>20.000000</td>\n",
       "      <td>20.000000</td>\n",
       "      <td>...</td>\n",
       "      <td>0</td>\n",
       "      <td>0</td>\n",
       "      <td>0</td>\n",
       "      <td>0</td>\n",
       "      <td>0</td>\n",
       "      <td>0</td>\n",
       "      <td>1700 Macombs Road\\nBronx, NY 10453\\n(40.849102...</td>\n",
       "      <td>40.849102</td>\n",
       "      <td>-73.916088</td>\n",
       "      <td>09</td>\n",
       "    </tr>\n",
       "    <tr>\n",
       "      <th>141</th>\n",
       "      <td>10X342</td>\n",
       "      <td>INTERNATIONAL SCHOOL FOR LIBERAL ARTS</td>\n",
       "      <td>49</td>\n",
       "      <td>300.0</td>\n",
       "      <td>333.0</td>\n",
       "      <td>301.0</td>\n",
       "      <td>934.0</td>\n",
       "      <td>International School for Liberal Arts</td>\n",
       "      <td>55.000000</td>\n",
       "      <td>73.000000</td>\n",
       "      <td>...</td>\n",
       "      <td>0</td>\n",
       "      <td>0</td>\n",
       "      <td>0</td>\n",
       "      <td>0</td>\n",
       "      <td>0</td>\n",
       "      <td>0</td>\n",
       "      <td>2780 Reservoir Avenue\\nBronx, NY 10468\\n(40.87...</td>\n",
       "      <td>40.870377</td>\n",
       "      <td>-73.898163</td>\n",
       "      <td>10</td>\n",
       "    </tr>\n",
       "    <tr>\n",
       "      <th>176</th>\n",
       "      <td>12X388</td>\n",
       "      <td>PAN AMERICAN INTERNATIONAL HIGH SCHOOL AT MONROE</td>\n",
       "      <td>30</td>\n",
       "      <td>321.0</td>\n",
       "      <td>351.0</td>\n",
       "      <td>298.0</td>\n",
       "      <td>970.0</td>\n",
       "      <td>0</td>\n",
       "      <td>129.028846</td>\n",
       "      <td>197.038462</td>\n",
       "      <td>...</td>\n",
       "      <td>0</td>\n",
       "      <td>0</td>\n",
       "      <td>0</td>\n",
       "      <td>0</td>\n",
       "      <td>0</td>\n",
       "      <td>0</td>\n",
       "      <td>1300 Boynton Avenue\\nBronx, NY 10472\\n(40.8313...</td>\n",
       "      <td>40.831366</td>\n",
       "      <td>-73.878823</td>\n",
       "      <td>12</td>\n",
       "    </tr>\n",
       "    <tr>\n",
       "      <th>253</th>\n",
       "      <td>19K583</td>\n",
       "      <td>MULTICULTURAL HIGH SCHOOL</td>\n",
       "      <td>29</td>\n",
       "      <td>279.0</td>\n",
       "      <td>322.0</td>\n",
       "      <td>286.0</td>\n",
       "      <td>887.0</td>\n",
       "      <td>Multicultural High School</td>\n",
       "      <td>44.000000</td>\n",
       "      <td>44.000000</td>\n",
       "      <td>...</td>\n",
       "      <td>0</td>\n",
       "      <td>0</td>\n",
       "      <td>0</td>\n",
       "      <td>0</td>\n",
       "      <td>0</td>\n",
       "      <td>0</td>\n",
       "      <td>999 Jamaica Avenue\\nBrooklyn, NY 11208\\n(40.69...</td>\n",
       "      <td>40.691144</td>\n",
       "      <td>-73.868426</td>\n",
       "      <td>19</td>\n",
       "    </tr>\n",
       "    <tr>\n",
       "      <th>286</th>\n",
       "      <td>24Q296</td>\n",
       "      <td>PAN AMERICAN INTERNATIONAL HIGH SCHOOL</td>\n",
       "      <td>55</td>\n",
       "      <td>317.0</td>\n",
       "      <td>323.0</td>\n",
       "      <td>311.0</td>\n",
       "      <td>951.0</td>\n",
       "      <td>0</td>\n",
       "      <td>129.028846</td>\n",
       "      <td>197.038462</td>\n",
       "      <td>...</td>\n",
       "      <td>0</td>\n",
       "      <td>0</td>\n",
       "      <td>0</td>\n",
       "      <td>0</td>\n",
       "      <td>0</td>\n",
       "      <td>0</td>\n",
       "      <td>45-10 94Th Street\\nElmhurst, NY 11373\\n(40.743...</td>\n",
       "      <td>40.743303</td>\n",
       "      <td>-73.870575</td>\n",
       "      <td>24</td>\n",
       "    </tr>\n",
       "  </tbody>\n",
       "</table>\n",
       "<p>8 rows × 160 columns</p>\n",
       "</div>"
      ],
      "text/plain": [
       "        DBN                                        SCHOOL NAME  \\\n",
       "44   02M542                      MANHATTAN BRIDGES HIGH SCHOOL   \n",
       "82   06M348   WASHINGTON HEIGHTS EXPEDITIONARY LEARNING SCHOOL   \n",
       "89   06M552  GREGORIO LUPERON HIGH SCHOOL FOR SCIENCE AND M...   \n",
       "125  09X365                ACADEMY FOR LANGUAGE AND TECHNOLOGY   \n",
       "141  10X342              INTERNATIONAL SCHOOL FOR LIBERAL ARTS   \n",
       "176  12X388   PAN AMERICAN INTERNATIONAL HIGH SCHOOL AT MONROE   \n",
       "253  19K583                          MULTICULTURAL HIGH SCHOOL   \n",
       "286  24Q296             PAN AMERICAN INTERNATIONAL HIGH SCHOOL   \n",
       "\n",
       "    Num of SAT Test Takers  SAT Critical Reading Avg. Score  \\\n",
       "44                      66                            336.0   \n",
       "82                      70                            380.0   \n",
       "89                      56                            339.0   \n",
       "125                     54                            315.0   \n",
       "141                     49                            300.0   \n",
       "176                     30                            321.0   \n",
       "253                     29                            279.0   \n",
       "286                     55                            317.0   \n",
       "\n",
       "     SAT Math Avg. Score  SAT Writing Avg. Score  sat_score  \\\n",
       "44                 378.0                   344.0     1058.0   \n",
       "82                 395.0                   399.0     1174.0   \n",
       "89                 349.0                   326.0     1014.0   \n",
       "125                339.0                   297.0      951.0   \n",
       "141                333.0                   301.0      934.0   \n",
       "176                351.0                   298.0      970.0   \n",
       "253                322.0                   286.0      887.0   \n",
       "286                323.0                   311.0      951.0   \n",
       "\n",
       "                                SchoolName  AP Test Takers   \\\n",
       "44           Manhattan Bridges High School        67.000000   \n",
       "82                                       0       129.028846   \n",
       "89          GREGORIO LUPERON HS SCI & MATH        88.000000   \n",
       "125    Academy for Language and Technology        20.000000   \n",
       "141  International School for Liberal Arts        55.000000   \n",
       "176                                      0       129.028846   \n",
       "253              Multicultural High School        44.000000   \n",
       "286                                      0       129.028846   \n",
       "\n",
       "     Total Exams Taken     ...                           priority05  \\\n",
       "44          102.000000     ...                                    0   \n",
       "82          197.038462     ...      Then to New York City residents   \n",
       "89          138.000000     ...                                    0   \n",
       "125          20.000000     ...                                    0   \n",
       "141          73.000000     ...                                    0   \n",
       "176         197.038462     ...                                    0   \n",
       "253          44.000000     ...                                    0   \n",
       "286         197.038462     ...                                    0   \n",
       "\n",
       "    priority06 priority07 priority08  priority09 priority10  \\\n",
       "44           0          0          0           0          0   \n",
       "82           0          0          0           0          0   \n",
       "89           0          0          0           0          0   \n",
       "125          0          0          0           0          0   \n",
       "141          0          0          0           0          0   \n",
       "176          0          0          0           0          0   \n",
       "253          0          0          0           0          0   \n",
       "286          0          0          0           0          0   \n",
       "\n",
       "                                            Location 1        lat        lon  \\\n",
       "44   525 West 50Th Street\\nNew York, NY 10019\\n(40....  40.765027 -73.992517   \n",
       "82   511 West 182Nd Street\\nNew York, NY 10033\\n(40...  40.848879 -73.930807   \n",
       "89   501 West 165Th\\nNew York, NY 10032\\n(40.838032...  40.838032 -73.938371   \n",
       "125  1700 Macombs Road\\nBronx, NY 10453\\n(40.849102...  40.849102 -73.916088   \n",
       "141  2780 Reservoir Avenue\\nBronx, NY 10468\\n(40.87...  40.870377 -73.898163   \n",
       "176  1300 Boynton Avenue\\nBronx, NY 10472\\n(40.8313...  40.831366 -73.878823   \n",
       "253  999 Jamaica Avenue\\nBrooklyn, NY 11208\\n(40.69...  40.691144 -73.868426   \n",
       "286  45-10 94Th Street\\nElmhurst, NY 11373\\n(40.743...  40.743303 -73.870575   \n",
       "\n",
       "    school_dist  \n",
       "44           02  \n",
       "82           06  \n",
       "89           06  \n",
       "125          09  \n",
       "141          10  \n",
       "176          12  \n",
       "253          19  \n",
       "286          24  \n",
       "\n",
       "[8 rows x 160 columns]"
      ]
     },
     "execution_count": 31,
     "metadata": {},
     "output_type": "execute_result"
    }
   ],
   "source": [
    "hispanic_per_95"
   ]
  },
  {
   "cell_type": "markdown",
   "metadata": {},
   "source": [
    "A lot of them are schools for mainly immigrants. "
   ]
  },
  {
   "cell_type": "code",
   "execution_count": 29,
   "metadata": {
    "collapsed": false
   },
   "outputs": [],
   "source": [
    "hispanic_per_10 = combined[(combined['hispanic_per'] < 10) & (combined['sat_score'] > 1800)]"
   ]
  },
  {
   "cell_type": "code",
   "execution_count": 30,
   "metadata": {
    "collapsed": false
   },
   "outputs": [
    {
     "data": {
      "text/html": [
       "<div>\n",
       "<style scoped>\n",
       "    .dataframe tbody tr th:only-of-type {\n",
       "        vertical-align: middle;\n",
       "    }\n",
       "\n",
       "    .dataframe tbody tr th {\n",
       "        vertical-align: top;\n",
       "    }\n",
       "\n",
       "    .dataframe thead th {\n",
       "        text-align: right;\n",
       "    }\n",
       "</style>\n",
       "<table border=\"1\" class=\"dataframe\">\n",
       "  <thead>\n",
       "    <tr style=\"text-align: right;\">\n",
       "      <th></th>\n",
       "      <th>DBN</th>\n",
       "      <th>SCHOOL NAME</th>\n",
       "      <th>Num of SAT Test Takers</th>\n",
       "      <th>SAT Critical Reading Avg. Score</th>\n",
       "      <th>SAT Math Avg. Score</th>\n",
       "      <th>SAT Writing Avg. Score</th>\n",
       "      <th>sat_score</th>\n",
       "      <th>SchoolName</th>\n",
       "      <th>AP Test Takers</th>\n",
       "      <th>Total Exams Taken</th>\n",
       "      <th>...</th>\n",
       "      <th>priority05</th>\n",
       "      <th>priority06</th>\n",
       "      <th>priority07</th>\n",
       "      <th>priority08</th>\n",
       "      <th>priority09</th>\n",
       "      <th>priority10</th>\n",
       "      <th>Location 1</th>\n",
       "      <th>lat</th>\n",
       "      <th>lon</th>\n",
       "      <th>school_dist</th>\n",
       "    </tr>\n",
       "  </thead>\n",
       "  <tbody>\n",
       "    <tr>\n",
       "      <th>37</th>\n",
       "      <td>02M475</td>\n",
       "      <td>STUYVESANT HIGH SCHOOL</td>\n",
       "      <td>832</td>\n",
       "      <td>679.0</td>\n",
       "      <td>735.0</td>\n",
       "      <td>682.0</td>\n",
       "      <td>2096.0</td>\n",
       "      <td>STUYVESANT HS</td>\n",
       "      <td>1510.0</td>\n",
       "      <td>2819.0</td>\n",
       "      <td>...</td>\n",
       "      <td>0</td>\n",
       "      <td>0</td>\n",
       "      <td>0</td>\n",
       "      <td>0</td>\n",
       "      <td>0</td>\n",
       "      <td>0</td>\n",
       "      <td>345 Chambers Street\\nNew York, NY 10282\\n(40.7...</td>\n",
       "      <td>40.717746</td>\n",
       "      <td>-74.014049</td>\n",
       "      <td>02</td>\n",
       "    </tr>\n",
       "    <tr>\n",
       "      <th>151</th>\n",
       "      <td>10X445</td>\n",
       "      <td>BRONX HIGH SCHOOL OF SCIENCE</td>\n",
       "      <td>731</td>\n",
       "      <td>632.0</td>\n",
       "      <td>688.0</td>\n",
       "      <td>649.0</td>\n",
       "      <td>1969.0</td>\n",
       "      <td>BRONX HS OF SCIENCE</td>\n",
       "      <td>1190.0</td>\n",
       "      <td>2435.0</td>\n",
       "      <td>...</td>\n",
       "      <td>0</td>\n",
       "      <td>0</td>\n",
       "      <td>0</td>\n",
       "      <td>0</td>\n",
       "      <td>0</td>\n",
       "      <td>0</td>\n",
       "      <td>75 West 205 Street\\nBronx, NY 10468\\n(40.87705...</td>\n",
       "      <td>40.877056</td>\n",
       "      <td>-73.889780</td>\n",
       "      <td>10</td>\n",
       "    </tr>\n",
       "    <tr>\n",
       "      <th>187</th>\n",
       "      <td>13K430</td>\n",
       "      <td>BROOKLYN TECHNICAL HIGH SCHOOL</td>\n",
       "      <td>1277</td>\n",
       "      <td>587.0</td>\n",
       "      <td>659.0</td>\n",
       "      <td>587.0</td>\n",
       "      <td>1833.0</td>\n",
       "      <td>BROOKLYN TECHNICAL HS</td>\n",
       "      <td>2117.0</td>\n",
       "      <td>3692.0</td>\n",
       "      <td>...</td>\n",
       "      <td>0</td>\n",
       "      <td>0</td>\n",
       "      <td>0</td>\n",
       "      <td>0</td>\n",
       "      <td>0</td>\n",
       "      <td>0</td>\n",
       "      <td>29 Ft Greene Place\\nBrooklyn, NY 11217\\n(40.68...</td>\n",
       "      <td>40.688107</td>\n",
       "      <td>-73.976745</td>\n",
       "      <td>13</td>\n",
       "    </tr>\n",
       "    <tr>\n",
       "      <th>327</th>\n",
       "      <td>28Q687</td>\n",
       "      <td>QUEENS HIGH SCHOOL FOR THE SCIENCES AT YORK CO...</td>\n",
       "      <td>121</td>\n",
       "      <td>612.0</td>\n",
       "      <td>660.0</td>\n",
       "      <td>596.0</td>\n",
       "      <td>1868.0</td>\n",
       "      <td>Queens HS for Science York Colllege</td>\n",
       "      <td>215.0</td>\n",
       "      <td>338.0</td>\n",
       "      <td>...</td>\n",
       "      <td>0</td>\n",
       "      <td>0</td>\n",
       "      <td>0</td>\n",
       "      <td>0</td>\n",
       "      <td>0</td>\n",
       "      <td>0</td>\n",
       "      <td>94-50 159 Street\\nJamaica, NY 11433\\n(40.70099...</td>\n",
       "      <td>40.700999</td>\n",
       "      <td>-73.798154</td>\n",
       "      <td>28</td>\n",
       "    </tr>\n",
       "    <tr>\n",
       "      <th>356</th>\n",
       "      <td>31R605</td>\n",
       "      <td>STATEN ISLAND TECHNICAL HIGH SCHOOL</td>\n",
       "      <td>227</td>\n",
       "      <td>635.0</td>\n",
       "      <td>682.0</td>\n",
       "      <td>636.0</td>\n",
       "      <td>1953.0</td>\n",
       "      <td>STATEN ISLAND TECHNICAL HS</td>\n",
       "      <td>528.0</td>\n",
       "      <td>905.0</td>\n",
       "      <td>...</td>\n",
       "      <td>0</td>\n",
       "      <td>0</td>\n",
       "      <td>0</td>\n",
       "      <td>0</td>\n",
       "      <td>0</td>\n",
       "      <td>0</td>\n",
       "      <td>485 Clawson Street\\nStaten Island, NY 10306\\n(...</td>\n",
       "      <td>40.567913</td>\n",
       "      <td>-74.115362</td>\n",
       "      <td>31</td>\n",
       "    </tr>\n",
       "  </tbody>\n",
       "</table>\n",
       "<p>5 rows × 160 columns</p>\n",
       "</div>"
      ],
      "text/plain": [
       "        DBN                                        SCHOOL NAME  \\\n",
       "37   02M475                             STUYVESANT HIGH SCHOOL   \n",
       "151  10X445                       BRONX HIGH SCHOOL OF SCIENCE   \n",
       "187  13K430                     BROOKLYN TECHNICAL HIGH SCHOOL   \n",
       "327  28Q687  QUEENS HIGH SCHOOL FOR THE SCIENCES AT YORK CO...   \n",
       "356  31R605                STATEN ISLAND TECHNICAL HIGH SCHOOL   \n",
       "\n",
       "    Num of SAT Test Takers  SAT Critical Reading Avg. Score  \\\n",
       "37                     832                            679.0   \n",
       "151                    731                            632.0   \n",
       "187                   1277                            587.0   \n",
       "327                    121                            612.0   \n",
       "356                    227                            635.0   \n",
       "\n",
       "     SAT Math Avg. Score  SAT Writing Avg. Score  sat_score  \\\n",
       "37                 735.0                   682.0     2096.0   \n",
       "151                688.0                   649.0     1969.0   \n",
       "187                659.0                   587.0     1833.0   \n",
       "327                660.0                   596.0     1868.0   \n",
       "356                682.0                   636.0     1953.0   \n",
       "\n",
       "                              SchoolName  AP Test Takers   Total Exams Taken  \\\n",
       "37                         STUYVESANT HS           1510.0             2819.0   \n",
       "151                  BRONX HS OF SCIENCE           1190.0             2435.0   \n",
       "187                BROOKLYN TECHNICAL HS           2117.0             3692.0   \n",
       "327  Queens HS for Science York Colllege            215.0              338.0   \n",
       "356           STATEN ISLAND TECHNICAL HS            528.0              905.0   \n",
       "\n",
       "        ...      priority05 priority06 priority07 priority08  priority09  \\\n",
       "37      ...               0          0          0          0           0   \n",
       "151     ...               0          0          0          0           0   \n",
       "187     ...               0          0          0          0           0   \n",
       "327     ...               0          0          0          0           0   \n",
       "356     ...               0          0          0          0           0   \n",
       "\n",
       "    priority10                                         Location 1        lat  \\\n",
       "37           0  345 Chambers Street\\nNew York, NY 10282\\n(40.7...  40.717746   \n",
       "151          0  75 West 205 Street\\nBronx, NY 10468\\n(40.87705...  40.877056   \n",
       "187          0  29 Ft Greene Place\\nBrooklyn, NY 11217\\n(40.68...  40.688107   \n",
       "327          0  94-50 159 Street\\nJamaica, NY 11433\\n(40.70099...  40.700999   \n",
       "356          0  485 Clawson Street\\nStaten Island, NY 10306\\n(...  40.567913   \n",
       "\n",
       "           lon school_dist  \n",
       "37  -74.014049          02  \n",
       "151 -73.889780          10  \n",
       "187 -73.976745          13  \n",
       "327 -73.798154          28  \n",
       "356 -74.115362          31  \n",
       "\n",
       "[5 rows x 160 columns]"
      ]
     },
     "execution_count": 30,
     "metadata": {},
     "output_type": "execute_result"
    }
   ],
   "source": [
    "hispanic_per_10"
   ]
  },
  {
   "cell_type": "markdown",
   "metadata": {},
   "source": [
    "Most of them are STEM schools, which probably associated with higher school fee. "
   ]
  },
  {
   "cell_type": "markdown",
   "metadata": {},
   "source": [
    "## Gender"
   ]
  },
  {
   "cell_type": "code",
   "execution_count": 33,
   "metadata": {
    "collapsed": false
   },
   "outputs": [
    {
     "data": {
      "text/plain": [
       "<matplotlib.axes._subplots.AxesSubplot at 0x7f1da17651d0>"
      ]
     },
     "execution_count": 33,
     "metadata": {},
     "output_type": "execute_result"
    },
    {
     "data": {
      "image/png": "[encoded data removed]",
      "text/plain": [
       "<matplotlib.figure.Figure at 0x7f1da176b748>"
      ]
     },
     "metadata": {},
     "output_type": "display_data"
    }
   ],
   "source": [
    "correlations[['male_per','female_per']].plot(kind = 'bar')"
   ]
  },
  {
   "cell_type": "markdown",
   "metadata": {},
   "source": [
    "From the graph, the schools have more female students than male students do slightly better in SAT. "
   ]
  },
  {
   "cell_type": "code",
   "execution_count": 34,
   "metadata": {
    "collapsed": false
   },
   "outputs": [
    {
     "data": {
      "text/plain": [
       "<matplotlib.axes._subplots.AxesSubplot at 0x7f1da155e198>"
      ]
     },
     "execution_count": 34,
     "metadata": {},
     "output_type": "execute_result"
    },
    {
     "data": {
      "image/png": "[encoded data removed]",
      "text/plain": [
       "<matplotlib.figure.Figure at 0x7f1da15952b0>"
      ]
     },
     "metadata": {},
     "output_type": "display_data"
    }
   ],
   "source": [
    "combined.plot.scatter(x = 'female_per', y = 'sat_score')"
   ]
  },
  {
   "cell_type": "markdown",
   "metadata": {},
   "source": [
    "It is not very ovbious from the graph but the higher scores leaned toward higher percentage of female students. However, all girls schools don't do particularly well than gender mixed school."
   ]
  },
  {
   "cell_type": "code",
   "execution_count": 40,
   "metadata": {
    "collapsed": false
   },
   "outputs": [
    {
     "data": {
      "text/html": [
       "<div>\n",
       "<style scoped>\n",
       "    .dataframe tbody tr th:only-of-type {\n",
       "        vertical-align: middle;\n",
       "    }\n",
       "\n",
       "    .dataframe tbody tr th {\n",
       "        vertical-align: top;\n",
       "    }\n",
       "\n",
       "    .dataframe thead th {\n",
       "        text-align: right;\n",
       "    }\n",
       "</style>\n",
       "<table border=\"1\" class=\"dataframe\">\n",
       "  <thead>\n",
       "    <tr style=\"text-align: right;\">\n",
       "      <th></th>\n",
       "      <th>DBN</th>\n",
       "      <th>SCHOOL NAME</th>\n",
       "      <th>Num of SAT Test Takers</th>\n",
       "      <th>SAT Critical Reading Avg. Score</th>\n",
       "      <th>SAT Math Avg. Score</th>\n",
       "      <th>SAT Writing Avg. Score</th>\n",
       "      <th>sat_score</th>\n",
       "      <th>SchoolName</th>\n",
       "      <th>AP Test Takers</th>\n",
       "      <th>Total Exams Taken</th>\n",
       "      <th>...</th>\n",
       "      <th>priority05</th>\n",
       "      <th>priority06</th>\n",
       "      <th>priority07</th>\n",
       "      <th>priority08</th>\n",
       "      <th>priority09</th>\n",
       "      <th>priority10</th>\n",
       "      <th>Location 1</th>\n",
       "      <th>lat</th>\n",
       "      <th>lon</th>\n",
       "      <th>school_dist</th>\n",
       "    </tr>\n",
       "  </thead>\n",
       "  <tbody>\n",
       "    <tr>\n",
       "      <th>5</th>\n",
       "      <td>01M696</td>\n",
       "      <td>BARD HIGH SCHOOL EARLY COLLEGE</td>\n",
       "      <td>130</td>\n",
       "      <td>624.0</td>\n",
       "      <td>604.0</td>\n",
       "      <td>628.0</td>\n",
       "      <td>1856.0</td>\n",
       "      <td>0</td>\n",
       "      <td>129.028846</td>\n",
       "      <td>197.038462</td>\n",
       "      <td>...</td>\n",
       "      <td>0</td>\n",
       "      <td>0</td>\n",
       "      <td>0</td>\n",
       "      <td>0</td>\n",
       "      <td>0</td>\n",
       "      <td>0</td>\n",
       "      <td>525 East Houston Street\\nNew York, NY 10002\\n(...</td>\n",
       "      <td>40.718962</td>\n",
       "      <td>-73.976066</td>\n",
       "      <td>01</td>\n",
       "    </tr>\n",
       "    <tr>\n",
       "      <th>26</th>\n",
       "      <td>02M416</td>\n",
       "      <td>ELEANOR ROOSEVELT HIGH SCHOOL</td>\n",
       "      <td>127</td>\n",
       "      <td>572.0</td>\n",
       "      <td>594.0</td>\n",
       "      <td>592.0</td>\n",
       "      <td>1758.0</td>\n",
       "      <td>Eleanor Roosevelt High School</td>\n",
       "      <td>155.000000</td>\n",
       "      <td>235.000000</td>\n",
       "      <td>...</td>\n",
       "      <td>0</td>\n",
       "      <td>0</td>\n",
       "      <td>0</td>\n",
       "      <td>0</td>\n",
       "      <td>0</td>\n",
       "      <td>0</td>\n",
       "      <td>411 East 76 Street\\nNew York, NY 10021\\n(40.77...</td>\n",
       "      <td>40.770116</td>\n",
       "      <td>-73.953379</td>\n",
       "      <td>02</td>\n",
       "    </tr>\n",
       "    <tr>\n",
       "      <th>60</th>\n",
       "      <td>03M479</td>\n",
       "      <td>BEACON HIGH SCHOOL</td>\n",
       "      <td>261</td>\n",
       "      <td>577.0</td>\n",
       "      <td>575.0</td>\n",
       "      <td>592.0</td>\n",
       "      <td>1744.0</td>\n",
       "      <td>BEACON SCHOOL</td>\n",
       "      <td>166.000000</td>\n",
       "      <td>197.000000</td>\n",
       "      <td>...</td>\n",
       "      <td>0</td>\n",
       "      <td>0</td>\n",
       "      <td>0</td>\n",
       "      <td>0</td>\n",
       "      <td>0</td>\n",
       "      <td>0</td>\n",
       "      <td>227-243 West 61St Street\\nNew York, NY 10023\\n...</td>\n",
       "      <td>40.772158</td>\n",
       "      <td>-73.987797</td>\n",
       "      <td>03</td>\n",
       "    </tr>\n",
       "    <tr>\n",
       "      <th>61</th>\n",
       "      <td>03M485</td>\n",
       "      <td>FIORELLO H. LAGUARDIA HIGH SCHOOL OF MUSIC &amp; A...</td>\n",
       "      <td>531</td>\n",
       "      <td>566.0</td>\n",
       "      <td>564.0</td>\n",
       "      <td>577.0</td>\n",
       "      <td>1707.0</td>\n",
       "      <td>FIORELLO H.LAGUARDIA HS</td>\n",
       "      <td>691.000000</td>\n",
       "      <td>1236.000000</td>\n",
       "      <td>...</td>\n",
       "      <td>0</td>\n",
       "      <td>0</td>\n",
       "      <td>0</td>\n",
       "      <td>0</td>\n",
       "      <td>0</td>\n",
       "      <td>0</td>\n",
       "      <td>100 Amsterdam Avenue\\nNew York, NY 10023\\n(40....</td>\n",
       "      <td>40.773671</td>\n",
       "      <td>-73.985269</td>\n",
       "      <td>03</td>\n",
       "    </tr>\n",
       "    <tr>\n",
       "      <th>302</th>\n",
       "      <td>25Q525</td>\n",
       "      <td>TOWNSEND HARRIS HIGH SCHOOL</td>\n",
       "      <td>278</td>\n",
       "      <td>621.0</td>\n",
       "      <td>651.0</td>\n",
       "      <td>638.0</td>\n",
       "      <td>1910.0</td>\n",
       "      <td>TOWNSEND HARRIS HS</td>\n",
       "      <td>613.000000</td>\n",
       "      <td>796.000000</td>\n",
       "      <td>...</td>\n",
       "      <td>0</td>\n",
       "      <td>0</td>\n",
       "      <td>0</td>\n",
       "      <td>0</td>\n",
       "      <td>0</td>\n",
       "      <td>0</td>\n",
       "      <td>149-11 Melbourne Avenue\\nFlushing, NY 11367\\n(...</td>\n",
       "      <td>40.734408</td>\n",
       "      <td>-73.821417</td>\n",
       "      <td>25</td>\n",
       "    </tr>\n",
       "  </tbody>\n",
       "</table>\n",
       "<p>5 rows × 160 columns</p>\n",
       "</div>"
      ],
      "text/plain": [
       "        DBN                                        SCHOOL NAME  \\\n",
       "5    01M696                     BARD HIGH SCHOOL EARLY COLLEGE   \n",
       "26   02M416                      ELEANOR ROOSEVELT HIGH SCHOOL   \n",
       "60   03M479                                 BEACON HIGH SCHOOL   \n",
       "61   03M485  FIORELLO H. LAGUARDIA HIGH SCHOOL OF MUSIC & A...   \n",
       "302  25Q525                        TOWNSEND HARRIS HIGH SCHOOL   \n",
       "\n",
       "    Num of SAT Test Takers  SAT Critical Reading Avg. Score  \\\n",
       "5                      130                            624.0   \n",
       "26                     127                            572.0   \n",
       "60                     261                            577.0   \n",
       "61                     531                            566.0   \n",
       "302                    278                            621.0   \n",
       "\n",
       "     SAT Math Avg. Score  SAT Writing Avg. Score  sat_score  \\\n",
       "5                  604.0                   628.0     1856.0   \n",
       "26                 594.0                   592.0     1758.0   \n",
       "60                 575.0                   592.0     1744.0   \n",
       "61                 564.0                   577.0     1707.0   \n",
       "302                651.0                   638.0     1910.0   \n",
       "\n",
       "                        SchoolName  AP Test Takers   Total Exams Taken  \\\n",
       "5                                0       129.028846         197.038462   \n",
       "26   Eleanor Roosevelt High School       155.000000         235.000000   \n",
       "60                   BEACON SCHOOL       166.000000         197.000000   \n",
       "61         FIORELLO H.LAGUARDIA HS       691.000000        1236.000000   \n",
       "302             TOWNSEND HARRIS HS       613.000000         796.000000   \n",
       "\n",
       "        ...      priority05 priority06 priority07 priority08  priority09  \\\n",
       "5       ...               0          0          0          0           0   \n",
       "26      ...               0          0          0          0           0   \n",
       "60      ...               0          0          0          0           0   \n",
       "61      ...               0          0          0          0           0   \n",
       "302     ...               0          0          0          0           0   \n",
       "\n",
       "    priority10                                         Location 1        lat  \\\n",
       "5            0  525 East Houston Street\\nNew York, NY 10002\\n(...  40.718962   \n",
       "26           0  411 East 76 Street\\nNew York, NY 10021\\n(40.77...  40.770116   \n",
       "60           0  227-243 West 61St Street\\nNew York, NY 10023\\n...  40.772158   \n",
       "61           0  100 Amsterdam Avenue\\nNew York, NY 10023\\n(40....  40.773671   \n",
       "302          0  149-11 Melbourne Avenue\\nFlushing, NY 11367\\n(...  40.734408   \n",
       "\n",
       "           lon school_dist  \n",
       "5   -73.976066          01  \n",
       "26  -73.953379          02  \n",
       "60  -73.987797          03  \n",
       "61  -73.985269          03  \n",
       "302 -73.821417          25  \n",
       "\n",
       "[5 rows x 160 columns]"
      ]
     },
     "execution_count": 40,
     "metadata": {},
     "output_type": "execute_result"
    }
   ],
   "source": [
    "combined[(combined['female_per'] > 60) & (combined['sat_score'] > 1700)]"
   ]
  },
  {
   "cell_type": "markdown",
   "metadata": {
    "collapsed": true
   },
   "source": [
    "In the U.S., high school students take Advanced Placement (AP) exams to earn college credit. There are AP exams for many different subjects. Let's see if that correlate with sat score"
   ]
  },
  {
   "cell_type": "code",
   "execution_count": 43,
   "metadata": {
    "collapsed": false
   },
   "outputs": [],
   "source": [
    "combined[\"ap_per\"] = combined[\"AP Test Takers \"] / combined[\"total_enrollment\"]"
   ]
  },
  {
   "cell_type": "code",
   "execution_count": 44,
   "metadata": {
    "collapsed": false
   },
   "outputs": [
    {
     "data": {
      "text/plain": [
       "<matplotlib.axes._subplots.AxesSubplot at 0x7f1da14b9fd0>"
      ]
     },
     "execution_count": 44,
     "metadata": {},
     "output_type": "execute_result"
    },
    {
     "data": {
      "image/png": "[encoded data removed]",
      "text/plain": [
       "<matplotlib.figure.Figure at 0x7f1da1581da0>"
      ]
     },
     "metadata": {},
     "output_type": "display_data"
    }
   ],
   "source": [
    "combined.plot.scatter(x = 'ap_per', y = 'sat_score')"
   ]
  },
  {
   "cell_type": "markdown",
   "metadata": {},
   "source": [
    "It seems there is correlation, however the data seems to divide by two different groups. Upper where have strong correlation between AP Taker percentage and "
   ]
  },
  {
   "cell_type": "code",
   "execution_count": null,
   "metadata": {
    "collapsed": true
   },
   "outputs": [],
   "source": []
  }
 ],
 "metadata": {
  "kernelspec": {
   "display_name": "Python 3",
   "language": "python",
   "name": "python3"
  },
  "language_info": {
   "codemirror_mode": {
    "name": "ipython",
    "version": 3
   },
   "file_extension": ".py",
   "mimetype": "text/x-python",
   "name": "python",
   "nbconvert_exporter": "python",
   "pygments_lexer": "ipython3",
   "version": "3.4.3"
  }
 },
 "nbformat": 4,
 "nbformat_minor": 2
}
