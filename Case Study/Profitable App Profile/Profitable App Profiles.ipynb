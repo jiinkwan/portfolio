{
 "cells": [
  {
   "cell_type": "markdown",
   "metadata": {},
   "source": [
    "# Profitable App Profiles for the App Store and Google Play Markets\n",
    "\n",
    "This project is analysing what profiles profitable applications have in common in App Store and Google Play Markets. Two major application stores. As of 2018, there are 4 million apps in App Store and Google Play market. It requires significant time and money to analyze them. For that we are going to sample them and analyze. I'm going to use\n",
    "\n",
    "1. 10,000 Android apps from Google Play\n",
    "2. 7,000 iOS apps from App Store\n",
    "\n",
    "The goal of the project is to identify what are the traits of profitable applications and define the strategy that we can create one."
   ]
  },
  {
   "cell_type": "code",
   "execution_count": 1,
   "metadata": {
    "collapsed": true
   },
   "outputs": [],
   "source": [
    "def explore_data(dataset, start, end, rows_and_columns=False):\n",
    "    dataset_slice = dataset[start:end]    \n",
    "    for row in dataset_slice:\n",
    "        print(row)\n",
    "        print('\\n') # adds a new (empty) line after each row\n",
    "\n",
    "    if rows_and_columns:\n",
    "        print('Number of rows:', len(dataset))\n",
    "        print('Number of columns:', len(dataset[0]))"
   ]
  },
  {
   "cell_type": "code",
   "execution_count": 2,
   "metadata": {
    "collapsed": true
   },
   "outputs": [],
   "source": [
    "def create_header_list(filename, delimiter = ',', newline = ''):\n",
    "    import csv\n",
    "    with open(filename, newline=newline) as csvfile:\n",
    "        openfile = csv.reader(csvfile, delimiter=delimiter)\n",
    "        list_ = list(openfile)\n",
    "        header_ = list_[0]\n",
    "    return header_, list_[1:]\n"
   ]
  },
  {
   "cell_type": "code",
   "execution_count": 3,
   "metadata": {
    "collapsed": false
   },
   "outputs": [],
   "source": [
    "apple_store_header, apple_store_list = create_header_list('AppleStore.csv')\n",
    "google_store_header, google_store_list = create_header_list('googleplaystore.csv')\n"
   ]
  },
  {
   "cell_type": "markdown",
   "metadata": {},
   "source": [
    "## Data Cleansing\n",
    "\n",
    "We are only analyzing the apps for English speaking audience and free apps only. We are going to remove:\n",
    "\n",
    "1. Non-English apps.\n",
    "2. apps that aren't free."
   ]
  },
  {
   "cell_type": "code",
   "execution_count": 4,
   "metadata": {
    "collapsed": false
   },
   "outputs": [
    {
     "name": "stdout",
     "output_type": "stream",
     "text": [
      "['Life Made WI-Fi Touchscreen Photo Frame', '1.9', '19', '3.0M', '1,000+', 'Free', '0', 'Everyone', '', 'February 11, 2018', '1.0.19', '4.0 and up']\n",
      "\n",
      "\n",
      "['App', 'Category', 'Rating', 'Reviews', 'Size', 'Installs', 'Type', 'Price', 'Content Rating', 'Genres', 'Last Updated', 'Current Ver', 'Android Ver']\n",
      "\n",
      "\n",
      "['Photo Editor & Candy Camera & Grid & ScrapBook', 'ART_AND_DESIGN', '4.1', '159', '19M', '10,000+', 'Free', '0', 'Everyone', 'Art & Design', 'January 7, 2018', '1.0.0', '4.0.3 and up']\n"
     ]
    }
   ],
   "source": [
    "print(google_store_list[10472])  # incorrect row\n",
    "print('\\n')\n",
    "print(google_store_header)  # header\n",
    "print('\\n')\n",
    "print(google_store_list[0])      # correct row"
   ]
  },
  {
   "cell_type": "code",
   "execution_count": 5,
   "metadata": {
    "collapsed": false
   },
   "outputs": [
    {
     "name": "stdout",
     "output_type": "stream",
     "text": [
      "10841\n",
      "10840\n"
     ]
    }
   ],
   "source": [
    "print(len(google_store_list))\n",
    "del google_store_list[10472]  # don't run this more than once\n",
    "print(len(google_store_list))"
   ]
  },
  {
   "cell_type": "markdown",
   "metadata": {},
   "source": [
    "## Duplicate Data"
   ]
  },
  {
   "cell_type": "markdown",
   "metadata": {},
   "source": [
    "### Defining duplicate data\n",
    "\n",
    "As the following example, Instagram, we can see that there are duplicates in the data. There is only one instagram app but there are four record of it. One way to define the most recent data is the number of reviews. The assumption is that the more reviews it has, the more recent data it is. "
   ]
  },
  {
   "cell_type": "code",
   "execution_count": 6,
   "metadata": {
    "collapsed": false
   },
   "outputs": [
    {
     "name": "stdout",
     "output_type": "stream",
     "text": [
      "['Instagram', 'SOCIAL', '4.5', '66577313', 'Varies with device', '1,000,000,000+', 'Free', '0', 'Teen', 'Social', 'July 31, 2018', 'Varies with device', 'Varies with device']\n",
      "['Instagram', 'SOCIAL', '4.5', '66577446', 'Varies with device', '1,000,000,000+', 'Free', '0', 'Teen', 'Social', 'July 31, 2018', 'Varies with device', 'Varies with device']\n",
      "['Instagram', 'SOCIAL', '4.5', '66577313', 'Varies with device', '1,000,000,000+', 'Free', '0', 'Teen', 'Social', 'July 31, 2018', 'Varies with device', 'Varies with device']\n",
      "['Instagram', 'SOCIAL', '4.5', '66509917', 'Varies with device', '1,000,000,000+', 'Free', '0', 'Teen', 'Social', 'July 31, 2018', 'Varies with device', 'Varies with device']\n"
     ]
    }
   ],
   "source": [
    "for app in google_store_list:\n",
    "    name = app[0]\n",
    "    if name == 'Instagram':\n",
    "        print(app)"
   ]
  },
  {
   "cell_type": "markdown",
   "metadata": {},
   "source": [
    "The steps to identifying duplicates\n",
    "\n",
    "1. create empty list for duplicate apps and uniques apps\n",
    "2. Loop through the data, extract the name of the app.\n",
    "3. If app is in unique_app, append to duplicate apps list.\n",
    "4. If app is not in unique apps list, append to unique apps list."
   ]
  },
  {
   "cell_type": "code",
   "execution_count": 7,
   "metadata": {
    "collapsed": false
   },
   "outputs": [],
   "source": [
    "duplicate_apps = []\n",
    "unique_apps = []\n",
    "\n",
    "for app in google_store_list:\n",
    "    name = app[0]\n",
    "    if name in unique_apps:\n",
    "        duplicate_apps.append(name)\n",
    "    else:\n",
    "        unique_apps.append(name)"
   ]
  },
  {
   "cell_type": "markdown",
   "metadata": {},
   "source": [
    "The steps to identifying the most recent data\n",
    "\n",
    "1. create empty dictionary for the review counts\n",
    "2. loop through the data\n",
    "3. assign name and n_reviews. Because all data is in character, we converted it to float\n",
    "4. If max review count is smaler than current review count, assign current review count to the max review count\n",
    "5. If the record is not in the dictionary, simply add it to the dictionary"
   ]
  },
  {
   "cell_type": "code",
   "execution_count": 8,
   "metadata": {
    "collapsed": false
   },
   "outputs": [],
   "source": [
    "reviews_max = {}\n",
    "for app in google_store_list:\n",
    "    name = app[0]\n",
    "    n_reviews = float(app[3])\n",
    "    if name in reviews_max:\n",
    "        if reviews_max[name] < n_reviews:\n",
    "            reviews_max[name] = n_reviews\n",
    "    elif name not in reviews_max:\n",
    "        reviews_max[name] = n_reviews"
   ]
  },
  {
   "cell_type": "code",
   "execution_count": 9,
   "metadata": {
    "collapsed": false
   },
   "outputs": [
    {
     "data": {
      "text/plain": [
       "9659"
      ]
     },
     "execution_count": 9,
     "metadata": {},
     "output_type": "execute_result"
    }
   ],
   "source": [
    "len(reviews_max)"
   ]
  },
  {
   "cell_type": "markdown",
   "metadata": {},
   "source": [
    "Steps to store data without duplicate\n",
    "\n",
    "1. create empty list to store the clean list and name of the app already added\n",
    "2. assign name and review count into variables\n",
    "3. If name is not in already added list, check if the review counts matches the max review count.\n",
    "4. If so append to the lists. one app data, the other one name only"
   ]
  },
  {
   "cell_type": "code",
   "execution_count": 10,
   "metadata": {
    "collapsed": false
   },
   "outputs": [],
   "source": [
    "android_clean = [] \n",
    "already_added = []"
   ]
  },
  {
   "cell_type": "code",
   "execution_count": 11,
   "metadata": {
    "collapsed": true
   },
   "outputs": [],
   "source": [
    "for app in google_store_list:\n",
    "    name = app[0]\n",
    "    n_reviews = float(app[3])\n",
    "    if name not in already_added:\n",
    "        if reviews_max[name] == n_reviews:\n",
    "            android_clean.append(app)\n",
    "            already_added.append(app[0])"
   ]
  },
  {
   "cell_type": "markdown",
   "metadata": {
    "collapsed": true
   },
   "source": [
    "### Removing the data that are not in English"
   ]
  },
  {
   "cell_type": "code",
   "execution_count": 12,
   "metadata": {
    "collapsed": true
   },
   "outputs": [],
   "source": [
    "android_english = []"
   ]
  },
  {
   "cell_type": "code",
   "execution_count": 13,
   "metadata": {
    "collapsed": false
   },
   "outputs": [],
   "source": [
    "def check_english(string):\n",
    "    for c in string[:3]:\n",
    "        if ord(c) > 127:\n",
    "            return False\n",
    "    return True"
   ]
  },
  {
   "cell_type": "code",
   "execution_count": 14,
   "metadata": {
    "collapsed": false
   },
   "outputs": [],
   "source": [
    "for app in android_clean:\n",
    "    if check_english(app[0]):\n",
    "        android_english.append(app)"
   ]
  },
  {
   "cell_type": "markdown",
   "metadata": {},
   "source": [
    "### Filtering free apps only"
   ]
  },
  {
   "cell_type": "code",
   "execution_count": 15,
   "metadata": {
    "collapsed": true
   },
   "outputs": [],
   "source": [
    "android_free = []"
   ]
  },
  {
   "cell_type": "code",
   "execution_count": 16,
   "metadata": {
    "collapsed": true
   },
   "outputs": [],
   "source": [
    "for app in android_english:\n",
    "    if app[6] == 'Free':\n",
    "        android_free.append(app)"
   ]
  },
  {
   "cell_type": "markdown",
   "metadata": {},
   "source": [
    "The goal is to determine what are the profiles that are popular in both platforms. Because the more users you attract, the more likely your app will be profitable. To minimize the risks and overhead, the validation strategy for an apps is:\n",
    "\n",
    "1. Build a minimal Android version of the app, and add it to Google Play\n",
    "2. If the app has a good response from users, develop it further\n",
    "3. If the app is profitable after six months, build an iOS version of the app and add it to App Store\n",
    "\n",
    "It looks like they both provide Genre or Category columns"
   ]
  },
  {
   "cell_type": "markdown",
   "metadata": {},
   "source": [
    "### Frequency Table"
   ]
  },
  {
   "cell_type": "code",
   "execution_count": 17,
   "metadata": {
    "collapsed": true
   },
   "outputs": [],
   "source": [
    "def freq_table(dataset, index):\n",
    "    dict_ = {}\n",
    "    for app in dataset:\n",
    "        if app[index] in dict_:\n",
    "            dict_[app[index]] += 1\n",
    "        elif app[index] not in dict_:\n",
    "            dict_[app[index]] = 1\n",
    "    return dict_"
   ]
  },
  {
   "cell_type": "code",
   "execution_count": 18,
   "metadata": {
    "collapsed": true
   },
   "outputs": [],
   "source": [
    "def display_table(dataset, index):\n",
    "    table = freq_table(dataset, index)\n",
    "    table_display = []\n",
    "    for key in table:\n",
    "        key_val_as_tuple = (table[key], key)\n",
    "        table_display.append(key_val_as_tuple)\n",
    "\n",
    "    table_sorted = sorted(table_display, reverse = True)\n",
    "    for entry in table_sorted:\n",
    "        print(entry[1], ':', entry[0])"
   ]
  },
  {
   "cell_type": "code",
   "execution_count": 19,
   "metadata": {
    "collapsed": false
   },
   "outputs": [
    {
     "name": "stdout",
     "output_type": "stream",
     "text": [
      "['id', 'track_name', 'size_bytes', 'currency', 'price', 'rating_count_tot', 'rating_count_ver', 'user_rating', 'user_rating_ver', 'ver', 'cont_rating', 'prime_genre', 'sup_devices.num', 'ipadSc_urls.num', 'lang.num', 'vpp_lic']\n",
      "['App', 'Category', 'Rating', 'Reviews', 'Size', 'Installs', 'Type', 'Price', 'Content Rating', 'Genres', 'Last Updated', 'Current Ver', 'Android Ver']\n"
     ]
    }
   ],
   "source": [
    "print(apple_store_header)\n",
    "print(google_store_header)"
   ]
  },
  {
   "cell_type": "code",
   "execution_count": 20,
   "metadata": {
    "collapsed": false
   },
   "outputs": [
    {
     "name": "stdout",
     "output_type": "stream",
     "text": [
      "11\n",
      "9\n",
      "1\n"
     ]
    }
   ],
   "source": [
    "print(apple_store_header.index('prime_genre'))\n",
    "print(google_store_header.index('Genres'))\n",
    "print(google_store_header.index('Category'))"
   ]
  },
  {
   "cell_type": "code",
   "execution_count": 21,
   "metadata": {
    "collapsed": false
   },
   "outputs": [
    {
     "name": "stdout",
     "output_type": "stream",
     "text": [
      "Games : 3862\n",
      "Entertainment : 535\n",
      "Education : 453\n",
      "Photo & Video : 349\n",
      "Utilities : 248\n",
      "Health & Fitness : 180\n",
      "Productivity : 178\n",
      "Social Networking : 167\n",
      "Lifestyle : 144\n",
      "Music : 138\n",
      "Shopping : 122\n",
      "Sports : 114\n",
      "Book : 112\n",
      "Finance : 104\n",
      "Travel : 81\n",
      "News : 75\n",
      "Weather : 72\n",
      "Reference : 64\n",
      "Food & Drink : 63\n",
      "Business : 57\n",
      "Navigation : 46\n",
      "Medical : 23\n",
      "Catalogs : 10\n"
     ]
    }
   ],
   "source": [
    "display_table(apple_store_list, 11)"
   ]
  },
  {
   "cell_type": "markdown",
   "metadata": {},
   "source": [
    "From the result above we can say\n",
    "\n",
    "1. The most common genre in App Store is Games. \n",
    "2. Even looking at other genres, most apps are developed for entertainment (Games and Entertainment takes up about half of the appplication genre)\n",
    "3. Generally speaking there are more apps for entertainment because that's what people want. However, that means also there are lots of apps out there already for it. So it doesn't mean that the app in entertainment category is going to be profitable. "
   ]
  },
  {
   "cell_type": "code",
   "execution_count": 22,
   "metadata": {
    "collapsed": false
   },
   "outputs": [
    {
     "name": "stdout",
     "output_type": "stream",
     "text": [
      "Tools : 748\n",
      "Entertainment : 537\n",
      "Education : 473\n",
      "Business : 408\n",
      "Lifestyle : 344\n",
      "Productivity : 343\n",
      "Finance : 327\n",
      "Medical : 311\n",
      "Sports : 306\n",
      "Personalization : 295\n",
      "Communication : 285\n",
      "Action : 274\n",
      "Health & Fitness : 272\n",
      "Photography : 262\n",
      "News & Magazines : 248\n",
      "Social : 235\n",
      "Travel & Local : 206\n",
      "Shopping : 197\n",
      "Books & Reference : 192\n",
      "Simulation : 183\n",
      "Dating : 165\n",
      "Arcade : 163\n",
      "Video Players & Editors : 157\n",
      "Casual : 156\n",
      "Maps & Navigation : 121\n",
      "Food & Drink : 108\n",
      "Puzzle : 100\n",
      "Racing : 88\n",
      "Role Playing : 83\n",
      "Libraries & Demo : 83\n",
      "Auto & Vehicles : 82\n",
      "Strategy : 80\n",
      "House & Home : 72\n",
      "Weather : 69\n",
      "Events : 63\n",
      "Adventure : 60\n",
      "Beauty : 53\n",
      "Art & Design : 53\n",
      "Comics : 51\n",
      "Parenting : 44\n",
      "Card : 40\n",
      "Trivia : 38\n",
      "Casino : 38\n",
      "Educational;Education : 35\n",
      "Board : 34\n",
      "Educational : 32\n",
      "Education;Education : 31\n",
      "Word : 23\n",
      "Casual;Pretend Play : 21\n",
      "Music : 18\n",
      "Racing;Action & Adventure : 15\n",
      "Puzzle;Brain Games : 15\n",
      "Entertainment;Music & Video : 15\n",
      "Casual;Brain Games : 12\n",
      "Casual;Action & Adventure : 12\n",
      "Arcade;Action & Adventure : 11\n",
      "Action;Action & Adventure : 9\n",
      "Educational;Pretend Play : 8\n",
      "Simulation;Action & Adventure : 7\n",
      "Parenting;Education : 7\n",
      "Entertainment;Brain Games : 7\n",
      "Board;Brain Games : 7\n",
      "Parenting;Music & Video : 6\n",
      "Educational;Brain Games : 6\n",
      "Casual;Creativity : 6\n",
      "Art & Design;Creativity : 6\n",
      "Education;Pretend Play : 5\n",
      "Role Playing;Pretend Play : 4\n",
      "Education;Creativity : 4\n",
      "Role Playing;Action & Adventure : 3\n",
      "Puzzle;Action & Adventure : 3\n",
      "Entertainment;Creativity : 3\n",
      "Entertainment;Action & Adventure : 3\n",
      "Educational;Creativity : 3\n",
      "Educational;Action & Adventure : 3\n",
      "Education;Music & Video : 3\n",
      "Education;Brain Games : 3\n",
      "Education;Action & Adventure : 3\n",
      "Adventure;Action & Adventure : 3\n",
      "Video Players & Editors;Music & Video : 2\n",
      "Sports;Action & Adventure : 2\n",
      "Simulation;Pretend Play : 2\n",
      "Puzzle;Creativity : 2\n",
      "Music;Music & Video : 2\n",
      "Entertainment;Pretend Play : 2\n",
      "Casual;Education : 2\n",
      "Board;Action & Adventure : 2\n",
      "Video Players & Editors;Creativity : 1\n",
      "Trivia;Education : 1\n",
      "Travel & Local;Action & Adventure : 1\n",
      "Tools;Education : 1\n",
      "Strategy;Education : 1\n",
      "Strategy;Creativity : 1\n",
      "Strategy;Action & Adventure : 1\n",
      "Simulation;Education : 1\n",
      "Role Playing;Brain Games : 1\n",
      "Racing;Pretend Play : 1\n",
      "Puzzle;Education : 1\n",
      "Parenting;Brain Games : 1\n",
      "Music & Audio;Music & Video : 1\n",
      "Lifestyle;Pretend Play : 1\n",
      "Lifestyle;Education : 1\n",
      "Health & Fitness;Education : 1\n",
      "Health & Fitness;Action & Adventure : 1\n",
      "Entertainment;Education : 1\n",
      "Communication;Creativity : 1\n",
      "Comics;Creativity : 1\n",
      "Casual;Music & Video : 1\n",
      "Card;Action & Adventure : 1\n",
      "Books & Reference;Education : 1\n",
      "Art & Design;Pretend Play : 1\n",
      "Art & Design;Action & Adventure : 1\n",
      "Arcade;Pretend Play : 1\n",
      "Adventure;Education : 1\n"
     ]
    }
   ],
   "source": [
    "display_table(android_free, 9)"
   ]
  },
  {
   "cell_type": "markdown",
   "metadata": {
    "collapsed": false
   },
   "source": [
    "Compare to iOS data, it's much more messy to navigate. This seems more detailed data as well. For instance, most litkely Roll Playing, Strategy, Adventure, and ect would be categorized in iOS as Games."
   ]
  },
  {
   "cell_type": "code",
   "execution_count": 23,
   "metadata": {
    "collapsed": false
   },
   "outputs": [
    {
     "name": "stdout",
     "output_type": "stream",
     "text": [
      "FAMILY : 1675\n",
      "GAME : 861\n",
      "TOOLS : 749\n",
      "BUSINESS : 408\n",
      "LIFESTYLE : 345\n",
      "PRODUCTIVITY : 343\n",
      "FINANCE : 327\n",
      "MEDICAL : 311\n",
      "SPORTS : 300\n",
      "PERSONALIZATION : 295\n",
      "COMMUNICATION : 285\n",
      "HEALTH_AND_FITNESS : 272\n",
      "PHOTOGRAPHY : 262\n",
      "NEWS_AND_MAGAZINES : 248\n",
      "SOCIAL : 235\n",
      "TRAVEL_AND_LOCAL : 207\n",
      "SHOPPING : 197\n",
      "BOOKS_AND_REFERENCE : 192\n",
      "DATING : 165\n",
      "VIDEO_PLAYERS : 159\n",
      "MAPS_AND_NAVIGATION : 121\n",
      "FOOD_AND_DRINK : 108\n",
      "EDUCATION : 104\n",
      "ENTERTAINMENT : 84\n",
      "LIBRARIES_AND_DEMO : 83\n",
      "AUTO_AND_VEHICLES : 82\n",
      "HOUSE_AND_HOME : 72\n",
      "WEATHER : 69\n",
      "EVENTS : 63\n",
      "PARENTING : 58\n",
      "ART_AND_DESIGN : 57\n",
      "BEAUTY : 53\n",
      "COMICS : 52\n"
     ]
    }
   ],
   "source": [
    "display_table(android_free, 1)"
   ]
  },
  {
   "cell_type": "markdown",
   "metadata": {
    "collapsed": true
   },
   "source": [
    "Now this is more tidy data. What we see is that:\n",
    "\n",
    "1. Game is also one of the most common genre in Android.\n",
    "2. Family is number one before anything, but what makes an app as family is vague. \n",
    "3. From the analysis so far, Game is the most popular apps from the both market."
   ]
  },
  {
   "cell_type": "markdown",
   "metadata": {
    "collapsed": true
   },
   "source": [
    "One way to see how many users there are is see how many installations there have been. This data is missing in iOS data. The next best thing we can use is total number of rating. "
   ]
  },
  {
   "cell_type": "code",
   "execution_count": 24,
   "metadata": {
    "collapsed": true
   },
   "outputs": [],
   "source": [
    "iOS_freq = freq_table(apple_store_list, 11)"
   ]
  },
  {
   "cell_type": "code",
   "execution_count": 26,
   "metadata": {
    "collapsed": false
   },
   "outputs": [
    {
     "name": "stdout",
     "output_type": "stream",
     "text": [
      "Food & Drink 13938.619047619048\n",
      "Education 2239.2295805739514\n",
      "Utilities 6863.822580645161\n",
      "Reference 22410.84375\n",
      "Entertainment 7533.678504672897\n",
      "Weather 22181.027777777777\n",
      "Medical 592.7826086956521\n",
      "Navigation 11853.95652173913\n",
      "Finance 11047.653846153846\n",
      "Health & Fitness 9913.172222222222\n",
      "Lifestyle 6161.763888888889\n",
      "News 13015.066666666668\n",
      "Games 13691.996633868463\n",
      "Shopping 18615.32786885246\n",
      "Productivity 8051.3258426966295\n",
      "Photo & Video 14352.280802292264\n",
      "Catalogs 1732.5\n",
      "Travel 14129.444444444445\n",
      "Social Networking 45498.89820359281\n",
      "Sports 14026.929824561403\n",
      "Music 28842.021739130436\n",
      "Book 5125.4375\n",
      "Business 4788.087719298245\n"
     ]
    }
   ],
   "source": [
    "for genre in iOS_freq:\n",
    "    total = 0\n",
    "    len_genre = 0\n",
    "    for app in apple_store_list:\n",
    "        genre_app = app[11]\n",
    "        if genre == genre_app:\n",
    "            number_user_ratings = float(app[5])\n",
    "            total += number_user_ratings\n",
    "            len_genre += 1\n",
    "    average_number_user_ratings = total / len_genre\n",
    "    print(genre, average_number_user_ratings)\n"
   ]
  },
  {
   "cell_type": "markdown",
   "metadata": {},
   "source": [
    "It's interesting. There are lots of games out there. However, what people use most is Social Networking in App Store. M"
   ]
  },
  {
   "cell_type": "markdown",
   "metadata": {},
   "source": [
    "Now we are going to look at android data. It does have installation number. However it's not precise. The values are in the format of 100+, 1000+, 5000+, etc. We don't actually know exact number. 5000+ could mean 6000, 7000, or 9999. But for our purpose here it could be enough. "
   ]
  },
  {
   "cell_type": "code",
   "execution_count": 27,
   "metadata": {
    "collapsed": true
   },
   "outputs": [],
   "source": [
    "android_category_freq = freq_table(android_free, 1)"
   ]
  },
  {
   "cell_type": "code",
   "execution_count": 31,
   "metadata": {
    "collapsed": false
   },
   "outputs": [
    {
     "data": {
      "text/plain": [
       "[['Photo Editor & Candy Camera & Grid & ScrapBook',\n",
       "  'ART_AND_DESIGN',\n",
       "  '4.1',\n",
       "  '159',\n",
       "  '19M',\n",
       "  '10,000+',\n",
       "  'Free',\n",
       "  '0',\n",
       "  'Everyone',\n",
       "  'Art & Design',\n",
       "  'January 7, 2018',\n",
       "  '1.0.0',\n",
       "  '4.0.3 and up']]"
      ]
     },
     "execution_count": 31,
     "metadata": {},
     "output_type": "execute_result"
    }
   ],
   "source": [
    "android_free[:1]"
   ]
  },
  {
   "cell_type": "code",
   "execution_count": 37,
   "metadata": {
    "collapsed": false
   },
   "outputs": [
    {
     "name": "stdout",
     "output_type": "stream",
     "text": [
      "MEDICAL 121319.43408360129\n",
      "PHOTOGRAPHY 17772018.759541985\n",
      "BEAUTY 513151.88679245283\n",
      "EVENTS 253542.22222222222\n",
      "BUSINESS 1708215.906862745\n",
      "WEATHER 5212877.101449275\n",
      "SOCIAL 23348348.519148935\n",
      "TRAVEL_AND_LOCAL 13984077.710144928\n",
      "SHOPPING 7105728.85786802\n",
      "VIDEO_PLAYERS 24727872.452830188\n",
      "AUTO_AND_VEHICLES 647317.8170731707\n",
      "COMMUNICATION 38725984.88070176\n",
      "GAME 15547984.262485482\n",
      "SPORTS 3650768.91\n",
      "HOUSE_AND_HOME 1348645.2916666667\n",
      "LIFESTYLE 1456502.3739130434\n",
      "COMICS 835022.1153846154\n",
      "FINANCE 1361355.1437308867\n",
      "LIBRARIES_AND_DEMO 638503.734939759\n",
      "FOOD_AND_DRINK 1960358.8055555555\n",
      "ART_AND_DESIGN 1986335.0877192982\n",
      "ENTERTAINMENT 11767380.952380951\n",
      "NEWS_AND_MAGAZINES 9549218.387096774\n",
      "TOOLS 10815793.690253671\n",
      "BOOKS_AND_REFERENCE 8676746.145833334\n",
      "EDUCATION 1825480.7692307692\n",
      "FAMILY 3697409.3677611942\n",
      "DATING 854028.8303030303\n",
      "PERSONALIZATION 5183850.806779661\n",
      "HEALTH_AND_FITNESS 4200545.595588235\n",
      "MAPS_AND_NAVIGATION 4108312.2314049588\n",
      "PRODUCTIVITY 16879239.98250729\n",
      "PARENTING 542603.6206896552\n"
     ]
    }
   ],
   "source": [
    "for category in android_category_freq:\n",
    "    total = 0\n",
    "    len_category = 0\n",
    "    for app in android_free:\n",
    "        category_app = app[1]\n",
    "        if category == category_app:\n",
    "            number_installs = app[5]\n",
    "            number_installs = number_installs.replace(',','')\n",
    "            number_installs = number_installs.replace('+','')\n",
    "            number_installs = float(number_installs)        \n",
    "            total += number_installs\n",
    "            len_category += 1\n",
    "    avg_n_installs = total /len_category\n",
    "    print(category, avg_n_installs)"
   ]
  },
  {
   "cell_type": "markdown",
   "metadata": {},
   "source": [
    "The result is the same as iOS. The most popular catego"
   ]
  }
 ],
 "metadata": {
  "kernelspec": {
   "display_name": "Python 3",
   "language": "python",
   "name": "python3"
  },
  "language_info": {
   "codemirror_mode": {
    "name": "ipython",
    "version": 3
   },
   "file_extension": ".py",
   "mimetype": "text/x-python",
   "name": "python",
   "nbconvert_exporter": "python",
   "pygments_lexer": "ipython3",
   "version": "3.4.3"
  }
 },
 "nbformat": 4,
 "nbformat_minor": 2
}
