{
 "cells": [
  {
   "cell_type": "markdown",
   "metadata": {
    "collapsed": true
   },
   "source": [
    "# Winning Jeopardy\n",
    "\n",
    "Jeopardy is a popular TV show in the US where participants answer questions to win money. It's been running for a few decades, and is a major force in popular culture.\n",
    "\n",
    "Let's say we want to compete on Jeopardy, and we're looking for any edge we can get to win. In this project, we'll work with a dataset of Jeopardy questions to figure out some patterns in the questions that could help you win.\n",
    "\n",
    "The dataset is named jeopardy.csv, and contains 20000 rows from the beginning of a full dataset of Jeopardy questions.\n",
    "\n",
    "- Show Number -- the Jeopardy episode number of the show this question was in.\n",
    "- Air Date -- the date the episode aired.\n",
    "- Round -- the round of Jeopardy that the question was asked in. Jeopardy has several rounds as each episode progresses.\n",
    "- Category -- the category of the question.\n",
    "- Value -- the number of dollars answering the question correctly is worth.\n",
    "- Question -- the text of the question.\n",
    "- Answer -- the text of the answer."
   ]
  },
  {
   "cell_type": "markdown",
   "metadata": {},
   "source": [
    "## Jeopardy Questions"
   ]
  },
  {
   "cell_type": "code",
   "execution_count": 1,
   "metadata": {
    "collapsed": true
   },
   "outputs": [],
   "source": [
    "import numpy as np\n",
    "import pandas as pd\n"
   ]
  },
  {
   "cell_type": "code",
   "execution_count": 2,
   "metadata": {
    "collapsed": false
   },
   "outputs": [],
   "source": [
    "jeopardy = pd.read_csv('jeopardy.csv')"
   ]
  },
  {
   "cell_type": "code",
   "execution_count": 3,
   "metadata": {
    "collapsed": false
   },
   "outputs": [
    {
     "data": {
      "text/html": [
       "<div>\n",
       "<style scoped>\n",
       "    .dataframe tbody tr th:only-of-type {\n",
       "        vertical-align: middle;\n",
       "    }\n",
       "\n",
       "    .dataframe tbody tr th {\n",
       "        vertical-align: top;\n",
       "    }\n",
       "\n",
       "    .dataframe thead th {\n",
       "        text-align: right;\n",
       "    }\n",
       "</style>\n",
       "<table border=\"1\" class=\"dataframe\">\n",
       "  <thead>\n",
       "    <tr style=\"text-align: right;\">\n",
       "      <th></th>\n",
       "      <th>Show Number</th>\n",
       "      <th>Air Date</th>\n",
       "      <th>Round</th>\n",
       "      <th>Category</th>\n",
       "      <th>Value</th>\n",
       "      <th>Question</th>\n",
       "      <th>Answer</th>\n",
       "    </tr>\n",
       "  </thead>\n",
       "  <tbody>\n",
       "    <tr>\n",
       "      <th>0</th>\n",
       "      <td>4680</td>\n",
       "      <td>2004-12-31</td>\n",
       "      <td>Jeopardy!</td>\n",
       "      <td>HISTORY</td>\n",
       "      <td>$200</td>\n",
       "      <td>For the last 8 years of his life, Galileo was ...</td>\n",
       "      <td>Copernicus</td>\n",
       "    </tr>\n",
       "    <tr>\n",
       "      <th>1</th>\n",
       "      <td>4680</td>\n",
       "      <td>2004-12-31</td>\n",
       "      <td>Jeopardy!</td>\n",
       "      <td>ESPN's TOP 10 ALL-TIME ATHLETES</td>\n",
       "      <td>$200</td>\n",
       "      <td>No. 2: 1912 Olympian; football star at Carlisl...</td>\n",
       "      <td>Jim Thorpe</td>\n",
       "    </tr>\n",
       "    <tr>\n",
       "      <th>2</th>\n",
       "      <td>4680</td>\n",
       "      <td>2004-12-31</td>\n",
       "      <td>Jeopardy!</td>\n",
       "      <td>EVERYBODY TALKS ABOUT IT...</td>\n",
       "      <td>$200</td>\n",
       "      <td>The city of Yuma in this state has a record av...</td>\n",
       "      <td>Arizona</td>\n",
       "    </tr>\n",
       "    <tr>\n",
       "      <th>3</th>\n",
       "      <td>4680</td>\n",
       "      <td>2004-12-31</td>\n",
       "      <td>Jeopardy!</td>\n",
       "      <td>THE COMPANY LINE</td>\n",
       "      <td>$200</td>\n",
       "      <td>In 1963, live on \"The Art Linkletter Show\", th...</td>\n",
       "      <td>McDonald's</td>\n",
       "    </tr>\n",
       "    <tr>\n",
       "      <th>4</th>\n",
       "      <td>4680</td>\n",
       "      <td>2004-12-31</td>\n",
       "      <td>Jeopardy!</td>\n",
       "      <td>EPITAPHS &amp; TRIBUTES</td>\n",
       "      <td>$200</td>\n",
       "      <td>Signer of the Dec. of Indep., framer of the Co...</td>\n",
       "      <td>John Adams</td>\n",
       "    </tr>\n",
       "  </tbody>\n",
       "</table>\n",
       "</div>"
      ],
      "text/plain": [
       "   Show Number    Air Date      Round                         Category  Value  \\\n",
       "0         4680  2004-12-31  Jeopardy!                          HISTORY   $200   \n",
       "1         4680  2004-12-31  Jeopardy!  ESPN's TOP 10 ALL-TIME ATHLETES   $200   \n",
       "2         4680  2004-12-31  Jeopardy!      EVERYBODY TALKS ABOUT IT...   $200   \n",
       "3         4680  2004-12-31  Jeopardy!                 THE COMPANY LINE   $200   \n",
       "4         4680  2004-12-31  Jeopardy!              EPITAPHS & TRIBUTES   $200   \n",
       "\n",
       "                                            Question      Answer  \n",
       "0  For the last 8 years of his life, Galileo was ...  Copernicus  \n",
       "1  No. 2: 1912 Olympian; football star at Carlisl...  Jim Thorpe  \n",
       "2  The city of Yuma in this state has a record av...     Arizona  \n",
       "3  In 1963, live on \"The Art Linkletter Show\", th...  McDonald's  \n",
       "4  Signer of the Dec. of Indep., framer of the Co...  John Adams  "
      ]
     },
     "execution_count": 3,
     "metadata": {},
     "output_type": "execute_result"
    }
   ],
   "source": [
    "jeopardy.head()\n"
   ]
  },
  {
   "cell_type": "code",
   "execution_count": 4,
   "metadata": {
    "collapsed": false
   },
   "outputs": [
    {
     "data": {
      "text/plain": [
       "Index(['Show Number', ' Air Date', ' Round', ' Category', ' Value',\n",
       "       ' Question', ' Answer'],\n",
       "      dtype='object')"
      ]
     },
     "execution_count": 4,
     "metadata": {},
     "output_type": "execute_result"
    }
   ],
   "source": [
    "jeopardy.columns"
   ]
  },
  {
   "cell_type": "code",
   "execution_count": 5,
   "metadata": {
    "collapsed": false
   },
   "outputs": [],
   "source": [
    "\"\"\"\n",
    "some of the columns has white space. \n",
    "This can be inconvinient when you are working with the data set.\n",
    "Let's remove it\n",
    "\"\"\"\n",
    "jeopardy.columns = jeopardy.columns.str.strip()"
   ]
  },
  {
   "cell_type": "code",
   "execution_count": 6,
   "metadata": {
    "collapsed": false
   },
   "outputs": [
    {
     "data": {
      "text/plain": [
       "Index(['Show Number', 'Air Date', 'Round', 'Category', 'Value', 'Question',\n",
       "       'Answer'],\n",
       "      dtype='object')"
      ]
     },
     "execution_count": 6,
     "metadata": {},
     "output_type": "execute_result"
    }
   ],
   "source": [
    "\"\"\"Now we can see the white spaces are removed\"\"\"\n",
    "jeopardy.columns"
   ]
  },
  {
   "cell_type": "markdown",
   "metadata": {},
   "source": [
    "## Normalizing text\n",
    "\n",
    "Before we can start doing analysis on the Jeopardy questions, we need to normalize all of the text columns (the Question and Answer columns). The idea is to ensure that we lowercase words and remove puntuation so Don't and don't aren't considered to be different words when we compare them."
   ]
  },
  {
   "cell_type": "code",
   "execution_count": 7,
   "metadata": {
    "collapsed": true
   },
   "outputs": [],
   "source": [
    "import re\n",
    "\n",
    "def normalize_text(s):\n",
    "    s = s.lower()\n",
    "    s = re.sub(\"[^A-Za-z0-9\\s]\", \"\", s)\n",
    "    return s"
   ]
  },
  {
   "cell_type": "code",
   "execution_count": 8,
   "metadata": {
    "collapsed": false
   },
   "outputs": [],
   "source": [
    "jeopardy['clean_question'] = jeopardy['Question'].apply(normalize_text)\n",
    "jeopardy['clean_answer'] = jeopardy['Answer'].apply(normalize_text)"
   ]
  },
  {
   "cell_type": "code",
   "execution_count": 9,
   "metadata": {
    "collapsed": false
   },
   "outputs": [
    {
     "data": {
      "text/html": [
       "<div>\n",
       "<style scoped>\n",
       "    .dataframe tbody tr th:only-of-type {\n",
       "        vertical-align: middle;\n",
       "    }\n",
       "\n",
       "    .dataframe tbody tr th {\n",
       "        vertical-align: top;\n",
       "    }\n",
       "\n",
       "    .dataframe thead th {\n",
       "        text-align: right;\n",
       "    }\n",
       "</style>\n",
       "<table border=\"1\" class=\"dataframe\">\n",
       "  <thead>\n",
       "    <tr style=\"text-align: right;\">\n",
       "      <th></th>\n",
       "      <th>Question</th>\n",
       "      <th>clean_question</th>\n",
       "    </tr>\n",
       "  </thead>\n",
       "  <tbody>\n",
       "    <tr>\n",
       "      <th>0</th>\n",
       "      <td>For the last 8 years of his life, Galileo was ...</td>\n",
       "      <td>for the last 8 years of his life galileo was u...</td>\n",
       "    </tr>\n",
       "    <tr>\n",
       "      <th>1</th>\n",
       "      <td>No. 2: 1912 Olympian; football star at Carlisl...</td>\n",
       "      <td>no 2 1912 olympian football star at carlisle i...</td>\n",
       "    </tr>\n",
       "    <tr>\n",
       "      <th>2</th>\n",
       "      <td>The city of Yuma in this state has a record av...</td>\n",
       "      <td>the city of yuma in this state has a record av...</td>\n",
       "    </tr>\n",
       "    <tr>\n",
       "      <th>3</th>\n",
       "      <td>In 1963, live on \"The Art Linkletter Show\", th...</td>\n",
       "      <td>in 1963 live on the art linkletter show this c...</td>\n",
       "    </tr>\n",
       "    <tr>\n",
       "      <th>4</th>\n",
       "      <td>Signer of the Dec. of Indep., framer of the Co...</td>\n",
       "      <td>signer of the dec of indep framer of the const...</td>\n",
       "    </tr>\n",
       "    <tr>\n",
       "      <th>5</th>\n",
       "      <td>In the title of an Aesop fable, this insect sh...</td>\n",
       "      <td>in the title of an aesop fable this insect sha...</td>\n",
       "    </tr>\n",
       "    <tr>\n",
       "      <th>6</th>\n",
       "      <td>Built in 312 B.C. to link Rome &amp; the South of ...</td>\n",
       "      <td>built in 312 bc to link rome  the south of ita...</td>\n",
       "    </tr>\n",
       "    <tr>\n",
       "      <th>7</th>\n",
       "      <td>No. 8: 30 steals for the Birmingham Barons; 2,...</td>\n",
       "      <td>no 8 30 steals for the birmingham barons 2306 ...</td>\n",
       "    </tr>\n",
       "    <tr>\n",
       "      <th>8</th>\n",
       "      <td>In the winter of 1971-72, a record 1,122 inche...</td>\n",
       "      <td>in the winter of 197172 a record 1122 inches o...</td>\n",
       "    </tr>\n",
       "    <tr>\n",
       "      <th>9</th>\n",
       "      <td>This housewares store was named for the packag...</td>\n",
       "      <td>this housewares store was named for the packag...</td>\n",
       "    </tr>\n",
       "    <tr>\n",
       "      <th>10</th>\n",
       "      <td>\"And away we go\"</td>\n",
       "      <td>and away we go</td>\n",
       "    </tr>\n",
       "    <tr>\n",
       "      <th>11</th>\n",
       "      <td>Cows regurgitate this from the first stomach t...</td>\n",
       "      <td>cows regurgitate this from the first stomach t...</td>\n",
       "    </tr>\n",
       "    <tr>\n",
       "      <th>12</th>\n",
       "      <td>In 1000 Rajaraja I of the Cholas battled to ta...</td>\n",
       "      <td>in 1000 rajaraja i of the cholas battled to ta...</td>\n",
       "    </tr>\n",
       "    <tr>\n",
       "      <th>13</th>\n",
       "      <td>No. 1: Lettered in hoops, football &amp; lacrosse ...</td>\n",
       "      <td>no 1 lettered in hoops football  lacrosse at s...</td>\n",
       "    </tr>\n",
       "    <tr>\n",
       "      <th>14</th>\n",
       "      <td>On June 28, 1994 the nat'l weather service beg...</td>\n",
       "      <td>on june 28 1994 the natl weather service began...</td>\n",
       "    </tr>\n",
       "    <tr>\n",
       "      <th>15</th>\n",
       "      <td>This company's Accutron watch, introduced in 1...</td>\n",
       "      <td>this companys accutron watch introduced in 196...</td>\n",
       "    </tr>\n",
       "    <tr>\n",
       "      <th>16</th>\n",
       "      <td>Outlaw: \"Murdered by a traitor and a coward wh...</td>\n",
       "      <td>outlaw murdered by a traitor and a coward whos...</td>\n",
       "    </tr>\n",
       "    <tr>\n",
       "      <th>17</th>\n",
       "      <td>A small demon, or a mischievous child (who mig...</td>\n",
       "      <td>a small demon or a mischievous child who might...</td>\n",
       "    </tr>\n",
       "    <tr>\n",
       "      <th>18</th>\n",
       "      <td>Karl led the first of these Marxist organizati...</td>\n",
       "      <td>karl led the first of these marxist organizati...</td>\n",
       "    </tr>\n",
       "    <tr>\n",
       "      <th>19</th>\n",
       "      <td>No. 10: FB/LB for Columbia U. in the 1920s; MV...</td>\n",
       "      <td>no 10 fblb for columbia u in the 1920s mvp for...</td>\n",
       "    </tr>\n",
       "    <tr>\n",
       "      <th>20</th>\n",
       "      <td>Africa's lowest temperature was 11 degrees bel...</td>\n",
       "      <td>africas lowest temperature was 11 degrees belo...</td>\n",
       "    </tr>\n",
       "    <tr>\n",
       "      <th>21</th>\n",
       "      <td>Edward Teller &amp; this man partnered in 1898 to ...</td>\n",
       "      <td>edward teller  this man partnered in 1898 to s...</td>\n",
       "    </tr>\n",
       "    <tr>\n",
       "      <th>22</th>\n",
       "      <td>1939 Oscar winner: \"...you are a credit to you...</td>\n",
       "      <td>1939 oscar winner you are a credit to your cra...</td>\n",
       "    </tr>\n",
       "    <tr>\n",
       "      <th>23</th>\n",
       "      <td>In geologic time one of these, shorter than an...</td>\n",
       "      <td>in geologic time one of these shorter than an ...</td>\n",
       "    </tr>\n",
       "    <tr>\n",
       "      <th>24</th>\n",
       "      <td>This Asian political party was founded in 1885...</td>\n",
       "      <td>this asian political party was founded in 1885...</td>\n",
       "    </tr>\n",
       "    <tr>\n",
       "      <th>25</th>\n",
       "      <td>No. 5: Only center to lead the NBA in assists;...</td>\n",
       "      <td>no 5 only center to lead the nba in assists tr...</td>\n",
       "    </tr>\n",
       "    <tr>\n",
       "      <th>26</th>\n",
       "      <td>The Kirschner brothers, Don &amp; Bill, named this...</td>\n",
       "      <td>the kirschner brothers don  bill named this sk...</td>\n",
       "    </tr>\n",
       "    <tr>\n",
       "      <th>27</th>\n",
       "      <td>Revolutionary War hero: \"His spirit is in Verm...</td>\n",
       "      <td>revolutionary war hero his spirit is in vermon...</td>\n",
       "    </tr>\n",
       "    <tr>\n",
       "      <th>28</th>\n",
       "      <td>A single layer of paper, or to perform one's c...</td>\n",
       "      <td>a single layer of paper or to perform ones cra...</td>\n",
       "    </tr>\n",
       "    <tr>\n",
       "      <th>29</th>\n",
       "      <td>&lt;a href=\"http://www.j-archive.com/media/2004-1...</td>\n",
       "      <td>a hrefhttpwwwjarchivecommedia20041231dj23mp3be...</td>\n",
       "    </tr>\n",
       "    <tr>\n",
       "      <th>...</th>\n",
       "      <td>...</td>\n",
       "      <td>...</td>\n",
       "    </tr>\n",
       "    <tr>\n",
       "      <th>19969</th>\n",
       "      <td>In 1960 the last of these locomotives was reti...</td>\n",
       "      <td>in 1960 the last of these locomotives was reti...</td>\n",
       "    </tr>\n",
       "    <tr>\n",
       "      <th>19970</th>\n",
       "      <td>Kate: \"if I be waspish, best beware my sting\";...</td>\n",
       "      <td>kate if i be waspish best beware my sting his ...</td>\n",
       "    </tr>\n",
       "    <tr>\n",
       "      <th>19971</th>\n",
       "      <td>This private college in Northern California bo...</td>\n",
       "      <td>this private college in northern california bo...</td>\n",
       "    </tr>\n",
       "    <tr>\n",
       "      <th>19972</th>\n",
       "      <td>She voiced Princess Pea in \"The Tale of Desper...</td>\n",
       "      <td>she voiced princess pea in the tale of despere...</td>\n",
       "    </tr>\n",
       "    <tr>\n",
       "      <th>19973</th>\n",
       "      <td>It's the name of the long-awaited new White Ho...</td>\n",
       "      <td>its the name of the longawaited new white hous...</td>\n",
       "    </tr>\n",
       "    <tr>\n",
       "      <th>19974</th>\n",
       "      <td>Langdon in \"Angels &amp; Demons\" is looking for &lt;a...</td>\n",
       "      <td>langdon in angels  demons is looking for a hre...</td>\n",
       "    </tr>\n",
       "    <tr>\n",
       "      <th>19975</th>\n",
       "      <td>In the 1600s most of New York State was occupi...</td>\n",
       "      <td>in the 1600s most of new york state was occupi...</td>\n",
       "    </tr>\n",
       "    <tr>\n",
       "      <th>19976</th>\n",
       "      <td>Marina's dad (need a hint? he rules Tyre)</td>\n",
       "      <td>marinas dad need a hint he rules tyre</td>\n",
       "    </tr>\n",
       "    <tr>\n",
       "      <th>19977</th>\n",
       "      <td>Presidential kids are welcome at this New Orle...</td>\n",
       "      <td>presidential kids are welcome at this new orle...</td>\n",
       "    </tr>\n",
       "    <tr>\n",
       "      <th>19978</th>\n",
       "      <td>She didn't vamp it up &amp; did a bella job as Em ...</td>\n",
       "      <td>she didnt vamp it up  did a bella job as em in...</td>\n",
       "    </tr>\n",
       "    <tr>\n",
       "      <th>19979</th>\n",
       "      <td>Third syllable intoned by the giant who smells...</td>\n",
       "      <td>third syllable intoned by the giant who smells...</td>\n",
       "    </tr>\n",
       "    <tr>\n",
       "      <th>19980</th>\n",
       "      <td>Much of \"Angels &amp; Demons\" takes place at one o...</td>\n",
       "      <td>much of angels  demons takes place at one of a...</td>\n",
       "    </tr>\n",
       "    <tr>\n",
       "      <th>19981</th>\n",
       "      <td>In 1899 Secretary of State John Hay proclaimed...</td>\n",
       "      <td>in 1899 secretary of state john hay proclaimed...</td>\n",
       "    </tr>\n",
       "    <tr>\n",
       "      <th>19982</th>\n",
       "      <td>Fruity surname of Peter in \"A Midsummer Night'...</td>\n",
       "      <td>fruity surname of peter in a midsummer nights ...</td>\n",
       "    </tr>\n",
       "    <tr>\n",
       "      <th>19983</th>\n",
       "      <td>Quincy Jones, Kevin Eubanks &amp; Branford Marsali...</td>\n",
       "      <td>quincy jones kevin eubanks  branford marsalis ...</td>\n",
       "    </tr>\n",
       "    <tr>\n",
       "      <th>19984</th>\n",
       "      <td>In 2009 she returned to being \"Fast &amp; Furious\"...</td>\n",
       "      <td>in 2009 she returned to being fast  furious as...</td>\n",
       "    </tr>\n",
       "    <tr>\n",
       "      <th>19985</th>\n",
       "      <td>The book of Genesis says this ancient city \"of...</td>\n",
       "      <td>the book of genesis says this ancient city of ...</td>\n",
       "    </tr>\n",
       "    <tr>\n",
       "      <th>19986</th>\n",
       "      <td>\"Habakkuk and the Angel\" is one of a series of...</td>\n",
       "      <td>habakkuk and the angel is one of a series of a...</td>\n",
       "    </tr>\n",
       "    <tr>\n",
       "      <th>19987</th>\n",
       "      <td>In medieval England, it meant the smallest uni...</td>\n",
       "      <td>in medieval england it meant the smallest unit...</td>\n",
       "    </tr>\n",
       "    <tr>\n",
       "      <th>19988</th>\n",
       "      <td>This Texas city is the largest in the U.S. to ...</td>\n",
       "      <td>this texas city is the largest in the us to ha...</td>\n",
       "    </tr>\n",
       "    <tr>\n",
       "      <th>19989</th>\n",
       "      <td>...&amp; the Crickets</td>\n",
       "      <td>the crickets</td>\n",
       "    </tr>\n",
       "    <tr>\n",
       "      <th>19990</th>\n",
       "      <td>In the 990s this son of Erik the Red brought C...</td>\n",
       "      <td>in the 990s this son of erik the red brought c...</td>\n",
       "    </tr>\n",
       "    <tr>\n",
       "      <th>19991</th>\n",
       "      <td>Concerning a failed Windows 98 demonstration, ...</td>\n",
       "      <td>concerning a failed windows 98 demonstration h...</td>\n",
       "    </tr>\n",
       "    <tr>\n",
       "      <th>19992</th>\n",
       "      <td>This llama product is used to make hats, blank...</td>\n",
       "      <td>this llama product is used to make hats blanke...</td>\n",
       "    </tr>\n",
       "    <tr>\n",
       "      <th>19993</th>\n",
       "      <td>In 1967 this company introduced its chocolate-...</td>\n",
       "      <td>in 1967 this company introduced its chocolatec...</td>\n",
       "    </tr>\n",
       "    <tr>\n",
       "      <th>19994</th>\n",
       "      <td>Of 8, 12 or 18, the number of U.S. states that...</td>\n",
       "      <td>of 8 12 or 18 the number of us states that tou...</td>\n",
       "    </tr>\n",
       "    <tr>\n",
       "      <th>19995</th>\n",
       "      <td>...&amp; the New Power Generation</td>\n",
       "      <td>the new power generation</td>\n",
       "    </tr>\n",
       "    <tr>\n",
       "      <th>19996</th>\n",
       "      <td>In 1589 he was appointed professor of mathemat...</td>\n",
       "      <td>in 1589 he was appointed professor of mathemat...</td>\n",
       "    </tr>\n",
       "    <tr>\n",
       "      <th>19997</th>\n",
       "      <td>Before the grand jury she said, \"I'm really so...</td>\n",
       "      <td>before the grand jury she said im really sorry...</td>\n",
       "    </tr>\n",
       "    <tr>\n",
       "      <th>19998</th>\n",
       "      <td>Llamas are the heftiest South American members...</td>\n",
       "      <td>llamas are the heftiest south american members...</td>\n",
       "    </tr>\n",
       "  </tbody>\n",
       "</table>\n",
       "<p>19999 rows × 2 columns</p>\n",
       "</div>"
      ],
      "text/plain": [
       "                                                Question  \\\n",
       "0      For the last 8 years of his life, Galileo was ...   \n",
       "1      No. 2: 1912 Olympian; football star at Carlisl...   \n",
       "2      The city of Yuma in this state has a record av...   \n",
       "3      In 1963, live on \"The Art Linkletter Show\", th...   \n",
       "4      Signer of the Dec. of Indep., framer of the Co...   \n",
       "5      In the title of an Aesop fable, this insect sh...   \n",
       "6      Built in 312 B.C. to link Rome & the South of ...   \n",
       "7      No. 8: 30 steals for the Birmingham Barons; 2,...   \n",
       "8      In the winter of 1971-72, a record 1,122 inche...   \n",
       "9      This housewares store was named for the packag...   \n",
       "10                                      \"And away we go\"   \n",
       "11     Cows regurgitate this from the first stomach t...   \n",
       "12     In 1000 Rajaraja I of the Cholas battled to ta...   \n",
       "13     No. 1: Lettered in hoops, football & lacrosse ...   \n",
       "14     On June 28, 1994 the nat'l weather service beg...   \n",
       "15     This company's Accutron watch, introduced in 1...   \n",
       "16     Outlaw: \"Murdered by a traitor and a coward wh...   \n",
       "17     A small demon, or a mischievous child (who mig...   \n",
       "18     Karl led the first of these Marxist organizati...   \n",
       "19     No. 10: FB/LB for Columbia U. in the 1920s; MV...   \n",
       "20     Africa's lowest temperature was 11 degrees bel...   \n",
       "21     Edward Teller & this man partnered in 1898 to ...   \n",
       "22     1939 Oscar winner: \"...you are a credit to you...   \n",
       "23     In geologic time one of these, shorter than an...   \n",
       "24     This Asian political party was founded in 1885...   \n",
       "25     No. 5: Only center to lead the NBA in assists;...   \n",
       "26     The Kirschner brothers, Don & Bill, named this...   \n",
       "27     Revolutionary War hero: \"His spirit is in Verm...   \n",
       "28     A single layer of paper, or to perform one's c...   \n",
       "29     <a href=\"http://www.j-archive.com/media/2004-1...   \n",
       "...                                                  ...   \n",
       "19969  In 1960 the last of these locomotives was reti...   \n",
       "19970  Kate: \"if I be waspish, best beware my sting\";...   \n",
       "19971  This private college in Northern California bo...   \n",
       "19972  She voiced Princess Pea in \"The Tale of Desper...   \n",
       "19973  It's the name of the long-awaited new White Ho...   \n",
       "19974  Langdon in \"Angels & Demons\" is looking for <a...   \n",
       "19975  In the 1600s most of New York State was occupi...   \n",
       "19976          Marina's dad (need a hint? he rules Tyre)   \n",
       "19977  Presidential kids are welcome at this New Orle...   \n",
       "19978  She didn't vamp it up & did a bella job as Em ...   \n",
       "19979  Third syllable intoned by the giant who smells...   \n",
       "19980  Much of \"Angels & Demons\" takes place at one o...   \n",
       "19981  In 1899 Secretary of State John Hay proclaimed...   \n",
       "19982  Fruity surname of Peter in \"A Midsummer Night'...   \n",
       "19983  Quincy Jones, Kevin Eubanks & Branford Marsali...   \n",
       "19984  In 2009 she returned to being \"Fast & Furious\"...   \n",
       "19985  The book of Genesis says this ancient city \"of...   \n",
       "19986  \"Habakkuk and the Angel\" is one of a series of...   \n",
       "19987  In medieval England, it meant the smallest uni...   \n",
       "19988  This Texas city is the largest in the U.S. to ...   \n",
       "19989                                  ...& the Crickets   \n",
       "19990  In the 990s this son of Erik the Red brought C...   \n",
       "19991  Concerning a failed Windows 98 demonstration, ...   \n",
       "19992  This llama product is used to make hats, blank...   \n",
       "19993  In 1967 this company introduced its chocolate-...   \n",
       "19994  Of 8, 12 or 18, the number of U.S. states that...   \n",
       "19995                      ...& the New Power Generation   \n",
       "19996  In 1589 he was appointed professor of mathemat...   \n",
       "19997  Before the grand jury she said, \"I'm really so...   \n",
       "19998  Llamas are the heftiest South American members...   \n",
       "\n",
       "                                          clean_question  \n",
       "0      for the last 8 years of his life galileo was u...  \n",
       "1      no 2 1912 olympian football star at carlisle i...  \n",
       "2      the city of yuma in this state has a record av...  \n",
       "3      in 1963 live on the art linkletter show this c...  \n",
       "4      signer of the dec of indep framer of the const...  \n",
       "5      in the title of an aesop fable this insect sha...  \n",
       "6      built in 312 bc to link rome  the south of ita...  \n",
       "7      no 8 30 steals for the birmingham barons 2306 ...  \n",
       "8      in the winter of 197172 a record 1122 inches o...  \n",
       "9      this housewares store was named for the packag...  \n",
       "10                                        and away we go  \n",
       "11     cows regurgitate this from the first stomach t...  \n",
       "12     in 1000 rajaraja i of the cholas battled to ta...  \n",
       "13     no 1 lettered in hoops football  lacrosse at s...  \n",
       "14     on june 28 1994 the natl weather service began...  \n",
       "15     this companys accutron watch introduced in 196...  \n",
       "16     outlaw murdered by a traitor and a coward whos...  \n",
       "17     a small demon or a mischievous child who might...  \n",
       "18     karl led the first of these marxist organizati...  \n",
       "19     no 10 fblb for columbia u in the 1920s mvp for...  \n",
       "20     africas lowest temperature was 11 degrees belo...  \n",
       "21     edward teller  this man partnered in 1898 to s...  \n",
       "22     1939 oscar winner you are a credit to your cra...  \n",
       "23     in geologic time one of these shorter than an ...  \n",
       "24     this asian political party was founded in 1885...  \n",
       "25     no 5 only center to lead the nba in assists tr...  \n",
       "26     the kirschner brothers don  bill named this sk...  \n",
       "27     revolutionary war hero his spirit is in vermon...  \n",
       "28     a single layer of paper or to perform ones cra...  \n",
       "29     a hrefhttpwwwjarchivecommedia20041231dj23mp3be...  \n",
       "...                                                  ...  \n",
       "19969  in 1960 the last of these locomotives was reti...  \n",
       "19970  kate if i be waspish best beware my sting his ...  \n",
       "19971  this private college in northern california bo...  \n",
       "19972  she voiced princess pea in the tale of despere...  \n",
       "19973  its the name of the longawaited new white hous...  \n",
       "19974  langdon in angels  demons is looking for a hre...  \n",
       "19975  in the 1600s most of new york state was occupi...  \n",
       "19976              marinas dad need a hint he rules tyre  \n",
       "19977  presidential kids are welcome at this new orle...  \n",
       "19978  she didnt vamp it up  did a bella job as em in...  \n",
       "19979  third syllable intoned by the giant who smells...  \n",
       "19980  much of angels  demons takes place at one of a...  \n",
       "19981  in 1899 secretary of state john hay proclaimed...  \n",
       "19982  fruity surname of peter in a midsummer nights ...  \n",
       "19983  quincy jones kevin eubanks  branford marsalis ...  \n",
       "19984  in 2009 she returned to being fast  furious as...  \n",
       "19985  the book of genesis says this ancient city of ...  \n",
       "19986  habakkuk and the angel is one of a series of a...  \n",
       "19987  in medieval england it meant the smallest unit...  \n",
       "19988  this texas city is the largest in the us to ha...  \n",
       "19989                                       the crickets  \n",
       "19990  in the 990s this son of erik the red brought c...  \n",
       "19991  concerning a failed windows 98 demonstration h...  \n",
       "19992  this llama product is used to make hats blanke...  \n",
       "19993  in 1967 this company introduced its chocolatec...  \n",
       "19994  of 8 12 or 18 the number of us states that tou...  \n",
       "19995                           the new power generation  \n",
       "19996  in 1589 he was appointed professor of mathemat...  \n",
       "19997  before the grand jury she said im really sorry...  \n",
       "19998  llamas are the heftiest south american members...  \n",
       "\n",
       "[19999 rows x 2 columns]"
      ]
     },
     "execution_count": 9,
     "metadata": {},
     "output_type": "execute_result"
    }
   ],
   "source": [
    "jeopardy[['Question','clean_question']]"
   ]
  },
  {
   "cell_type": "markdown",
   "metadata": {},
   "source": [
    "## Normalizing Columns\n",
    "\n",
    "The Value column should also be numeric, to allow you to manipulate it more easily. You'll need to remove the dollar sign from the beginning of each value and convert the column from text to numeric.\n",
    "\n",
    "The Air Date column should also be a datetime, not a string, to enable you to work with it more easily."
   ]
  },
  {
   "cell_type": "code",
   "execution_count": 10,
   "metadata": {
    "collapsed": true
   },
   "outputs": [],
   "source": [
    "def normalize_value(s):\n",
    "    s = re.sub(\"[^A-Za-z0-9\\s]\", \"\",s)\n",
    "    if s.isnumeric():\n",
    "        return int(s)\n",
    "    else:\n",
    "        return int(0)"
   ]
  },
  {
   "cell_type": "code",
   "execution_count": 11,
   "metadata": {
    "collapsed": false
   },
   "outputs": [],
   "source": [
    "jeopardy['clean_value'] = jeopardy['Value'].apply(normalize_value)"
   ]
  },
  {
   "cell_type": "code",
   "execution_count": 12,
   "metadata": {
    "collapsed": false
   },
   "outputs": [
    {
     "data": {
      "text/plain": [
       "dtype('int64')"
      ]
     },
     "execution_count": 12,
     "metadata": {},
     "output_type": "execute_result"
    }
   ],
   "source": [
    "# You can see the data type is now integer\n",
    "jeopardy['clean_value'].dtype"
   ]
  },
  {
   "cell_type": "code",
   "execution_count": 13,
   "metadata": {
    "collapsed": false
   },
   "outputs": [],
   "source": [
    "jeopardy['Air Date'] = pd.to_datetime(jeopardy['Air Date'])"
   ]
  },
  {
   "cell_type": "markdown",
   "metadata": {},
   "source": [
    "## Answers in Questions\n",
    "\n",
    "In order to figure out whether to study past questions, study general knowledge, or not study it all, it would be helpful to figure out two things:\n",
    "\n",
    "- How often the answer is deducible from the question.\n",
    "- How often new questions are repeats of older questions.\n",
    "\n",
    "We can answer the second question by seeing how often complex words (> 6 characters) reoccur. We can answer the first question by seeing how many times words in the answer also occur in the question. We'll work on the first question now, and come back to the second."
   ]
  },
  {
   "cell_type": "code",
   "execution_count": 14,
   "metadata": {
    "collapsed": false
   },
   "outputs": [
    {
     "data": {
      "text/plain": [
       "'for the last 8 years of his life galileo was under house arrest for espousing this mans theory'"
      ]
     },
     "execution_count": 14,
     "metadata": {},
     "output_type": "execute_result"
    }
   ],
   "source": [
    "jeopardy.loc[0,'clean_question']"
   ]
  },
  {
   "cell_type": "code",
   "execution_count": 15,
   "metadata": {
    "collapsed": false
   },
   "outputs": [],
   "source": [
    "test = ['a','b','c']\n",
    "test.remove('a')"
   ]
  },
  {
   "cell_type": "code",
   "execution_count": 16,
   "metadata": {
    "collapsed": true
   },
   "outputs": [],
   "source": [
    "def count_match(row):\n",
    "    split_answer = row['clean_answer'].split(\" \")\n",
    "    split_question = row['clean_question'].split(\" \")\n",
    "    match_count = 0\n",
    "    if 'the' in split_answer:\n",
    "        split_answer.remove('the')\n",
    "    if len(split_answer) == 0:\n",
    "        return 0\n",
    "    for answer in split_answer:\n",
    "        if answer in split_question:\n",
    "            match_count += 1\n",
    "    return match_count / len(split_answer)"
   ]
  },
  {
   "cell_type": "code",
   "execution_count": 17,
   "metadata": {
    "collapsed": false
   },
   "outputs": [],
   "source": [
    "jeopardy['answer_in_question'] = jeopardy.apply(count_match, axis = 1)"
   ]
  },
  {
   "cell_type": "code",
   "execution_count": 18,
   "metadata": {
    "collapsed": false
   },
   "outputs": [
    {
     "data": {
      "text/plain": [
       "0.06049325706933587"
      ]
     },
     "execution_count": 18,
     "metadata": {},
     "output_type": "execute_result"
    }
   ],
   "source": [
    "jeopardy['answer_in_question'].mean()"
   ]
  },
  {
   "cell_type": "markdown",
   "metadata": {},
   "source": [
    "From the result above, we can see about 6% of answers could be deduced from the questions. If you don't have no clue, it might be a good betting strategy. "
   ]
  },
  {
   "cell_type": "markdown",
   "metadata": {},
   "source": [
    "## Recycled Questions\n",
    "\n",
    "Let's say we want to investigate how often new questions are repeats of older ones. we can't completely answer this, because we only have about 10% of the full Jeopardy question dataset, but we can investigate it at least."
   ]
  },
  {
   "cell_type": "code",
   "execution_count": 19,
   "metadata": {
    "collapsed": false
   },
   "outputs": [
    {
     "data": {
      "text/plain": [
       "0.6876260592169802"
      ]
     },
     "execution_count": 19,
     "metadata": {},
     "output_type": "execute_result"
    }
   ],
   "source": [
    "question_overlap = []\n",
    "terms_used = set()\n",
    "\n",
    "jeopardy.sort_values(by = 'Air Date', inplace=True)\n",
    "\n",
    "for i, row in jeopardy.iterrows():\n",
    "    split_question = row['clean_question'].split(\" \")\n",
    "    split_question = [word for word in split_question if len(word) > 5]\n",
    "    match_count = 0\n",
    "    for word in split_question:\n",
    "        if word in terms_used:\n",
    "            match_count += 1\n",
    "    for word in split_question:\n",
    "        terms_used.add(word)\n",
    "    if len(split_question) > 0:\n",
    "        match_count /= len(split_question)\n",
    "    question_overlap.append(match_count)\n",
    "\n",
    "jeopardy['question_overlap'] = question_overlap\n",
    "jeopardy[\"question_overlap\"].mean()"
   ]
  },
  {
   "cell_type": "markdown",
   "metadata": {},
   "source": [
    "The script above looks for if each terms came up in the previous questions. Which could be insignificant, but if certain topics are recycles from the past, it could be worth looking at the previous questions. "
   ]
  },
  {
   "cell_type": "markdown",
   "metadata": {},
   "source": [
    "## Low Value vs High Value Questions\n",
    "\n",
    "Let's say we only want to study questions that pertain to high value questions instead of low value questions. This will help we earn more money when we're on Jeopardy.\n",
    "\n",
    "You can actually figure out which terms correspond to high-value questions using a chi-squared test. You'll first need to narrow down the questions into two categories:\n",
    "\n",
    "- Low value: Any row where Value is less than 800.\n",
    "- High value: Any row where Value is greater than 800.\n",
    "\n",
    "We can loop through each of the terms from terms_userd and:\n",
    "- find the number of low value questions the word occurs in.\n",
    "- find the number of high value questions the word occurs in. \n",
    "- Find the percentage of questions the word occurs in.\n",
    "- Based on the percentage of questions the word occurs in, find expected counts.\n",
    "- Compute the chi squared value based on the expected counts and the observed counts for high and low value questions.\n",
    "\n",
    "We can then find the words with the biggest differences in usage between high and low value questions, by selecting the words with the highest associated chi-squared values. Doing this for all of the words would take a very long time, so we'll just do it for a small sample now."
   ]
  },
  {
   "cell_type": "code",
   "execution_count": 25,
   "metadata": {
    "collapsed": true
   },
   "outputs": [],
   "source": [
    "def determine_value(row):\n",
    "    value = 0\n",
    "    if row[\"clean_value\"] > 800:\n",
    "        value = 1\n",
    "    return value\n",
    "\n",
    "jeopardy[\"high_value\"] = jeopardy.apply(determine_value, axis=1)"
   ]
  },
  {
   "cell_type": "code",
   "execution_count": 26,
   "metadata": {
    "collapsed": false
   },
   "outputs": [
    {
     "data": {
      "text/plain": [
       "[(1, 0), (0, 1), (2, 1), (0, 1), (1, 6)]"
      ]
     },
     "execution_count": 26,
     "metadata": {},
     "output_type": "execute_result"
    }
   ],
   "source": [
    "def count_usage(term):\n",
    "    low_count = 0\n",
    "    high_count = 0\n",
    "    for i, row in jeopardy.iterrows():\n",
    "        if term in row[\"clean_question\"].split(\" \"):\n",
    "            if row[\"high_value\"] == 1:\n",
    "                high_count += 1\n",
    "            else:\n",
    "                low_count += 1\n",
    "    return high_count, low_count\n",
    "\n",
    "comparison_terms = list(terms_used)[:5]\n",
    "observed_expected = []\n",
    "for term in comparison_terms:\n",
    "    observed_expected.append(count_usage(term))\n",
    "\n",
    "observed_expected"
   ]
  },
  {
   "cell_type": "markdown",
   "metadata": {},
   "source": [
    "## Applying the Chi-Squared test\n",
    "\n",
    "Now that we've found the observed counts for a few terms, we can compute the expected counts and the chi-squared value."
   ]
  },
  {
   "cell_type": "code",
   "execution_count": 36,
   "metadata": {
    "collapsed": false
   },
   "outputs": [
    {
     "data": {
      "text/plain": [
       "[Power_divergenceResult(statistic=2.487792117195675, pvalue=0.11473257634454047),\n",
       " Power_divergenceResult(statistic=0.401962846126884, pvalue=0.5260772985705469),\n",
       " Power_divergenceResult(statistic=2.1177104383031944, pvalue=0.14560406868264344),\n",
       " Power_divergenceResult(statistic=0.401962846126884, pvalue=0.5260772985705469),\n",
       " Power_divergenceResult(statistic=0.7083506539662141, pvalue=0.39999189913636146)]"
      ]
     },
     "execution_count": 36,
     "metadata": {},
     "output_type": "execute_result"
    }
   ],
   "source": [
    "from scipy.stats import chisquare\n",
    "import numpy as np\n",
    "\n",
    "high_value_count = jeopardy[jeopardy['high_value']==1].shape[0]\n",
    "low_value_count = jeopardy[jeopardy['high_value']==0].shape[0]\n",
    "chi_squared = []\n",
    "\n",
    "observed_expected\n",
    "\n",
    "for obs in observed_expected:\n",
    "    total = sum(obs)\n",
    "    total_prop = total / jeopardy.shape[0]\n",
    "    high_value_exp = total_prop * high_value_count\n",
    "    low_value_exp = total_prop * low_value_count\n",
    "    \n",
    "    observed = np.array([obs[0], obs[1]])\n",
    "    expected = np.array([high_value_exp, low_value_exp])\n",
    "    chi_squared.append(chisquare(observed, expected))\n",
    "\n",
    "chi_squared"
   ]
  },
  {
   "cell_type": "markdown",
   "metadata": {},
   "source": [
    "## Conclusion\n",
    "\n",
    "None of the terms had a significant difference in usage between high value and low value rows. Additionally, the frequencies were all lower than 10, so the chi-squared test isn't as valid. It would be better to run this test with only terms that have higher frequencies."
   ]
  },
  {
   "cell_type": "code",
   "execution_count": null,
   "metadata": {
    "collapsed": true
   },
   "outputs": [],
   "source": []
  }
 ],
 "metadata": {
  "kernelspec": {
   "display_name": "Python 3",
   "language": "python",
   "name": "python3"
  },
  "language_info": {
   "codemirror_mode": {
    "name": "ipython",
    "version": 3
   },
   "file_extension": ".py",
   "mimetype": "text/x-python",
   "name": "python",
   "nbconvert_exporter": "python",
   "pygments_lexer": "ipython3",
   "version": "3.4.3"
  }
 },
 "nbformat": 4,
 "nbformat_minor": 0
}
