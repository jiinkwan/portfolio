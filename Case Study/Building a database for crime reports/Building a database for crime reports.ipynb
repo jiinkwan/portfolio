{
 "cells": [
  {
   "cell_type": "markdown",
   "metadata": {},
   "source": [
    "# Building a database from crime reports\n",
    "\n",
    "The goal of this project is building a database for storing data related with crimes that occurred in Boston. The dataset is available in the file boston.csv.\n",
    "\n",
    "The goal of this project is:\n",
    "1. create a database named crimes_db\n",
    "2. create a schema named crimes\n",
    "3. create a table named boston_crimes\n",
    "4. create readonly and readwrite groups with appropriate privileges\n",
    "5. create one user for each of the groups"
   ]
  },
  {
   "cell_type": "markdown",
   "metadata": {},
   "source": [
    "## Creating the Crime Database"
   ]
  },
  {
   "cell_type": "code",
   "execution_count": 1,
   "metadata": {
    "collapsed": false
   },
   "outputs": [],
   "source": [
    "import psycopg2\n",
    "\n",
    "with psycopg2.connect(dbname = \"dq\", user = \"dq\") as conn:\n",
    "    conn.autocommit = True\n",
    "    cur = conn.cursor()\n",
    "    cur.execute(\"\"\"\n",
    "            DROP DATABASE IF EXISTS crime_db;\n",
    "    \"\"\")\n",
    "    cur.execute(\"\"\"\n",
    "                CREATE DATABASE crime_db\n",
    "    \"\"\")\n",
    "    conn.autocommit = False"
   ]
  },
  {
   "cell_type": "code",
   "execution_count": 2,
   "metadata": {
    "collapsed": false
   },
   "outputs": [],
   "source": [
    "conn = psycopg2.connect(dbname = \"crime_db\", user = \"dq\")\n",
    "cur = conn.cursor()\n",
    "cur.execute(\"\"\"\n",
    "            CREATE SCHEMA crimes\n",
    "    \"\"\")\n",
    "conn.commit()"
   ]
  },
  {
   "cell_type": "markdown",
   "metadata": {
    "collapsed": true
   },
   "source": [
    "## Obtaining the Column Names and Sample"
   ]
  },
  {
   "cell_type": "code",
   "execution_count": 3,
   "metadata": {
    "collapsed": false
   },
   "outputs": [],
   "source": [
    "import csv\n",
    "\n",
    "with open('./boston.csv') as f:\n",
    "    reader = list(csv.reader(f))\n",
    "    col_headers = reader[0]\n",
    "    first_row = reader[1]"
   ]
  },
  {
   "cell_type": "code",
   "execution_count": 4,
   "metadata": {
    "collapsed": false
   },
   "outputs": [
    {
     "data": {
      "text/plain": [
       "['incident_number',\n",
       " 'offense_code',\n",
       " 'description',\n",
       " 'date',\n",
       " 'day_of_the_week',\n",
       " 'lat',\n",
       " 'long']"
      ]
     },
     "execution_count": 4,
     "metadata": {},
     "output_type": "execute_result"
    }
   ],
   "source": [
    "col_headers"
   ]
  },
  {
   "cell_type": "code",
   "execution_count": 5,
   "metadata": {
    "collapsed": false
   },
   "outputs": [
    {
     "data": {
      "text/plain": [
       "['1',\n",
       " '619',\n",
       " 'LARCENY ALL OTHERS',\n",
       " '2018-09-02',\n",
       " 'Sunday',\n",
       " '42.35779134',\n",
       " '-71.13937053']"
      ]
     },
     "execution_count": 5,
     "metadata": {},
     "output_type": "execute_result"
    }
   ],
   "source": [
    "first_row"
   ]
  },
  {
   "cell_type": "markdown",
   "metadata": {},
   "source": [
    "## Creating an Auxiliary Function\n",
    "\n",
    "Before we create a table for storing the crime data, we need to identify the proper datatypes for the columns. To help us with that, let's create a function — get_col_value_set() — that given the name of a CSV file and a column index (starting a 0) that computes a Python set with all distinct values contained in that column.\n",
    "\n",
    "This function will be useful for two reasons:\n",
    "\n",
    "1. Checking whether an enumerated datatype might be a good choice for representing a column.\n",
    "2. Computing the maximum length of any text-like column to select appropriate sizes for VARCHAR columns."
   ]
  },
  {
   "cell_type": "code",
   "execution_count": 6,
   "metadata": {
    "collapsed": true
   },
   "outputs": [],
   "source": [
    "def get_col_value_set(csv_filename, col_index):\n",
    "    \"\"\"\n",
    "    Inputs\n",
    "    \n",
    "    csv_filename: the name of a CSV file\n",
    "    col_index: the index of a column of that CSV file\n",
    "    \n",
    "    Output\n",
    "    a Python set that contains all distinct values from that column.\n",
    "    \"\"\"\n",
    "    \n",
    "    result = set()\n",
    "    \n",
    "    import csv\n",
    "\n",
    "    with open(csv_filename) as f:\n",
    "        reader = list(csv.reader(f))\n",
    "        col_headers = reader[0]\n",
    "        rows = reader[1:]\n",
    "        \n",
    "    for row in rows:\n",
    "        result.add(row[col_index])\n",
    "    \n",
    "    return result"
   ]
  },
  {
   "cell_type": "code",
   "execution_count": 7,
   "metadata": {
    "collapsed": false
   },
   "outputs": [],
   "source": [
    "number_of_elements = {}\n",
    "\n",
    "for i in range(len(col_headers)):\n",
    "    number_of_elements[col_headers[i]] = len(get_col_value_set('./boston.csv',i))\n",
    "    "
   ]
  },
  {
   "cell_type": "code",
   "execution_count": 8,
   "metadata": {
    "collapsed": false
   },
   "outputs": [
    {
     "data": {
      "text/plain": [
       "{'date': 1177,\n",
       " 'day_of_the_week': 7,\n",
       " 'description': 239,\n",
       " 'incident_number': 298329,\n",
       " 'lat': 18177,\n",
       " 'long': 18177,\n",
       " 'offense_code': 219}"
      ]
     },
     "execution_count": 8,
     "metadata": {},
     "output_type": "execute_result"
    }
   ],
   "source": [
    "number_of_elements"
   ]
  },
  {
   "cell_type": "markdown",
   "metadata": {},
   "source": [
    "## Finding the Maximum Length\n",
    "\n",
    "Another important aspect is to know the longest word in any column containing textual data. We can actually use the previous function for computing this:\n",
    "\n",
    "1. Use the get_col_value_set() function to get the distinct values of that column into a variable named col_values\n",
    "2. Iterate over the elements of col_values and find the one which is the longest"
   ]
  },
  {
   "cell_type": "code",
   "execution_count": 9,
   "metadata": {
    "collapsed": false
   },
   "outputs": [],
   "source": [
    "max_len = {}\n",
    "\n",
    "for i in range(len(col_headers)):\n",
    "    value_max_len = 0\n",
    "    value_max = None\n",
    "    values = get_col_value_set('./boston.csv',i)\n",
    "    for value in values:\n",
    "        if len(value) > value_max_len:\n",
    "            value_max_len = len(value)\n",
    "            value_max = value\n",
    "    max_len[col_headers[i]] = value_max_len"
   ]
  },
  {
   "cell_type": "code",
   "execution_count": 10,
   "metadata": {
    "collapsed": false
   },
   "outputs": [
    {
     "data": {
      "text/plain": [
       "{'date': 10,\n",
       " 'day_of_the_week': 9,\n",
       " 'description': 58,\n",
       " 'incident_number': 6,\n",
       " 'lat': 11,\n",
       " 'long': 12,\n",
       " 'offense_code': 4}"
      ]
     },
     "execution_count": 10,
     "metadata": {},
     "output_type": "execute_result"
    }
   ],
   "source": [
    "max_len"
   ]
  },
  {
   "cell_type": "markdown",
   "metadata": {},
   "source": [
    "## Creating the table\n",
    "\n",
    "Now that we know the basic information about the data, we can create the table."
   ]
  },
  {
   "cell_type": "code",
   "execution_count": 11,
   "metadata": {
    "collapsed": false
   },
   "outputs": [
    {
     "data": {
      "text/plain": [
       "['incident_number',\n",
       " 'offense_code',\n",
       " 'description',\n",
       " 'date',\n",
       " 'day_of_the_week',\n",
       " 'lat',\n",
       " 'long']"
      ]
     },
     "execution_count": 11,
     "metadata": {},
     "output_type": "execute_result"
    }
   ],
   "source": [
    "col_headers"
   ]
  },
  {
   "cell_type": "code",
   "execution_count": 12,
   "metadata": {
    "collapsed": false
   },
   "outputs": [
    {
     "data": {
      "text/plain": [
       "['1',\n",
       " '619',\n",
       " 'LARCENY ALL OTHERS',\n",
       " '2018-09-02',\n",
       " 'Sunday',\n",
       " '42.35779134',\n",
       " '-71.13937053']"
      ]
     },
     "execution_count": 12,
     "metadata": {},
     "output_type": "execute_result"
    }
   ],
   "source": [
    "first_row"
   ]
  },
  {
   "cell_type": "code",
   "execution_count": 13,
   "metadata": {
    "collapsed": false
   },
   "outputs": [],
   "source": [
    "# create the enumerated datatype for representing the weekday\n",
    "cur.execute(\"\"\"\n",
    "    CREATE TYPE weekday AS ENUM ('Monday', 'Tuesday', 'Wednesday', 'Thursday', 'Friday', 'Saturday', 'Sunday');\n",
    "\"\"\")\n",
    "# create the table\n",
    "cur.execute(\"\"\"\n",
    "    CREATE TABLE crimes.boston_crimes (\n",
    "        incident_number INTEGER PRIMARY KEY,\n",
    "        offense_code INTEGER,\n",
    "        description VARCHAR(100),\n",
    "        date DATE,\n",
    "        day_of_the_week weekday,\n",
    "        lat decimal,\n",
    "        long decimal\n",
    "    );\n",
    "\"\"\")"
   ]
  },
  {
   "cell_type": "markdown",
   "metadata": {},
   "source": [
    "## Loading the Data\n",
    "\n",
    "Now that we have created the table, we can load the data into it."
   ]
  },
  {
   "cell_type": "code",
   "execution_count": 14,
   "metadata": {
    "collapsed": true
   },
   "outputs": [],
   "source": [
    "with open(\"./boston.csv\") as f:\n",
    "    cur.copy_expert(\"COPY crimes.boston_crimes FROM STDIN WITH CSV HEADER;\", f)"
   ]
  },
  {
   "cell_type": "markdown",
   "metadata": {},
   "source": [
    "## Revoking Public Privileges\n",
    "\n",
    "Because all users are assigned to the public group, and the public groups has access to other database in the instance, it's safe to revoke all the privileges from the public group. "
   ]
  },
  {
   "cell_type": "code",
   "execution_count": 15,
   "metadata": {
    "collapsed": false
   },
   "outputs": [],
   "source": [
    "cur.execute(\"\"\"\n",
    "            REVOKE all on SCHEMA public FROM public;\n",
    "\"\"\")\n",
    "cur.execute(\"\"\"\n",
    "            REVOKE all on SCHEMA crimes FROM public;\n",
    "\"\"\")\n",
    "\n",
    "conn.commit()"
   ]
  },
  {
   "cell_type": "markdown",
   "metadata": {},
   "source": [
    "## Creating User Groups\n",
    "\n",
    "Now create two user groups, readonly and readwrite."
   ]
  },
  {
   "cell_type": "code",
   "execution_count": 25,
   "metadata": {
    "collapsed": false
   },
   "outputs": [],
   "source": [
    "cur.execute(\"\"\"\n",
    "            CREATE GROUP readonly with NOLOGIN;\n",
    "\"\"\")\n",
    "cur.execute(\"\"\"\n",
    "            CREATE GROUP readwrite with NOLOGIN;\n",
    "\"\"\")\n",
    "conn.commit()\n"
   ]
  },
  {
   "cell_type": "markdown",
   "metadata": {},
   "source": [
    "If without NOLOGIN option, you can just log in to databases with groups. Which i s not ideal for security."
   ]
  },
  {
   "cell_type": "code",
   "execution_count": 33,
   "metadata": {
    "collapsed": true
   },
   "outputs": [],
   "source": [
    "conn.commit()"
   ]
  },
  {
   "cell_type": "code",
   "execution_count": 30,
   "metadata": {
    "collapsed": false
   },
   "outputs": [
    {
     "name": "stderr",
     "output_type": "stream",
     "text": [
      "ERROR: An unexpected error occurred while tokenizing input\n",
      "The following traceback may be corrupted or invalid\n",
      "The error message is: ('EOF in multi-line string', (1, 0))\n",
      "\n"
     ]
    },
    {
     "ename": "DatabaseError",
     "evalue": "invalid privilege type USAGE for database\n",
     "output_type": "error",
     "traceback": [
      "\u001b[1;31m\u001b[0m",
      "\u001b[1;31mDatabaseError\u001b[0mTraceback (most recent call last)",
      "\u001b[1;32m<ipython-input-30-64a2e6b24582>\u001b[0m in \u001b[0;36m<module>\u001b[1;34m()\u001b[0m\n\u001b[0;32m      1\u001b[0m cur.execute(\"\"\"\n\u001b[0;32m      2\u001b[0m             \u001b[0mGRANT\u001b[0m \u001b[0mCONNECT\u001b[0m\u001b[1;33m,\u001b[0m \u001b[0mUSAGE\u001b[0m \u001b[0mon\u001b[0m \u001b[0mDATABASE\u001b[0m \u001b[0mcrime_db\u001b[0m \u001b[0mTO\u001b[0m \u001b[0mreadonly\u001b[0m\u001b[1;33m,\u001b[0m \u001b[0mreadwrite\u001b[0m\u001b[1;33m\u001b[0m\u001b[0m\n\u001b[1;32m----> 3\u001b[1;33m \"\"\")\n\u001b[0m",
      "\u001b[1;31mDatabaseError\u001b[0m: invalid privilege type USAGE for database\n"
     ]
    }
   ],
   "source": [
    "cur.execute(\"\"\"\n",
    "            GRANT CONNECT on DATABASE crime_db TO readonly, readwrite\n",
    "\"\"\")"
   ]
  },
  {
   "cell_type": "code",
   "execution_count": 34,
   "metadata": {
    "collapsed": false
   },
   "outputs": [],
   "source": [
    "cur.execute(\"\"\"\n",
    "            GRANT USAGE on SCHEMA crimes TO readonly, readwrite\n",
    "\"\"\")\n",
    "conn.commit()"
   ]
  },
  {
   "cell_type": "code",
   "execution_count": 35,
   "metadata": {
    "collapsed": true
   },
   "outputs": [],
   "source": [
    "cur.execute(\"\"\"\n",
    "            GRANT SELECT ON ALL TABLES IN SCHEMA crimes to readonly;\n",
    "\"\"\")\n",
    "conn.commit()"
   ]
  },
  {
   "cell_type": "code",
   "execution_count": 37,
   "metadata": {
    "collapsed": true
   },
   "outputs": [],
   "source": [
    "cur.execute(\"\"\"\n",
    "            GRANT SELECT, INSERT, DELETE, UPDATE ON ALL TABLES IN SCHEMA crimes to readwrite;\n",
    "\"\"\")\n",
    "conn.commit()"
   ]
  },
  {
   "cell_type": "markdown",
   "metadata": {},
   "source": [
    "## Creating Users"
   ]
  },
  {
   "cell_type": "code",
   "execution_count": 44,
   "metadata": {
    "collapsed": false
   },
   "outputs": [],
   "source": [
    "cur.execute(\"\"\"\n",
    "            CREATE USER data_analyst WITH PASSWORD 'secret1';\n",
    "\"\"\")\n",
    "cur.execute(\"\"\"\n",
    "            GRANT readonly to data_analyst\n",
    "\"\"\")\n",
    "conn.commit()"
   ]
  },
  {
   "cell_type": "code",
   "execution_count": 45,
   "metadata": {
    "collapsed": true
   },
   "outputs": [],
   "source": [
    "cur.execute(\"\"\"\n",
    "            CREATE USER data_scientist WITH PASSWORD 'secret2';\n",
    "\"\"\")\n",
    "cur.execute(\"\"\"\n",
    "            GRANT readwrite to data_analyst\n",
    "\"\"\")\n",
    "conn.commit()"
   ]
  },
  {
   "cell_type": "markdown",
   "metadata": {},
   "source": [
    "## Testing\n",
    "\n",
    "Now everything should be set up. Let's see if it's applied."
   ]
  },
  {
   "cell_type": "code",
   "execution_count": null,
   "metadata": {
    "collapsed": true
   },
   "outputs": [],
   "source": [
    "cur.execute(\"\"\"\n",
    "            SELECT *\n",
    "            FROM information_schema.table_privileges\n",
    "            WHERE grantee = 'readonly';\n",
    "\"\"\")"
   ]
  },
  {
   "cell_type": "code",
   "execution_count": 48,
   "metadata": {
    "collapsed": true
   },
   "outputs": [],
   "source": [
    "cur.execute(\"\"\"\n",
    "            SELECT *\n",
    "            FROM information_schema.table_privileges\n",
    "            WHERE grantee = 'readwrite';\n",
    "\"\"\")"
   ]
  },
  {
   "cell_type": "code",
   "execution_count": 49,
   "metadata": {
    "collapsed": false
   },
   "outputs": [
    {
     "data": {
      "text/plain": [
       "[('dq',\n",
       "  'readwrite',\n",
       "  'crime_db',\n",
       "  'crimes',\n",
       "  'boston_crimes',\n",
       "  'INSERT',\n",
       "  'NO',\n",
       "  'NO'),\n",
       " ('dq',\n",
       "  'readwrite',\n",
       "  'crime_db',\n",
       "  'crimes',\n",
       "  'boston_crimes',\n",
       "  'SELECT',\n",
       "  'NO',\n",
       "  'YES'),\n",
       " ('dq',\n",
       "  'readwrite',\n",
       "  'crime_db',\n",
       "  'crimes',\n",
       "  'boston_crimes',\n",
       "  'UPDATE',\n",
       "  'NO',\n",
       "  'NO'),\n",
       " ('dq',\n",
       "  'readwrite',\n",
       "  'crime_db',\n",
       "  'crimes',\n",
       "  'boston_crimes',\n",
       "  'DELETE',\n",
       "  'NO',\n",
       "  'NO')]"
      ]
     },
     "execution_count": 49,
     "metadata": {},
     "output_type": "execute_result"
    }
   ],
   "source": [
    "cur.fetchall()"
   ]
  },
  {
   "cell_type": "markdown",
   "metadata": {
    "collapsed": true
   },
   "source": [
    "## Conclusion\n",
    "\n",
    "From the result above, we can confirm that\n",
    "\n",
    "1. Database crime_db created\n",
    "2. Schema crimes created\n",
    "3. Groups readonly and readwrite created\n",
    "4. Users data_analyst and data_scientist created\n",
    "5. Priviliges assigned"
   ]
  },
  {
   "cell_type": "code",
   "execution_count": null,
   "metadata": {
    "collapsed": true
   },
   "outputs": [],
   "source": []
  }
 ],
 "metadata": {
  "kernelspec": {
   "display_name": "Python 3",
   "language": "python",
   "name": "python3"
  },
  "language_info": {
   "codemirror_mode": {
    "name": "ipython",
    "version": 3
   },
   "file_extension": ".py",
   "mimetype": "text/x-python",
   "name": "python",
   "nbconvert_exporter": "python",
   "pygments_lexer": "ipython3",
   "version": "3.4.3"
  }
 },
 "nbformat": 4,
 "nbformat_minor": 2
}
