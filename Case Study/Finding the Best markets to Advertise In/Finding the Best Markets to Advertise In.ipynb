{
 "cells": [
  {
   "cell_type": "markdown",
   "metadata": {},
   "source": [
    "# Finding the Best Markets to Advertise In\n",
    "\n",
    "- The organization: an e-learning compnay that offers courses on programming including, web and mobile development, data science, game development, etc.\n",
    "- Goal: Identifing the best markets to promote for e-learning compnay\n",
    "- Data: [freeCodeCamp's 2017 New Coder Survey](https://medium.freecodecamp.org/we-asked-20-000-people-who-they-are-and-how-theyre-learning-to-code-fff5d668969)\n",
    "\n",
    "freeCodeCamp is a free e-learning plaform that offers courses on web development. Because they run a popular Medium pulbication(over 400,000 followers), their sruvey attracted new coders with varying interests(not only web development), which is ideal for the purpose of our analysis.\n",
    "\n",
    "The suvery data is publicly available in [this GitHub reporsitory](https://github.com/freeCodeCamp/2017-new-coder-survey)"
   ]
  },
  {
   "cell_type": "markdown",
   "metadata": {},
   "source": [
    "## Understanding the Data"
   ]
  },
  {
   "cell_type": "code",
   "execution_count": 1,
   "metadata": {
    "collapsed": false
   },
   "outputs": [],
   "source": [
    "import pandas as pd\n",
    "\n",
    "data = pd.read_csv('2017-fCC-New-Coders-Survey-Data.csv', low_memory = False)"
   ]
  },
  {
   "cell_type": "code",
   "execution_count": 2,
   "metadata": {
    "collapsed": false
   },
   "outputs": [
    {
     "name": "stdout",
     "output_type": "stream",
     "text": [
      "(18175, 136)\n"
     ]
    },
    {
     "data": {
      "text/html": [
       "<div>\n",
       "<style scoped>\n",
       "    .dataframe tbody tr th:only-of-type {\n",
       "        vertical-align: middle;\n",
       "    }\n",
       "\n",
       "    .dataframe tbody tr th {\n",
       "        vertical-align: top;\n",
       "    }\n",
       "\n",
       "    .dataframe thead th {\n",
       "        text-align: right;\n",
       "    }\n",
       "</style>\n",
       "<table border=\"1\" class=\"dataframe\">\n",
       "  <thead>\n",
       "    <tr style=\"text-align: right;\">\n",
       "      <th></th>\n",
       "      <th>Age</th>\n",
       "      <th>AttendedBootcamp</th>\n",
       "      <th>BootcampFinish</th>\n",
       "      <th>BootcampLoanYesNo</th>\n",
       "      <th>BootcampName</th>\n",
       "      <th>BootcampRecommend</th>\n",
       "      <th>ChildrenNumber</th>\n",
       "      <th>CityPopulation</th>\n",
       "      <th>CodeEventConferences</th>\n",
       "      <th>CodeEventDjangoGirls</th>\n",
       "      <th>...</th>\n",
       "      <th>YouTubeFCC</th>\n",
       "      <th>YouTubeFunFunFunction</th>\n",
       "      <th>YouTubeGoogleDev</th>\n",
       "      <th>YouTubeLearnCode</th>\n",
       "      <th>YouTubeLevelUpTuts</th>\n",
       "      <th>YouTubeMIT</th>\n",
       "      <th>YouTubeMozillaHacks</th>\n",
       "      <th>YouTubeOther</th>\n",
       "      <th>YouTubeSimplilearn</th>\n",
       "      <th>YouTubeTheNewBoston</th>\n",
       "    </tr>\n",
       "  </thead>\n",
       "  <tbody>\n",
       "    <tr>\n",
       "      <th>0</th>\n",
       "      <td>27.0</td>\n",
       "      <td>0.0</td>\n",
       "      <td>NaN</td>\n",
       "      <td>NaN</td>\n",
       "      <td>NaN</td>\n",
       "      <td>NaN</td>\n",
       "      <td>NaN</td>\n",
       "      <td>more than 1 million</td>\n",
       "      <td>NaN</td>\n",
       "      <td>NaN</td>\n",
       "      <td>...</td>\n",
       "      <td>NaN</td>\n",
       "      <td>NaN</td>\n",
       "      <td>NaN</td>\n",
       "      <td>NaN</td>\n",
       "      <td>NaN</td>\n",
       "      <td>NaN</td>\n",
       "      <td>NaN</td>\n",
       "      <td>NaN</td>\n",
       "      <td>NaN</td>\n",
       "      <td>NaN</td>\n",
       "    </tr>\n",
       "    <tr>\n",
       "      <th>1</th>\n",
       "      <td>34.0</td>\n",
       "      <td>0.0</td>\n",
       "      <td>NaN</td>\n",
       "      <td>NaN</td>\n",
       "      <td>NaN</td>\n",
       "      <td>NaN</td>\n",
       "      <td>NaN</td>\n",
       "      <td>less than 100,000</td>\n",
       "      <td>NaN</td>\n",
       "      <td>NaN</td>\n",
       "      <td>...</td>\n",
       "      <td>1.0</td>\n",
       "      <td>NaN</td>\n",
       "      <td>NaN</td>\n",
       "      <td>NaN</td>\n",
       "      <td>NaN</td>\n",
       "      <td>NaN</td>\n",
       "      <td>NaN</td>\n",
       "      <td>NaN</td>\n",
       "      <td>NaN</td>\n",
       "      <td>NaN</td>\n",
       "    </tr>\n",
       "    <tr>\n",
       "      <th>2</th>\n",
       "      <td>21.0</td>\n",
       "      <td>0.0</td>\n",
       "      <td>NaN</td>\n",
       "      <td>NaN</td>\n",
       "      <td>NaN</td>\n",
       "      <td>NaN</td>\n",
       "      <td>NaN</td>\n",
       "      <td>more than 1 million</td>\n",
       "      <td>NaN</td>\n",
       "      <td>NaN</td>\n",
       "      <td>...</td>\n",
       "      <td>NaN</td>\n",
       "      <td>NaN</td>\n",
       "      <td>NaN</td>\n",
       "      <td>1.0</td>\n",
       "      <td>1.0</td>\n",
       "      <td>NaN</td>\n",
       "      <td>NaN</td>\n",
       "      <td>NaN</td>\n",
       "      <td>NaN</td>\n",
       "      <td>NaN</td>\n",
       "    </tr>\n",
       "    <tr>\n",
       "      <th>3</th>\n",
       "      <td>26.0</td>\n",
       "      <td>0.0</td>\n",
       "      <td>NaN</td>\n",
       "      <td>NaN</td>\n",
       "      <td>NaN</td>\n",
       "      <td>NaN</td>\n",
       "      <td>NaN</td>\n",
       "      <td>between 100,000 and 1 million</td>\n",
       "      <td>NaN</td>\n",
       "      <td>NaN</td>\n",
       "      <td>...</td>\n",
       "      <td>1.0</td>\n",
       "      <td>1.0</td>\n",
       "      <td>NaN</td>\n",
       "      <td>NaN</td>\n",
       "      <td>1.0</td>\n",
       "      <td>NaN</td>\n",
       "      <td>NaN</td>\n",
       "      <td>NaN</td>\n",
       "      <td>NaN</td>\n",
       "      <td>NaN</td>\n",
       "    </tr>\n",
       "    <tr>\n",
       "      <th>4</th>\n",
       "      <td>20.0</td>\n",
       "      <td>0.0</td>\n",
       "      <td>NaN</td>\n",
       "      <td>NaN</td>\n",
       "      <td>NaN</td>\n",
       "      <td>NaN</td>\n",
       "      <td>NaN</td>\n",
       "      <td>between 100,000 and 1 million</td>\n",
       "      <td>NaN</td>\n",
       "      <td>NaN</td>\n",
       "      <td>...</td>\n",
       "      <td>NaN</td>\n",
       "      <td>NaN</td>\n",
       "      <td>NaN</td>\n",
       "      <td>NaN</td>\n",
       "      <td>NaN</td>\n",
       "      <td>NaN</td>\n",
       "      <td>NaN</td>\n",
       "      <td>NaN</td>\n",
       "      <td>NaN</td>\n",
       "      <td>NaN</td>\n",
       "    </tr>\n",
       "  </tbody>\n",
       "</table>\n",
       "<p>5 rows × 136 columns</p>\n",
       "</div>"
      ],
      "text/plain": [
       "    Age  AttendedBootcamp  BootcampFinish  BootcampLoanYesNo BootcampName  \\\n",
       "0  27.0               0.0             NaN                NaN          NaN   \n",
       "1  34.0               0.0             NaN                NaN          NaN   \n",
       "2  21.0               0.0             NaN                NaN          NaN   \n",
       "3  26.0               0.0             NaN                NaN          NaN   \n",
       "4  20.0               0.0             NaN                NaN          NaN   \n",
       "\n",
       "   BootcampRecommend  ChildrenNumber                 CityPopulation  \\\n",
       "0                NaN             NaN            more than 1 million   \n",
       "1                NaN             NaN              less than 100,000   \n",
       "2                NaN             NaN            more than 1 million   \n",
       "3                NaN             NaN  between 100,000 and 1 million   \n",
       "4                NaN             NaN  between 100,000 and 1 million   \n",
       "\n",
       "   CodeEventConferences  CodeEventDjangoGirls         ...           \\\n",
       "0                   NaN                   NaN         ...            \n",
       "1                   NaN                   NaN         ...            \n",
       "2                   NaN                   NaN         ...            \n",
       "3                   NaN                   NaN         ...            \n",
       "4                   NaN                   NaN         ...            \n",
       "\n",
       "   YouTubeFCC  YouTubeFunFunFunction  YouTubeGoogleDev  YouTubeLearnCode  \\\n",
       "0         NaN                    NaN               NaN               NaN   \n",
       "1         1.0                    NaN               NaN               NaN   \n",
       "2         NaN                    NaN               NaN               1.0   \n",
       "3         1.0                    1.0               NaN               NaN   \n",
       "4         NaN                    NaN               NaN               NaN   \n",
       "\n",
       "   YouTubeLevelUpTuts  YouTubeMIT  YouTubeMozillaHacks YouTubeOther  \\\n",
       "0                 NaN         NaN                  NaN          NaN   \n",
       "1                 NaN         NaN                  NaN          NaN   \n",
       "2                 1.0         NaN                  NaN          NaN   \n",
       "3                 1.0         NaN                  NaN          NaN   \n",
       "4                 NaN         NaN                  NaN          NaN   \n",
       "\n",
       "   YouTubeSimplilearn  YouTubeTheNewBoston  \n",
       "0                 NaN                  NaN  \n",
       "1                 NaN                  NaN  \n",
       "2                 NaN                  NaN  \n",
       "3                 NaN                  NaN  \n",
       "4                 NaN                  NaN  \n",
       "\n",
       "[5 rows x 136 columns]"
      ]
     },
     "execution_count": 2,
     "metadata": {},
     "output_type": "execute_result"
    }
   ],
   "source": [
    "print(data.shape)\n",
    "data.head()"
   ]
  },
  {
   "cell_type": "markdown",
   "metadata": {},
   "source": [
    "There are 18,175 records and 136 columns.\n",
    "\n",
    "The data set appears to have various relevent about our potential markets including demographic, interests, and their skill level. There are limitations of course to use this data. This probably isn't the perfect dataset for our analysis, but it's reletively well organized and cost nothing. In stead of putting huge money in the initial analysis, it's better to use free or cheap dataset that is available and see if that could fulfill our goal. \n",
    "\n",
    "The dataset is available [here](https://github.com/freeCodeCamp/2017-new-coder-survey).\n",
    "\n"
   ]
  },
  {
   "cell_type": "markdown",
   "metadata": {},
   "source": [
    "## Checking for Sample Representativity\n",
    "\n",
    "For the purpose of our analysis, we want to answer questions about a population of new coders that are interested in the subjects we teach. We'd like to know:\n",
    "\n",
    "- Where are these new coders located.\n",
    "- What are the locations with the greatest number of new coders.\n",
    "- How much money new coders are willing to spend on learning.\n",
    "\n",
    "Before we go any further, we need to make sure this dataset is representative for our population of interest and it has the right categories of people for our purpose."
   ]
  },
  {
   "cell_type": "markdown",
   "metadata": {},
   "source": [
    "### JobRoleInterest Column\n",
    "\n",
    "The JobRoleInterest column describes for every participant the role(s) they'd be interested in working, which can tell us whether if they are right target people to analyze. Let's look at how the sample is consist of."
   ]
  },
  {
   "cell_type": "code",
   "execution_count": 3,
   "metadata": {
    "collapsed": true
   },
   "outputs": [],
   "source": [
    "import matplotlib.pyplot as plt\n",
    "import seaborn as sns\n",
    "%matplotlib inline"
   ]
  },
  {
   "cell_type": "code",
   "execution_count": 4,
   "metadata": {
    "collapsed": false
   },
   "outputs": [
    {
     "data": {
      "text/plain": [
       "Full-Stack Web Developer                                                                                                                                                       0.117706\n",
       "  Front-End Web Developer                                                                                                                                                      0.064359\n",
       "  Data Scientist                                                                                                                                                               0.021739\n",
       "Back-End Web Developer                                                                                                                                                         0.020309\n",
       "  Mobile Developer                                                                                                                                                             0.016733\n",
       "Game Developer                                                                                                                                                                 0.016304\n",
       "Information Security                                                                                                                                                           0.013158\n",
       "Full-Stack Web Developer,   Front-End Web Developer                                                                                                                            0.009153\n",
       "  Front-End Web Developer, Full-Stack Web Developer                                                                                                                            0.008009\n",
       "  Product Manager                                                                                                                                                              0.007866\n",
       "Data Engineer                                                                                                                                                                  0.007580\n",
       "  User Experience Designer                                                                                                                                                     0.007437\n",
       "  User Experience Designer,   Front-End Web Developer                                                                                                                          0.006150\n",
       "  Front-End Web Developer, Back-End Web Developer, Full-Stack Web Developer                                                                                                    0.005578\n",
       "Back-End Web Developer,   Front-End Web Developer, Full-Stack Web Developer                                                                                                    0.005149\n",
       "Back-End Web Developer, Full-Stack Web Developer,   Front-End Web Developer                                                                                                    0.005149\n",
       "  DevOps / SysAdmin                                                                                                                                                            0.005149\n",
       "Full-Stack Web Developer,   Front-End Web Developer, Back-End Web Developer                                                                                                    0.004434\n",
       "  Front-End Web Developer, Full-Stack Web Developer, Back-End Web Developer                                                                                                    0.004291\n",
       "Full-Stack Web Developer,   Mobile Developer                                                                                                                                   0.004148\n",
       "  Front-End Web Developer,   User Experience Designer                                                                                                                          0.004148\n",
       "Back-End Web Developer, Full-Stack Web Developer                                                                                                                               0.003862\n",
       "Full-Stack Web Developer, Back-End Web Developer                                                                                                                               0.003719\n",
       "Back-End Web Developer,   Front-End Web Developer                                                                                                                              0.002860\n",
       "Full-Stack Web Developer, Back-End Web Developer,   Front-End Web Developer                                                                                                    0.002717\n",
       "Data Engineer,   Data Scientist                                                                                                                                                0.002717\n",
       "  Front-End Web Developer,   Mobile Developer                                                                                                                                  0.002574\n",
       "Full-Stack Web Developer,   Data Scientist                                                                                                                                     0.002431\n",
       "  Mobile Developer, Game Developer                                                                                                                                             0.002288\n",
       "  Data Scientist, Data Engineer                                                                                                                                                0.002288\n",
       "                                                                                                                                                                                 ...   \n",
       "Full-Stack Web Developer,   User Experience Designer,   Front-End Web Developer, Game Developer, Back-End Web Developer                                                        0.000143\n",
       "  Front-End Web Developer, Full-Stack Web Developer,   Mobile Developer, Back-End Web Developer,   User Experience Designer                                                    0.000143\n",
       "Full-Stack Web Developer,   Data Scientist,   Front-End Web Developer, Back-End Web Developer, Game Developer                                                                  0.000143\n",
       "  User Experience Designer, Full-Stack Web Developer, Project Management                                                                                                       0.000143\n",
       "Information Security, Full-Stack Web Developer, Game Developer, Back-End Web Developer,   Data Scientist,   Mobile Developer,   Front-End Web Developer, Data Engineer         0.000143\n",
       "  Front-End Web Developer,   User Experience Designer,   Mobile Developer,   Data Scientist, Back-End Web Developer, Full-Stack Web Developer,   Quality Assurance Engineer    0.000143\n",
       "  Front-End Web Developer, Data Engineer, Full-Stack Web Developer, Back-End Web Developer, Information Security,   User Experience Designer                                   0.000143\n",
       "Full-Stack Web Developer,   User Experience Designer, Back-End Web Developer,   Front-End Web Developer,   Product Manager                                                     0.000143\n",
       "Back-End Web Developer,   Front-End Web Developer, Game Developer, Information Security,   Mobile Developer                                                                    0.000143\n",
       "  Data Scientist,   DevOps / SysAdmin, Information Security                                                                                                                    0.000143\n",
       "  Product Manager,   Front-End Web Developer, Full-Stack Web Developer, Information Security, Back-End Web Developer                                                           0.000143\n",
       "  Data Scientist,   User Experience Designer, Back-End Web Developer, Data Engineer, Full-Stack Web Developer                                                                  0.000143\n",
       "Information Security,   Product Manager,   Data Scientist,   User Experience Designer, Game Developer                                                                          0.000143\n",
       "Game Developer,   Front-End Web Developer,   DevOps / SysAdmin                                                                                                                 0.000143\n",
       "Full-Stack Web Developer, Data Engineer,   Front-End Web Developer,   Mobile Developer, Back-End Web Developer                                                                 0.000143\n",
       "Back-End Web Developer,   Data Scientist,   Product Manager,   Mobile Developer,   Front-End Web Developer,   User Experience Designer, Full-Stack Web Developer               0.000143\n",
       "  User Experience Designer, Game Developer, Information Security                                                                                                               0.000143\n",
       "  Product Manager, Full-Stack Web Developer,   Front-End Web Developer, Back-End Web Developer,   Data Scientist,   User Experience Designer,   Mobile Developer               0.000143\n",
       "Game Developer,   User Experience Designer, Full-Stack Web Developer,   Front-End Web Developer, Information Security                                                          0.000143\n",
       "Game Developer,   Front-End Web Developer, Back-End Web Developer,   User Experience Designer,   Mobile Developer, Full-Stack Web Developer                                    0.000143\n",
       "  User Experience Designer,   DevOps / SysAdmin, Back-End Web Developer,   Front-End Web Developer, Full-Stack Web Developer,   Mobile Developer                               0.000143\n",
       "Information Security, Back-End Web Developer,   Front-End Web Developer, Game Developer                                                                                        0.000143\n",
       "Game Developer,   Product Manager, Back-End Web Developer,   Front-End Web Developer                                                                                           0.000143\n",
       "Data Engineer, Back-End Web Developer,   Data Scientist, Information Security                                                                                                  0.000143\n",
       "  Product Manager, Game Developer, Information Security,   Front-End Web Developer,   Data Scientist                                                                           0.000143\n",
       "Game Developer,   DevOps / SysAdmin,   Front-End Web Developer, Full-Stack Web Developer, Back-End Web Developer                                                               0.000143\n",
       "Full-Stack Web Developer,   Product Manager,   Mobile Developer, Back-End Web Developer, Game Developer                                                                        0.000143\n",
       "Game Developer,   Mobile Developer,   Front-End Web Developer, Back-End Web Developer, Full-Stack Web Developer                                                                0.000143\n",
       "  User Experience Designer,   Front-End Web Developer,   Mobile Developer, Back-End Web Developer,   Quality Assurance Engineer                                                0.000143\n",
       "Back-End Web Developer, Full-Stack Web Developer,   Product Manager,   Front-End Web Developer,   User Experience Designer                                                     0.000143\n",
       "Name: JobRoleInterest, Length: 3213, dtype: float64"
      ]
     },
     "execution_count": 4,
     "metadata": {},
     "output_type": "execute_result"
    }
   ],
   "source": [
    "data['JobRoleInterest'].value_counts(normalize = True)"
   ]
  },
  {
   "cell_type": "markdown",
   "metadata": {},
   "source": [
    "Most people are interested in more than one subject. Our platfor focuses on web and mobile development. Let's see how many people are interested in those area. Luckily the column appears to be consistent on its spelling. \n"
   ]
  },
  {
   "cell_type": "code",
   "execution_count": null,
   "metadata": {
    "collapsed": true
   },
   "outputs": [],
   "source": []
  },
  {
   "cell_type": "code",
   "execution_count": 5,
   "metadata": {
    "collapsed": false
   },
   "outputs": [
    {
     "data": {
      "text/plain": [
       "Full-Stack Web Developer                                                                                                                                                                                                       0.136394\n",
       "  Front-End Web Developer                                                                                                                                                                                                      0.074577\n",
       "Back-End Web Developer                                                                                                                                                                                                         0.023533\n",
       "  Mobile Developer                                                                                                                                                                                                             0.019390\n",
       "Full-Stack Web Developer,   Front-End Web Developer                                                                                                                                                                            0.010607\n",
       "  Front-End Web Developer, Full-Stack Web Developer                                                                                                                                                                            0.009281\n",
       "  User Experience Designer,   Front-End Web Developer                                                                                                                                                                          0.007126\n",
       "  Front-End Web Developer, Back-End Web Developer, Full-Stack Web Developer                                                                                                                                                    0.006463\n",
       "Back-End Web Developer, Full-Stack Web Developer,   Front-End Web Developer                                                                                                                                                    0.005966\n",
       "Back-End Web Developer,   Front-End Web Developer, Full-Stack Web Developer                                                                                                                                                    0.005966\n",
       "Full-Stack Web Developer,   Front-End Web Developer, Back-End Web Developer                                                                                                                                                    0.005138\n",
       "  Front-End Web Developer, Full-Stack Web Developer, Back-End Web Developer                                                                                                                                                    0.004972\n",
       "Full-Stack Web Developer,   Mobile Developer                                                                                                                                                                                   0.004806\n",
       "  Front-End Web Developer,   User Experience Designer                                                                                                                                                                          0.004806\n",
       "Back-End Web Developer, Full-Stack Web Developer                                                                                                                                                                               0.004475\n",
       "Full-Stack Web Developer, Back-End Web Developer                                                                                                                                                                               0.004309\n",
       "Back-End Web Developer,   Front-End Web Developer                                                                                                                                                                              0.003315\n",
       "Full-Stack Web Developer, Back-End Web Developer,   Front-End Web Developer                                                                                                                                                    0.003149\n",
       "  Front-End Web Developer,   Mobile Developer                                                                                                                                                                                  0.002983\n",
       "Full-Stack Web Developer,   Data Scientist                                                                                                                                                                                     0.002817\n",
       "  Mobile Developer, Game Developer                                                                                                                                                                                             0.002652\n",
       "  User Experience Designer,   Front-End Web Developer, Full-Stack Web Developer                                                                                                                                                0.002486\n",
       "  Mobile Developer,   Front-End Web Developer                                                                                                                                                                                  0.002486\n",
       "  User Experience Designer, Full-Stack Web Developer,   Front-End Web Developer                                                                                                                                                0.002486\n",
       "Full-Stack Web Developer, Game Developer                                                                                                                                                                                       0.002486\n",
       "  Data Scientist, Full-Stack Web Developer                                                                                                                                                                                     0.002486\n",
       "Game Developer,   Front-End Web Developer                                                                                                                                                                                      0.002486\n",
       "  Mobile Developer, Full-Stack Web Developer                                                                                                                                                                                   0.002320\n",
       "Game Developer,   Mobile Developer                                                                                                                                                                                             0.001989\n",
       "  Front-End Web Developer, Full-Stack Web Developer,   Mobile Developer                                                                                                                                                        0.001989\n",
       "                                                                                                                                                                                                                                 ...   \n",
       "Full-Stack Web Developer,   Front-End Web Developer, Data Engineer,   Data Scientist,   User Experience Designer, Back-End Web Developer,   Mobile Developer                                                                   0.000166\n",
       "Game Developer, Information Security,   Mobile Developer,   Front-End Web Developer, Back-End Web Developer,   Product Manager,   DevOps / SysAdmin                                                                            0.000166\n",
       "Back-End Web Developer, Game Developer,   User Experience Designer,   Front-End Web Developer                                                                                                                                  0.000166\n",
       "Full-Stack Web Developer, Information Security,   Mobile Developer,   DevOps / SysAdmin,   Front-End Web Developer,   Product Manager, Back-End Web Developer                                                                  0.000166\n",
       "Data Engineer, Back-End Web Developer, Information Security,   Front-End Web Developer                                                                                                                                         0.000166\n",
       "Full-Stack Web Developer,   User Experience Designer, Back-End Web Developer,   DevOps / SysAdmin,   Front-End Web Developer                                                                                                   0.000166\n",
       "Back-End Web Developer,   User Experience Designer,   DevOps / SysAdmin, Full-Stack Web Developer,   Quality Assurance Engineer, Information Security, Game Developer,   Front-End Web Developer                               0.000166\n",
       "  Data Scientist, Back-End Web Developer,   Front-End Web Developer                                                                                                                                                            0.000166\n",
       "  DevOps / SysAdmin,   Mobile Developer,   Quality Assurance Engineer,   Front-End Web Developer                                                                                                                               0.000166\n",
       "  DevOps / SysAdmin, Back-End Web Developer, Full-Stack Web Developer,   Front-End Web Developer                                                                                                                               0.000166\n",
       "  Front-End Web Developer, Information Security,   DevOps / SysAdmin, Back-End Web Developer, Game Developer                                                                                                                   0.000166\n",
       "  Mobile Developer, Full-Stack Web Developer, Game Developer, Back-End Web Developer                                                                                                                                           0.000166\n",
       "  Product Manager, Information Security,   Mobile Developer,   DevOps / SysAdmin, Full-Stack Web Developer                                                                                                                     0.000166\n",
       "  Front-End Web Developer, Full-Stack Web Developer, programmer                                                                                                                                                                0.000166\n",
       "  DevOps / SysAdmin, Full-Stack Web Developer, Information Security,   Front-End Web Developer                                                                                                                                 0.000166\n",
       "Full-Stack Web Developer, Game Developer,   Front-End Web Developer, Information Security, Back-End Web Developer                                                                                                              0.000166\n",
       "  Mobile Developer,   User Experience Designer,   Data Scientist, Information Security,   Front-End Web Developer, Game Developer                                                                                              0.000166\n",
       "Full-Stack Web Developer,   Front-End Web Developer, Back-End Web Developer,   Mobile Developer,   User Experience Designer, Game Developer                                                                                    0.000166\n",
       "  Front-End Web Developer, Full-Stack Web Developer, Data Engineer, Game Developer,   Data Scientist, Back-End Web Developer                                                                                                   0.000166\n",
       "  Product Manager,   Mobile Developer, Full-Stack Web Developer,   Quality Assurance Engineer,   Front-End Web Developer,   User Experience Designer                                                                           0.000166\n",
       "  DevOps / SysAdmin,   Product Manager, Full-Stack Web Developer, Back-End Web Developer,   Mobile Developer, Game Developer,   Data Scientist, Information Security,   Front-End Web Developer,   User Experience Designer    0.000166\n",
       "  DevOps / SysAdmin,   Quality Assurance Engineer, Game Developer,   User Experience Designer,   Front-End Web Developer, Full-Stack Web Developer, Back-End Web Developer                                                     0.000166\n",
       "Game Developer, Information Security,   Mobile Developer                                                                                                                                                                       0.000166\n",
       "Game Developer,   Front-End Web Developer, Data Engineer,   Product Manager,   Data Scientist,   User Experience Designer                                                                                                      0.000166\n",
       "  Quality Assurance Engineer,   Front-End Web Developer,   User Experience Designer, Full-Stack Web Developer, Information Security                                                                                            0.000166\n",
       "  Front-End Web Developer, Full-Stack Web Developer,   Data Scientist, Data Engineer, Back-End Web Developer                                                                                                                   0.000166\n",
       "Full-Stack Web Developer, Back-End Web Developer,   Front-End Web Developer,   User Experience Designer                                                                                                                        0.000166\n",
       "  Quality Assurance Engineer,   Mobile Developer, Full-Stack Web Developer,   Front-End Web Developer, Back-End Web Developer                                                                                                  0.000166\n",
       "  User Experience Designer,   Front-End Web Developer, Back-End Web Developer, Game Developer, Full-Stack Web Developer,   Mobile Developer                                                                                    0.000166\n",
       "  DevOps / SysAdmin,   Mobile Developer, Full-Stack Web Developer,   Front-End Web Developer                                                                                                                                   0.000166\n",
       "Name: JobRoleInterest, Length: 2922, dtype: float64"
      ]
     },
     "execution_count": 5,
     "metadata": {},
     "output_type": "execute_result"
    }
   ],
   "source": [
    "web_bool = data['JobRoleInterest'].str.contains('Web',na = False)\n",
    "mobile_bool = data['JobRoleInterest'].str.contains('Mobile',na = False)\n",
    "data.loc[web_bool | mobile_bool, 'JobRoleInterest'].value_counts(normalize = True)"
   ]
  },
  {
   "cell_type": "markdown",
   "metadata": {},
   "source": [
    "It's difficult to tell how many people are interested in web and movile development with how the column is laid out at the moment. We are going to clean it up and create new columns that indicate whether they are interested in web and mobile development. "
   ]
  },
  {
   "cell_type": "code",
   "execution_count": 6,
   "metadata": {
    "collapsed": false
   },
   "outputs": [],
   "source": [
    "data['Web'] = data['JobRoleInterest'].str.contains('Web',na = False)\n",
    "data['Mobile'] = data['JobRoleInterest'].str.contains('Mobile',na = False)\n",
    "data['Web_Mobile'] = data['JobRoleInterest'].str.contains('Web',na = False) | \\\n",
    "                        data['JobRoleInterest'].str.contains('Mobile',na = False)"
   ]
  },
  {
   "cell_type": "code",
   "execution_count": 7,
   "metadata": {
    "collapsed": false
   },
   "outputs": [
    {
     "data": {
      "text/plain": [
       "<matplotlib.text.Text at 0x7f87d02bce48>"
      ]
     },
     "execution_count": 7,
     "metadata": {},
     "output_type": "execute_result"
    },
    {
     "data": {
      "image/png": "[encoded data removed]",
      "text/plain": [
       "<matplotlib.figure.Figure at 0x7f87cd5d6860>"
      ]
     },
     "metadata": {},
     "output_type": "display_data"
    }
   ],
   "source": [
    "data['Web_Mobile'].value_counts(normalize = True).plot.pie(autopct='%.1f%%')\n",
    "plt.ylabel('')"
   ]
  },
  {
   "cell_type": "markdown",
   "metadata": {},
   "source": [
    "Now we found out that more than 33% of people are interested in either or both web and mobile development. This seems to be a well mix of groups to find out what are the features of people who are interested in web and mobile development. "
   ]
  },
  {
   "cell_type": "markdown",
   "metadata": {},
   "source": [
    "## New Coders - Location and Densities\n",
    "\n",
    "The data set provides information about the location of each participant at a country level. The **CountryCitizen** variable describes the country of origin for each participant, and the **CountryLive** variable describes what country each participants lives in (which may be different than the origin country).\n",
    "\n",
    "For our analysis, we'll work with the **CountryLive** variable because we're interested where people actually live at the moment when we run the ads. In other words, we're interested where people are located, not where they were born.\n",
    "\n",
    "Because geographic information is provided on a country level, we should consider that each country as an individual market. "
   ]
  },
  {
   "cell_type": "markdown",
   "metadata": {},
   "source": [
    "To make it easier, we are going to drop the rows that don't have values in 'JobRoleInterest'."
   ]
  },
  {
   "cell_type": "code",
   "execution_count": 8,
   "metadata": {
    "collapsed": false
   },
   "outputs": [],
   "source": [
    "data = data[~(data['JobRoleInterest'].isnull())]"
   ]
  },
  {
   "cell_type": "code",
   "execution_count": 9,
   "metadata": {
    "collapsed": false
   },
   "outputs": [
    {
     "data": {
      "text/plain": [
       "(0, 139)"
      ]
     },
     "execution_count": 9,
     "metadata": {},
     "output_type": "execute_result"
    }
   ],
   "source": [
    "data[(data['JobRoleInterest'].isnull())].shape"
   ]
  },
  {
   "cell_type": "markdown",
   "metadata": {},
   "source": [
    "We can see the rows don't have values for 'JobRoleInterest' are now excluded."
   ]
  },
  {
   "cell_type": "code",
   "execution_count": 10,
   "metadata": {
    "collapsed": false
   },
   "outputs": [
    {
     "data": {
      "text/plain": [
       "<matplotlib.axes._subplots.AxesSubplot at 0x7f87cd5d6668>"
      ]
     },
     "execution_count": 10,
     "metadata": {},
     "output_type": "execute_result"
    },
    {
     "data": {
      "image/png": "[encoded data removed]",
      "text/plain": [
       "<matplotlib.figure.Figure at 0x7f87d02bc438>"
      ]
     },
     "metadata": {},
     "output_type": "display_data"
    }
   ],
   "source": [
    "data['CountryLive'].value_counts().head().sort_values(ascending = True).plot.barh()"
   ]
  },
  {
   "cell_type": "code",
   "execution_count": 11,
   "metadata": {
    "collapsed": false
   },
   "outputs": [
    {
     "data": {
      "text/plain": [
       "<matplotlib.axes._subplots.AxesSubplot at 0x7f87cd5f7668>"
      ]
     },
     "execution_count": 11,
     "metadata": {},
     "output_type": "execute_result"
    },
    {
     "data": {
      "image/png": "[encoded data removed]",
      "text/plain": [
       "<matplotlib.figure.Figure at 0x7f87d46f3710>"
      ]
     },
     "metadata": {},
     "output_type": "display_data"
    }
   ],
   "source": [
    "data['CountryLive'].value_counts(normalize = True).head().sort_values(ascending = True).plot.barh()"
   ]
  },
  {
   "cell_type": "markdown",
   "metadata": {},
   "source": [
    "You can see from the result above, the USA, India, the UK, Canada, and Poland are where most of respondents came from. Based on this result, it's probably the best to invest into those countries. However, let's dig deeper into the dataset and if there are any other potential ways to look at it. "
   ]
  },
  {
   "cell_type": "markdown",
   "metadata": {},
   "source": [
    "## Spending Money for Learning\n",
    "\n",
    "The MoneyForLearning column describes in American dollars the amount of money spent by participants from the moment they started coding until the moment they completed the survey. Our company sells subscriptions at a price of $59 per month, and for this reason we're interested in finding out how much money each student spends per month.\n",
    "\n",
    "It also seems like a good idea to narrow down our analysis to only four countries: the US, India, the United Kingdom, and Canada. Two reasons for this decision are:\n",
    "\n",
    "- These are the countries having the highest absolute frequencies in our sample, which means we have a decent amount of data for each.\n",
    "- Our courses are written in English, and English is an official language in all these four countries. The more people that know English, the better our chances to target the right people with our ads."
   ]
  },
  {
   "cell_type": "code",
   "execution_count": 12,
   "metadata": {
    "collapsed": false
   },
   "outputs": [],
   "source": [
    "data = data[data['CountryLive'].isin(['United States of America', 'United Kingdom','India','Canada'])]"
   ]
  },
  {
   "cell_type": "markdown",
   "metadata": {},
   "source": [
    "### Money Spent per Month"
   ]
  },
  {
   "cell_type": "markdown",
   "metadata": {},
   "source": [
    "Some students answered that they had been learning to code for 0 months (it might be that they had just started when they completed the survey). To avoid dividing by 0, replace all the values of 0 with 1."
   ]
  },
  {
   "cell_type": "code",
   "execution_count": 13,
   "metadata": {
    "collapsed": true
   },
   "outputs": [],
   "source": [
    "data.loc[data['MonthsProgramming'] == 0, 'MonthsProgramming'] = 1"
   ]
  },
  {
   "cell_type": "code",
   "execution_count": 14,
   "metadata": {
    "collapsed": true
   },
   "outputs": [],
   "source": [
    "data['MoneyPerMonth'] = data['MoneyForLearning']/data['MonthsProgramming']"
   ]
  },
  {
   "cell_type": "code",
   "execution_count": 15,
   "metadata": {
    "collapsed": false
   },
   "outputs": [
    {
     "data": {
      "text/plain": [
       "(4228, 140)"
      ]
     },
     "execution_count": 15,
     "metadata": {},
     "output_type": "execute_result"
    }
   ],
   "source": [
    "data.shape"
   ]
  },
  {
   "cell_type": "code",
   "execution_count": 16,
   "metadata": {
    "collapsed": false
   },
   "outputs": [
    {
     "data": {
      "text/plain": [
       "313"
      ]
     },
     "execution_count": 16,
     "metadata": {},
     "output_type": "execute_result"
    }
   ],
   "source": [
    "data['MoneyPerMonth'].isnull().sum()"
   ]
  },
  {
   "cell_type": "markdown",
   "metadata": {},
   "source": [
    "There are 121 records that have null value in 'MoneyPerMonth' columns. Removing these rows."
   ]
  },
  {
   "cell_type": "code",
   "execution_count": 17,
   "metadata": {
    "collapsed": true
   },
   "outputs": [],
   "source": [
    "data = data[~(data['MoneyPerMonth'].isnull())]"
   ]
  },
  {
   "cell_type": "code",
   "execution_count": 18,
   "metadata": {
    "collapsed": false
   },
   "outputs": [
    {
     "data": {
      "text/plain": [
       "(3915, 140)"
      ]
     },
     "execution_count": 18,
     "metadata": {},
     "output_type": "execute_result"
    }
   ],
   "source": [
    "data.shape"
   ]
  },
  {
   "cell_type": "code",
   "execution_count": 19,
   "metadata": {
    "collapsed": false
   },
   "outputs": [
    {
     "data": {
      "text/plain": [
       "count     3915.000000\n",
       "mean       196.990196\n",
       "std       1701.091730\n",
       "min          0.000000\n",
       "25%          0.000000\n",
       "50%          2.000000\n",
       "75%         40.000000\n",
       "max      80000.000000\n",
       "Name: MoneyPerMonth, dtype: float64"
      ]
     },
     "execution_count": 19,
     "metadata": {},
     "output_type": "execute_result"
    }
   ],
   "source": [
    "data['MoneyPerMonth'].describe()"
   ]
  },
  {
   "cell_type": "code",
   "execution_count": 20,
   "metadata": {
    "collapsed": false
   },
   "outputs": [
    {
     "data": {
      "text/html": [
       "<div>\n",
       "<style scoped>\n",
       "    .dataframe tbody tr th:only-of-type {\n",
       "        vertical-align: middle;\n",
       "    }\n",
       "\n",
       "    .dataframe tbody tr th {\n",
       "        vertical-align: top;\n",
       "    }\n",
       "\n",
       "    .dataframe thead th {\n",
       "        text-align: right;\n",
       "    }\n",
       "</style>\n",
       "<table border=\"1\" class=\"dataframe\">\n",
       "  <thead>\n",
       "    <tr style=\"text-align: right;\">\n",
       "      <th></th>\n",
       "      <th>MoneyPerMonth</th>\n",
       "    </tr>\n",
       "    <tr>\n",
       "      <th>CountryLive</th>\n",
       "      <th></th>\n",
       "    </tr>\n",
       "  </thead>\n",
       "  <tbody>\n",
       "    <tr>\n",
       "      <th>Canada</th>\n",
       "      <td>113.510961</td>\n",
       "    </tr>\n",
       "    <tr>\n",
       "      <th>India</th>\n",
       "      <td>135.100982</td>\n",
       "    </tr>\n",
       "    <tr>\n",
       "      <th>United Kingdom</th>\n",
       "      <td>45.534443</td>\n",
       "    </tr>\n",
       "    <tr>\n",
       "      <th>United States of America</th>\n",
       "      <td>227.997996</td>\n",
       "    </tr>\n",
       "  </tbody>\n",
       "</table>\n",
       "</div>"
      ],
      "text/plain": [
       "                          MoneyPerMonth\n",
       "CountryLive                            \n",
       "Canada                       113.510961\n",
       "India                        135.100982\n",
       "United Kingdom                45.534443\n",
       "United States of America     227.997996"
      ]
     },
     "execution_count": 20,
     "metadata": {},
     "output_type": "execute_result"
    }
   ],
   "source": [
    "data[['CountryLive','MoneyPerMonth']].groupby(['CountryLive']).mean()"
   ]
  },
  {
   "cell_type": "code",
   "execution_count": 21,
   "metadata": {
    "collapsed": false
   },
   "outputs": [
    {
     "name": "stderr",
     "output_type": "stream",
     "text": [
      "/dataquest/system/env/python3/lib/python3.4/site-packages/seaborn/categorical.py:454: FutureWarning:\n",
      "\n",
      "remove_na is deprecated and is a private function. Do not use.\n",
      "\n"
     ]
    },
    {
     "data": {
      "image/png": "[encoded data removed]",
      "text/plain": [
       "<matplotlib.figure.Figure at 0x7f87cd5ea518>"
      ]
     },
     "metadata": {},
     "output_type": "display_data"
    }
   ],
   "source": [
    "# Visualize the distributions again\n",
    "sns.boxplot(y = 'MoneyPerMonth', x = 'CountryLive',\n",
    "            data = data)\n",
    "plt.title('Money Spent Per Month Per Country\\n(Distributions)',\n",
    "          fontsize = 16)\n",
    "plt.ylabel('Money per month (US dollars)')\n",
    "plt.xlabel('Country')\n",
    "plt.xticks(range(4), ['US', 'UK', 'India', 'Canada']) # avoids tick labels overlap\n",
    "plt.show()"
   ]
  },
  {
   "cell_type": "markdown",
   "metadata": {},
   "source": [
    "The result seems little weird when we consider GDP per capita. Canada and the UK have high GDP per capita. However, on average India spends more money on their e-leaning training. It might be the data for those countries are not representative. Let's see if we have outliers"
   ]
  },
  {
   "cell_type": "markdown",
   "metadata": {},
   "source": [
    "Looks like there are lots of outliers. Spending 10k a month seems extreme, but if they attended a boot camp. They could easily spend that money on the training. However they are probably not the right audience for our e-learning course since they are already committed something that big. Let's look into each groups and see what can be considered as outliers."
   ]
  },
  {
   "cell_type": "markdown",
   "metadata": {},
   "source": [
    "It's hard to see anything wrong with the UK, India, and Canada at this point. But in the US, there is a big gap after 20k. Let's remove anything after 20k. "
   ]
  },
  {
   "cell_type": "code",
   "execution_count": 22,
   "metadata": {
    "collapsed": true
   },
   "outputs": [],
   "source": [
    "data = data[data['MoneyPerMonth'] < 20000]"
   ]
  },
  {
   "cell_type": "markdown",
   "metadata": {},
   "source": [
    "Plotting again."
   ]
  },
  {
   "cell_type": "code",
   "execution_count": 23,
   "metadata": {
    "collapsed": false
   },
   "outputs": [
    {
     "name": "stderr",
     "output_type": "stream",
     "text": [
      "/dataquest/system/env/python3/lib/python3.4/site-packages/seaborn/categorical.py:454: FutureWarning:\n",
      "\n",
      "remove_na is deprecated and is a private function. Do not use.\n",
      "\n"
     ]
    },
    {
     "data": {
      "image/png": "[encoded data removed]",
      "text/plain": [
       "<matplotlib.figure.Figure at 0x7f87cd5c0710>"
      ]
     },
     "metadata": {},
     "output_type": "display_data"
    }
   ],
   "source": [
    "# Visualize the distributions again\n",
    "sns.boxplot(y = 'MoneyPerMonth', x = 'CountryLive',\n",
    "            data = data)\n",
    "plt.title('Money Spent Per Month Per Country\\n(Distributions)',\n",
    "          fontsize = 16)\n",
    "plt.ylabel('Money per month (US dollars)')\n",
    "plt.xlabel('Country')\n",
    "plt.xticks(range(4), ['US', 'UK', 'India', 'Canada']) # avoids tick labels overlap\n",
    "plt.show()"
   ]
  },
  {
   "cell_type": "markdown",
   "metadata": {},
   "source": [
    "What can we immediately notice is that there's big jump on Money Spent per Month around 2500 in india. Let's looks into deeper those record."
   ]
  },
  {
   "cell_type": "code",
   "execution_count": 30,
   "metadata": {
    "collapsed": false
   },
   "outputs": [
    {
     "data": {
      "text/html": [
       "<div>\n",
       "<style scoped>\n",
       "    .dataframe tbody tr th:only-of-type {\n",
       "        vertical-align: middle;\n",
       "    }\n",
       "\n",
       "    .dataframe tbody tr th {\n",
       "        vertical-align: top;\n",
       "    }\n",
       "\n",
       "    .dataframe thead th {\n",
       "        text-align: right;\n",
       "    }\n",
       "</style>\n",
       "<table border=\"1\" class=\"dataframe\">\n",
       "  <thead>\n",
       "    <tr style=\"text-align: right;\">\n",
       "      <th></th>\n",
       "      <th>Age</th>\n",
       "      <th>AttendedBootcamp</th>\n",
       "      <th>BootcampFinish</th>\n",
       "      <th>BootcampLoanYesNo</th>\n",
       "      <th>BootcampName</th>\n",
       "      <th>BootcampRecommend</th>\n",
       "      <th>ChildrenNumber</th>\n",
       "      <th>CityPopulation</th>\n",
       "      <th>CodeEventConferences</th>\n",
       "      <th>CodeEventDjangoGirls</th>\n",
       "      <th>...</th>\n",
       "      <th>YouTubeLevelUpTuts</th>\n",
       "      <th>YouTubeMIT</th>\n",
       "      <th>YouTubeMozillaHacks</th>\n",
       "      <th>YouTubeOther</th>\n",
       "      <th>YouTubeSimplilearn</th>\n",
       "      <th>YouTubeTheNewBoston</th>\n",
       "      <th>Web</th>\n",
       "      <th>Mobile</th>\n",
       "      <th>Web_Mobile</th>\n",
       "      <th>MoneyPerMonth</th>\n",
       "    </tr>\n",
       "  </thead>\n",
       "  <tbody>\n",
       "    <tr>\n",
       "      <th>1728</th>\n",
       "      <td>24.0</td>\n",
       "      <td>0.0</td>\n",
       "      <td>NaN</td>\n",
       "      <td>NaN</td>\n",
       "      <td>NaN</td>\n",
       "      <td>NaN</td>\n",
       "      <td>NaN</td>\n",
       "      <td>between 100,000 and 1 million</td>\n",
       "      <td>NaN</td>\n",
       "      <td>NaN</td>\n",
       "      <td>...</td>\n",
       "      <td>NaN</td>\n",
       "      <td>NaN</td>\n",
       "      <td>NaN</td>\n",
       "      <td>NaN</td>\n",
       "      <td>NaN</td>\n",
       "      <td>NaN</td>\n",
       "      <td>True</td>\n",
       "      <td>True</td>\n",
       "      <td>True</td>\n",
       "      <td>5000.000000</td>\n",
       "    </tr>\n",
       "    <tr>\n",
       "      <th>1755</th>\n",
       "      <td>20.0</td>\n",
       "      <td>0.0</td>\n",
       "      <td>NaN</td>\n",
       "      <td>NaN</td>\n",
       "      <td>NaN</td>\n",
       "      <td>NaN</td>\n",
       "      <td>NaN</td>\n",
       "      <td>more than 1 million</td>\n",
       "      <td>NaN</td>\n",
       "      <td>NaN</td>\n",
       "      <td>...</td>\n",
       "      <td>NaN</td>\n",
       "      <td>1.0</td>\n",
       "      <td>NaN</td>\n",
       "      <td>NaN</td>\n",
       "      <td>NaN</td>\n",
       "      <td>NaN</td>\n",
       "      <td>True</td>\n",
       "      <td>False</td>\n",
       "      <td>True</td>\n",
       "      <td>3333.333333</td>\n",
       "    </tr>\n",
       "    <tr>\n",
       "      <th>7989</th>\n",
       "      <td>28.0</td>\n",
       "      <td>0.0</td>\n",
       "      <td>NaN</td>\n",
       "      <td>NaN</td>\n",
       "      <td>NaN</td>\n",
       "      <td>NaN</td>\n",
       "      <td>NaN</td>\n",
       "      <td>between 100,000 and 1 million</td>\n",
       "      <td>1.0</td>\n",
       "      <td>NaN</td>\n",
       "      <td>...</td>\n",
       "      <td>NaN</td>\n",
       "      <td>NaN</td>\n",
       "      <td>NaN</td>\n",
       "      <td>NaN</td>\n",
       "      <td>NaN</td>\n",
       "      <td>NaN</td>\n",
       "      <td>True</td>\n",
       "      <td>False</td>\n",
       "      <td>True</td>\n",
       "      <td>5000.000000</td>\n",
       "    </tr>\n",
       "    <tr>\n",
       "      <th>8126</th>\n",
       "      <td>22.0</td>\n",
       "      <td>0.0</td>\n",
       "      <td>NaN</td>\n",
       "      <td>NaN</td>\n",
       "      <td>NaN</td>\n",
       "      <td>NaN</td>\n",
       "      <td>NaN</td>\n",
       "      <td>more than 1 million</td>\n",
       "      <td>NaN</td>\n",
       "      <td>NaN</td>\n",
       "      <td>...</td>\n",
       "      <td>NaN</td>\n",
       "      <td>1.0</td>\n",
       "      <td>NaN</td>\n",
       "      <td>NaN</td>\n",
       "      <td>NaN</td>\n",
       "      <td>1.0</td>\n",
       "      <td>True</td>\n",
       "      <td>False</td>\n",
       "      <td>True</td>\n",
       "      <td>5000.000000</td>\n",
       "    </tr>\n",
       "    <tr>\n",
       "      <th>13398</th>\n",
       "      <td>19.0</td>\n",
       "      <td>0.0</td>\n",
       "      <td>NaN</td>\n",
       "      <td>NaN</td>\n",
       "      <td>NaN</td>\n",
       "      <td>NaN</td>\n",
       "      <td>NaN</td>\n",
       "      <td>more than 1 million</td>\n",
       "      <td>NaN</td>\n",
       "      <td>NaN</td>\n",
       "      <td>...</td>\n",
       "      <td>NaN</td>\n",
       "      <td>NaN</td>\n",
       "      <td>NaN</td>\n",
       "      <td>NaN</td>\n",
       "      <td>NaN</td>\n",
       "      <td>NaN</td>\n",
       "      <td>False</td>\n",
       "      <td>True</td>\n",
       "      <td>True</td>\n",
       "      <td>10000.000000</td>\n",
       "    </tr>\n",
       "    <tr>\n",
       "      <th>15587</th>\n",
       "      <td>27.0</td>\n",
       "      <td>0.0</td>\n",
       "      <td>NaN</td>\n",
       "      <td>NaN</td>\n",
       "      <td>NaN</td>\n",
       "      <td>NaN</td>\n",
       "      <td>NaN</td>\n",
       "      <td>more than 1 million</td>\n",
       "      <td>NaN</td>\n",
       "      <td>NaN</td>\n",
       "      <td>...</td>\n",
       "      <td>NaN</td>\n",
       "      <td>1.0</td>\n",
       "      <td>NaN</td>\n",
       "      <td>NaN</td>\n",
       "      <td>NaN</td>\n",
       "      <td>NaN</td>\n",
       "      <td>True</td>\n",
       "      <td>False</td>\n",
       "      <td>True</td>\n",
       "      <td>4166.666667</td>\n",
       "    </tr>\n",
       "  </tbody>\n",
       "</table>\n",
       "<p>6 rows × 140 columns</p>\n",
       "</div>"
      ],
      "text/plain": [
       "        Age  AttendedBootcamp  BootcampFinish  BootcampLoanYesNo BootcampName  \\\n",
       "1728   24.0               0.0             NaN                NaN          NaN   \n",
       "1755   20.0               0.0             NaN                NaN          NaN   \n",
       "7989   28.0               0.0             NaN                NaN          NaN   \n",
       "8126   22.0               0.0             NaN                NaN          NaN   \n",
       "13398  19.0               0.0             NaN                NaN          NaN   \n",
       "15587  27.0               0.0             NaN                NaN          NaN   \n",
       "\n",
       "       BootcampRecommend  ChildrenNumber                 CityPopulation  \\\n",
       "1728                 NaN             NaN  between 100,000 and 1 million   \n",
       "1755                 NaN             NaN            more than 1 million   \n",
       "7989                 NaN             NaN  between 100,000 and 1 million   \n",
       "8126                 NaN             NaN            more than 1 million   \n",
       "13398                NaN             NaN            more than 1 million   \n",
       "15587                NaN             NaN            more than 1 million   \n",
       "\n",
       "       CodeEventConferences  CodeEventDjangoGirls      ...        \\\n",
       "1728                    NaN                   NaN      ...         \n",
       "1755                    NaN                   NaN      ...         \n",
       "7989                    1.0                   NaN      ...         \n",
       "8126                    NaN                   NaN      ...         \n",
       "13398                   NaN                   NaN      ...         \n",
       "15587                   NaN                   NaN      ...         \n",
       "\n",
       "       YouTubeLevelUpTuts  YouTubeMIT  YouTubeMozillaHacks  YouTubeOther  \\\n",
       "1728                  NaN         NaN                  NaN           NaN   \n",
       "1755                  NaN         1.0                  NaN           NaN   \n",
       "7989                  NaN         NaN                  NaN           NaN   \n",
       "8126                  NaN         1.0                  NaN           NaN   \n",
       "13398                 NaN         NaN                  NaN           NaN   \n",
       "15587                 NaN         1.0                  NaN           NaN   \n",
       "\n",
       "       YouTubeSimplilearn  YouTubeTheNewBoston    Web Mobile  Web_Mobile  \\\n",
       "1728                  NaN                  NaN   True   True        True   \n",
       "1755                  NaN                  NaN   True  False        True   \n",
       "7989                  NaN                  NaN   True  False        True   \n",
       "8126                  NaN                  1.0   True  False        True   \n",
       "13398                 NaN                  NaN  False   True        True   \n",
       "15587                 NaN                  NaN   True  False        True   \n",
       "\n",
       "       MoneyPerMonth  \n",
       "1728     5000.000000  \n",
       "1755     3333.333333  \n",
       "7989     5000.000000  \n",
       "8126     5000.000000  \n",
       "13398   10000.000000  \n",
       "15587    4166.666667  \n",
       "\n",
       "[6 rows x 140 columns]"
      ]
     },
     "execution_count": 30,
     "metadata": {},
     "output_type": "execute_result"
    }
   ],
   "source": [
    "data[(data['CountryLive'] == 'India') & (data['MoneyPerMonth'] >= 2500)]"
   ]
  },
  {
   "cell_type": "markdown",
   "metadata": {},
   "source": [
    "None of them attended bootcamp as it appears to be on the data. It's hard to see what can possibly they spent their money on maybe except college tuition. Which is impossible to tell from the data. It's safer to drop those rows. "
   ]
  },
  {
   "cell_type": "code",
   "execution_count": 32,
   "metadata": {
    "collapsed": false
   },
   "outputs": [],
   "source": [
    "data = data.drop(data[(data['CountryLive'] == 'India') & (data['MoneyPerMonth'] >= 2500)].index)"
   ]
  },
  {
   "cell_type": "markdown",
   "metadata": {},
   "source": [
    "Looking back at the box plot above, we can also see more extreme outliers for the US (values over \\$6000 per month). Let's examine these participants in more detail."
   ]
  },
  {
   "cell_type": "code",
   "execution_count": 33,
   "metadata": {
    "collapsed": false
   },
   "outputs": [
    {
     "name": "stderr",
     "output_type": "stream",
     "text": [
      "/dataquest/system/env/python3/lib/python3.4/site-packages/seaborn/categorical.py:454: FutureWarning:\n",
      "\n",
      "remove_na is deprecated and is a private function. Do not use.\n",
      "\n"
     ]
    },
    {
     "data": {
      "image/png": "[encoded data removed]",
      "text/plain": [
       "<matplotlib.figure.Figure at 0x7f87ca725e10>"
      ]
     },
     "metadata": {},
     "output_type": "display_data"
    }
   ],
   "source": [
    "# Visualize the distributions again\n",
    "sns.boxplot(y = 'MoneyPerMonth', x = 'CountryLive',\n",
    "            data = data)\n",
    "plt.title('Money Spent Per Month Per Country\\n(Distributions)',\n",
    "          fontsize = 16)\n",
    "plt.ylabel('Money per month (US dollars)')\n",
    "plt.xlabel('Country')\n",
    "plt.xticks(range(4), ['US', 'UK', 'India', 'Canada']) # avoids tick labels overlap\n",
    "plt.show()"
   ]
  },
  {
   "cell_type": "code",
   "execution_count": 34,
   "metadata": {
    "collapsed": false
   },
   "outputs": [
    {
     "data": {
      "text/html": [
       "<div>\n",
       "<style scoped>\n",
       "    .dataframe tbody tr th:only-of-type {\n",
       "        vertical-align: middle;\n",
       "    }\n",
       "\n",
       "    .dataframe tbody tr th {\n",
       "        vertical-align: top;\n",
       "    }\n",
       "\n",
       "    .dataframe thead th {\n",
       "        text-align: right;\n",
       "    }\n",
       "</style>\n",
       "<table border=\"1\" class=\"dataframe\">\n",
       "  <thead>\n",
       "    <tr style=\"text-align: right;\">\n",
       "      <th></th>\n",
       "      <th>Age</th>\n",
       "      <th>AttendedBootcamp</th>\n",
       "      <th>BootcampFinish</th>\n",
       "      <th>BootcampLoanYesNo</th>\n",
       "      <th>BootcampName</th>\n",
       "      <th>BootcampRecommend</th>\n",
       "      <th>ChildrenNumber</th>\n",
       "      <th>CityPopulation</th>\n",
       "      <th>CodeEventConferences</th>\n",
       "      <th>CodeEventDjangoGirls</th>\n",
       "      <th>...</th>\n",
       "      <th>YouTubeLevelUpTuts</th>\n",
       "      <th>YouTubeMIT</th>\n",
       "      <th>YouTubeMozillaHacks</th>\n",
       "      <th>YouTubeOther</th>\n",
       "      <th>YouTubeSimplilearn</th>\n",
       "      <th>YouTubeTheNewBoston</th>\n",
       "      <th>Web</th>\n",
       "      <th>Mobile</th>\n",
       "      <th>Web_Mobile</th>\n",
       "      <th>MoneyPerMonth</th>\n",
       "    </tr>\n",
       "  </thead>\n",
       "  <tbody>\n",
       "    <tr>\n",
       "      <th>718</th>\n",
       "      <td>26.0</td>\n",
       "      <td>1.0</td>\n",
       "      <td>0.0</td>\n",
       "      <td>0.0</td>\n",
       "      <td>The Coding Boot Camp at UCLA Extension</td>\n",
       "      <td>1.0</td>\n",
       "      <td>NaN</td>\n",
       "      <td>more than 1 million</td>\n",
       "      <td>1.0</td>\n",
       "      <td>NaN</td>\n",
       "      <td>...</td>\n",
       "      <td>NaN</td>\n",
       "      <td>NaN</td>\n",
       "      <td>NaN</td>\n",
       "      <td>NaN</td>\n",
       "      <td>NaN</td>\n",
       "      <td>NaN</td>\n",
       "      <td>True</td>\n",
       "      <td>True</td>\n",
       "      <td>True</td>\n",
       "      <td>8000.000000</td>\n",
       "    </tr>\n",
       "    <tr>\n",
       "      <th>1222</th>\n",
       "      <td>32.0</td>\n",
       "      <td>1.0</td>\n",
       "      <td>0.0</td>\n",
       "      <td>0.0</td>\n",
       "      <td>The Iron Yard</td>\n",
       "      <td>1.0</td>\n",
       "      <td>NaN</td>\n",
       "      <td>between 100,000 and 1 million</td>\n",
       "      <td>NaN</td>\n",
       "      <td>NaN</td>\n",
       "      <td>...</td>\n",
       "      <td>NaN</td>\n",
       "      <td>NaN</td>\n",
       "      <td>NaN</td>\n",
       "      <td>NaN</td>\n",
       "      <td>NaN</td>\n",
       "      <td>NaN</td>\n",
       "      <td>True</td>\n",
       "      <td>True</td>\n",
       "      <td>True</td>\n",
       "      <td>6500.000000</td>\n",
       "    </tr>\n",
       "    <tr>\n",
       "      <th>3184</th>\n",
       "      <td>34.0</td>\n",
       "      <td>1.0</td>\n",
       "      <td>1.0</td>\n",
       "      <td>0.0</td>\n",
       "      <td>We Can Code IT</td>\n",
       "      <td>1.0</td>\n",
       "      <td>NaN</td>\n",
       "      <td>more than 1 million</td>\n",
       "      <td>NaN</td>\n",
       "      <td>NaN</td>\n",
       "      <td>...</td>\n",
       "      <td>NaN</td>\n",
       "      <td>NaN</td>\n",
       "      <td>NaN</td>\n",
       "      <td>NaN</td>\n",
       "      <td>NaN</td>\n",
       "      <td>NaN</td>\n",
       "      <td>False</td>\n",
       "      <td>False</td>\n",
       "      <td>False</td>\n",
       "      <td>9000.000000</td>\n",
       "    </tr>\n",
       "    <tr>\n",
       "      <th>3930</th>\n",
       "      <td>31.0</td>\n",
       "      <td>0.0</td>\n",
       "      <td>NaN</td>\n",
       "      <td>NaN</td>\n",
       "      <td>NaN</td>\n",
       "      <td>NaN</td>\n",
       "      <td>NaN</td>\n",
       "      <td>between 100,000 and 1 million</td>\n",
       "      <td>NaN</td>\n",
       "      <td>NaN</td>\n",
       "      <td>...</td>\n",
       "      <td>1.0</td>\n",
       "      <td>1.0</td>\n",
       "      <td>NaN</td>\n",
       "      <td>various conf presentations</td>\n",
       "      <td>NaN</td>\n",
       "      <td>NaN</td>\n",
       "      <td>True</td>\n",
       "      <td>False</td>\n",
       "      <td>True</td>\n",
       "      <td>10833.333333</td>\n",
       "    </tr>\n",
       "    <tr>\n",
       "      <th>6805</th>\n",
       "      <td>46.0</td>\n",
       "      <td>1.0</td>\n",
       "      <td>1.0</td>\n",
       "      <td>1.0</td>\n",
       "      <td>Sabio.la</td>\n",
       "      <td>0.0</td>\n",
       "      <td>NaN</td>\n",
       "      <td>between 100,000 and 1 million</td>\n",
       "      <td>NaN</td>\n",
       "      <td>NaN</td>\n",
       "      <td>...</td>\n",
       "      <td>NaN</td>\n",
       "      <td>NaN</td>\n",
       "      <td>NaN</td>\n",
       "      <td>NaN</td>\n",
       "      <td>NaN</td>\n",
       "      <td>NaN</td>\n",
       "      <td>True</td>\n",
       "      <td>False</td>\n",
       "      <td>True</td>\n",
       "      <td>15000.000000</td>\n",
       "    </tr>\n",
       "    <tr>\n",
       "      <th>7198</th>\n",
       "      <td>32.0</td>\n",
       "      <td>0.0</td>\n",
       "      <td>NaN</td>\n",
       "      <td>NaN</td>\n",
       "      <td>NaN</td>\n",
       "      <td>NaN</td>\n",
       "      <td>NaN</td>\n",
       "      <td>more than 1 million</td>\n",
       "      <td>1.0</td>\n",
       "      <td>NaN</td>\n",
       "      <td>...</td>\n",
       "      <td>1.0</td>\n",
       "      <td>NaN</td>\n",
       "      <td>NaN</td>\n",
       "      <td>NaN</td>\n",
       "      <td>NaN</td>\n",
       "      <td>NaN</td>\n",
       "      <td>True</td>\n",
       "      <td>False</td>\n",
       "      <td>True</td>\n",
       "      <td>14000.000000</td>\n",
       "    </tr>\n",
       "    <tr>\n",
       "      <th>7505</th>\n",
       "      <td>26.0</td>\n",
       "      <td>1.0</td>\n",
       "      <td>0.0</td>\n",
       "      <td>1.0</td>\n",
       "      <td>Codeup</td>\n",
       "      <td>0.0</td>\n",
       "      <td>NaN</td>\n",
       "      <td>more than 1 million</td>\n",
       "      <td>NaN</td>\n",
       "      <td>NaN</td>\n",
       "      <td>...</td>\n",
       "      <td>NaN</td>\n",
       "      <td>1.0</td>\n",
       "      <td>NaN</td>\n",
       "      <td>NaN</td>\n",
       "      <td>NaN</td>\n",
       "      <td>NaN</td>\n",
       "      <td>True</td>\n",
       "      <td>True</td>\n",
       "      <td>True</td>\n",
       "      <td>6666.666667</td>\n",
       "    </tr>\n",
       "    <tr>\n",
       "      <th>9778</th>\n",
       "      <td>33.0</td>\n",
       "      <td>1.0</td>\n",
       "      <td>0.0</td>\n",
       "      <td>1.0</td>\n",
       "      <td>Grand Circus</td>\n",
       "      <td>1.0</td>\n",
       "      <td>NaN</td>\n",
       "      <td>between 100,000 and 1 million</td>\n",
       "      <td>NaN</td>\n",
       "      <td>NaN</td>\n",
       "      <td>...</td>\n",
       "      <td>NaN</td>\n",
       "      <td>NaN</td>\n",
       "      <td>NaN</td>\n",
       "      <td>NaN</td>\n",
       "      <td>NaN</td>\n",
       "      <td>NaN</td>\n",
       "      <td>True</td>\n",
       "      <td>True</td>\n",
       "      <td>True</td>\n",
       "      <td>8000.000000</td>\n",
       "    </tr>\n",
       "    <tr>\n",
       "      <th>16650</th>\n",
       "      <td>29.0</td>\n",
       "      <td>0.0</td>\n",
       "      <td>NaN</td>\n",
       "      <td>NaN</td>\n",
       "      <td>NaN</td>\n",
       "      <td>NaN</td>\n",
       "      <td>2.0</td>\n",
       "      <td>more than 1 million</td>\n",
       "      <td>NaN</td>\n",
       "      <td>NaN</td>\n",
       "      <td>...</td>\n",
       "      <td>NaN</td>\n",
       "      <td>NaN</td>\n",
       "      <td>NaN</td>\n",
       "      <td>NaN</td>\n",
       "      <td>NaN</td>\n",
       "      <td>1.0</td>\n",
       "      <td>True</td>\n",
       "      <td>False</td>\n",
       "      <td>True</td>\n",
       "      <td>16666.666667</td>\n",
       "    </tr>\n",
       "    <tr>\n",
       "      <th>16997</th>\n",
       "      <td>27.0</td>\n",
       "      <td>0.0</td>\n",
       "      <td>NaN</td>\n",
       "      <td>NaN</td>\n",
       "      <td>NaN</td>\n",
       "      <td>NaN</td>\n",
       "      <td>1.0</td>\n",
       "      <td>more than 1 million</td>\n",
       "      <td>NaN</td>\n",
       "      <td>NaN</td>\n",
       "      <td>...</td>\n",
       "      <td>NaN</td>\n",
       "      <td>NaN</td>\n",
       "      <td>NaN</td>\n",
       "      <td>NaN</td>\n",
       "      <td>NaN</td>\n",
       "      <td>NaN</td>\n",
       "      <td>True</td>\n",
       "      <td>True</td>\n",
       "      <td>True</td>\n",
       "      <td>12500.000000</td>\n",
       "    </tr>\n",
       "    <tr>\n",
       "      <th>17231</th>\n",
       "      <td>50.0</td>\n",
       "      <td>0.0</td>\n",
       "      <td>NaN</td>\n",
       "      <td>NaN</td>\n",
       "      <td>NaN</td>\n",
       "      <td>NaN</td>\n",
       "      <td>2.0</td>\n",
       "      <td>less than 100,000</td>\n",
       "      <td>NaN</td>\n",
       "      <td>NaN</td>\n",
       "      <td>...</td>\n",
       "      <td>NaN</td>\n",
       "      <td>NaN</td>\n",
       "      <td>NaN</td>\n",
       "      <td>NaN</td>\n",
       "      <td>NaN</td>\n",
       "      <td>NaN</td>\n",
       "      <td>True</td>\n",
       "      <td>False</td>\n",
       "      <td>True</td>\n",
       "      <td>15000.000000</td>\n",
       "    </tr>\n",
       "  </tbody>\n",
       "</table>\n",
       "<p>11 rows × 140 columns</p>\n",
       "</div>"
      ],
      "text/plain": [
       "        Age  AttendedBootcamp  BootcampFinish  BootcampLoanYesNo  \\\n",
       "718    26.0               1.0             0.0                0.0   \n",
       "1222   32.0               1.0             0.0                0.0   \n",
       "3184   34.0               1.0             1.0                0.0   \n",
       "3930   31.0               0.0             NaN                NaN   \n",
       "6805   46.0               1.0             1.0                1.0   \n",
       "7198   32.0               0.0             NaN                NaN   \n",
       "7505   26.0               1.0             0.0                1.0   \n",
       "9778   33.0               1.0             0.0                1.0   \n",
       "16650  29.0               0.0             NaN                NaN   \n",
       "16997  27.0               0.0             NaN                NaN   \n",
       "17231  50.0               0.0             NaN                NaN   \n",
       "\n",
       "                                 BootcampName  BootcampRecommend  \\\n",
       "718    The Coding Boot Camp at UCLA Extension                1.0   \n",
       "1222                            The Iron Yard                1.0   \n",
       "3184                           We Can Code IT                1.0   \n",
       "3930                                      NaN                NaN   \n",
       "6805                                 Sabio.la                0.0   \n",
       "7198                                      NaN                NaN   \n",
       "7505                                   Codeup                0.0   \n",
       "9778                             Grand Circus                1.0   \n",
       "16650                                     NaN                NaN   \n",
       "16997                                     NaN                NaN   \n",
       "17231                                     NaN                NaN   \n",
       "\n",
       "       ChildrenNumber                 CityPopulation  CodeEventConferences  \\\n",
       "718               NaN            more than 1 million                   1.0   \n",
       "1222              NaN  between 100,000 and 1 million                   NaN   \n",
       "3184              NaN            more than 1 million                   NaN   \n",
       "3930              NaN  between 100,000 and 1 million                   NaN   \n",
       "6805              NaN  between 100,000 and 1 million                   NaN   \n",
       "7198              NaN            more than 1 million                   1.0   \n",
       "7505              NaN            more than 1 million                   NaN   \n",
       "9778              NaN  between 100,000 and 1 million                   NaN   \n",
       "16650             2.0            more than 1 million                   NaN   \n",
       "16997             1.0            more than 1 million                   NaN   \n",
       "17231             2.0              less than 100,000                   NaN   \n",
       "\n",
       "       CodeEventDjangoGirls      ...        YouTubeLevelUpTuts  YouTubeMIT  \\\n",
       "718                     NaN      ...                       NaN         NaN   \n",
       "1222                    NaN      ...                       NaN         NaN   \n",
       "3184                    NaN      ...                       NaN         NaN   \n",
       "3930                    NaN      ...                       1.0         1.0   \n",
       "6805                    NaN      ...                       NaN         NaN   \n",
       "7198                    NaN      ...                       1.0         NaN   \n",
       "7505                    NaN      ...                       NaN         1.0   \n",
       "9778                    NaN      ...                       NaN         NaN   \n",
       "16650                   NaN      ...                       NaN         NaN   \n",
       "16997                   NaN      ...                       NaN         NaN   \n",
       "17231                   NaN      ...                       NaN         NaN   \n",
       "\n",
       "       YouTubeMozillaHacks                YouTubeOther  YouTubeSimplilearn  \\\n",
       "718                    NaN                         NaN                 NaN   \n",
       "1222                   NaN                         NaN                 NaN   \n",
       "3184                   NaN                         NaN                 NaN   \n",
       "3930                   NaN  various conf presentations                 NaN   \n",
       "6805                   NaN                         NaN                 NaN   \n",
       "7198                   NaN                         NaN                 NaN   \n",
       "7505                   NaN                         NaN                 NaN   \n",
       "9778                   NaN                         NaN                 NaN   \n",
       "16650                  NaN                         NaN                 NaN   \n",
       "16997                  NaN                         NaN                 NaN   \n",
       "17231                  NaN                         NaN                 NaN   \n",
       "\n",
       "       YouTubeTheNewBoston    Web Mobile  Web_Mobile  MoneyPerMonth  \n",
       "718                    NaN   True   True        True    8000.000000  \n",
       "1222                   NaN   True   True        True    6500.000000  \n",
       "3184                   NaN  False  False       False    9000.000000  \n",
       "3930                   NaN   True  False        True   10833.333333  \n",
       "6805                   NaN   True  False        True   15000.000000  \n",
       "7198                   NaN   True  False        True   14000.000000  \n",
       "7505                   NaN   True   True        True    6666.666667  \n",
       "9778                   NaN   True   True        True    8000.000000  \n",
       "16650                  1.0   True  False        True   16666.666667  \n",
       "16997                  NaN   True   True        True   12500.000000  \n",
       "17231                  NaN   True  False        True   15000.000000  \n",
       "\n",
       "[11 rows x 140 columns]"
      ]
     },
     "execution_count": 34,
     "metadata": {},
     "output_type": "execute_result"
    }
   ],
   "source": [
    "data[(data['CountryLive'] == 'United States of America') & (data['MoneyPerMonth'] >= 6000)]"
   ]
  },
  {
   "cell_type": "markdown",
   "metadata": {},
   "source": [
    "\n",
    "Out of these 11 extreme outliers, six people attended bootcamps, which justify the large sums of money spent on learning. For the other five, it's hard to figure out from the data where they could have spent that much money on learning. Consequently, we'll remove those rows where participants reported thay they spend \\$6000 each month, but they have never attended a bootcamp.\n",
    "\n",
    "Also, the data shows that eight respondents had been programming for no more than three months when they completed the survey. They most likely paid a large sum of money for a bootcamp that was going to last for several months, so the amount of money spent per month is unrealistic and should be significantly lower (because they probably didn't spend anything for the next couple of months after the survey). As a consequence, we'll remove every these eight outliers.\n",
    "\n",
    "In the next code block, we'll remove respondents that:\n",
    "\n",
    "- Didn't attend bootcamps.\n",
    "- Had been programming for three months or less when at the time they completed the survey."
   ]
  },
  {
   "cell_type": "code",
   "execution_count": 37,
   "metadata": {
    "collapsed": false
   },
   "outputs": [],
   "source": [
    "\n",
    "# Remove the respondents who didn't attendent a bootcamp\n",
    "data = data.drop(data[\n",
    "    (data['CountryLive'] == 'United States of America') & \n",
    "    (data['MoneyPerMonth'] >= 6000) &\n",
    "    (data['AttendedBootcamp'] == 0)\n",
    "].index\n",
    ")\n",
    "\n",
    "\n",
    "# Remove the respondents that had been programming for less than 3 months\n",
    "data = data.drop(data[\n",
    "    (data['CountryLive'] == 'United States of America') & \n",
    "    (data['MoneyPerMonth'] >= 6000) &\n",
    "    (data['MonthsProgramming'] <= 3)\n",
    "].index)"
   ]
  },
  {
   "cell_type": "code",
   "execution_count": 38,
   "metadata": {
    "collapsed": false
   },
   "outputs": [
    {
     "name": "stderr",
     "output_type": "stream",
     "text": [
      "/dataquest/system/env/python3/lib/python3.4/site-packages/seaborn/categorical.py:454: FutureWarning:\n",
      "\n",
      "remove_na is deprecated and is a private function. Do not use.\n",
      "\n"
     ]
    },
    {
     "data": {
      "image/png": "[encoded data removed]",
      "text/plain": [
       "<matplotlib.figure.Figure at 0x7f87ca6fce10>"
      ]
     },
     "metadata": {},
     "output_type": "display_data"
    }
   ],
   "source": [
    "# Visualize the distributions again\n",
    "sns.boxplot(y = 'MoneyPerMonth', x = 'CountryLive',\n",
    "            data = data)\n",
    "plt.title('Money Spent Per Month Per Country\\n(Distributions)',\n",
    "          fontsize = 16)\n",
    "plt.ylabel('Money per month (US dollars)')\n",
    "plt.xlabel('Country')\n",
    "plt.xticks(range(4), ['US', 'UK', 'India', 'Canada']) # avoids tick labels overlap\n",
    "plt.show()"
   ]
  },
  {
   "cell_type": "markdown",
   "metadata": {},
   "source": [
    "\n",
    "Looking again at the last box plot above, we can also see an extreme outlier for Canada — a person who spends roughly \\$5000 per month. Let's examine this person in more depth."
   ]
  },
  {
   "cell_type": "code",
   "execution_count": 40,
   "metadata": {
    "collapsed": false
   },
   "outputs": [
    {
     "data": {
      "text/html": [
       "<div>\n",
       "<style scoped>\n",
       "    .dataframe tbody tr th:only-of-type {\n",
       "        vertical-align: middle;\n",
       "    }\n",
       "\n",
       "    .dataframe tbody tr th {\n",
       "        vertical-align: top;\n",
       "    }\n",
       "\n",
       "    .dataframe thead th {\n",
       "        text-align: right;\n",
       "    }\n",
       "</style>\n",
       "<table border=\"1\" class=\"dataframe\">\n",
       "  <thead>\n",
       "    <tr style=\"text-align: right;\">\n",
       "      <th></th>\n",
       "      <th>Age</th>\n",
       "      <th>AttendedBootcamp</th>\n",
       "      <th>BootcampFinish</th>\n",
       "      <th>BootcampLoanYesNo</th>\n",
       "      <th>BootcampName</th>\n",
       "      <th>BootcampRecommend</th>\n",
       "      <th>ChildrenNumber</th>\n",
       "      <th>CityPopulation</th>\n",
       "      <th>CodeEventConferences</th>\n",
       "      <th>CodeEventDjangoGirls</th>\n",
       "      <th>...</th>\n",
       "      <th>YouTubeLevelUpTuts</th>\n",
       "      <th>YouTubeMIT</th>\n",
       "      <th>YouTubeMozillaHacks</th>\n",
       "      <th>YouTubeOther</th>\n",
       "      <th>YouTubeSimplilearn</th>\n",
       "      <th>YouTubeTheNewBoston</th>\n",
       "      <th>Web</th>\n",
       "      <th>Mobile</th>\n",
       "      <th>Web_Mobile</th>\n",
       "      <th>MoneyPerMonth</th>\n",
       "    </tr>\n",
       "  </thead>\n",
       "  <tbody>\n",
       "    <tr>\n",
       "      <th>13659</th>\n",
       "      <td>24.0</td>\n",
       "      <td>1.0</td>\n",
       "      <td>0.0</td>\n",
       "      <td>0.0</td>\n",
       "      <td>Bloc.io</td>\n",
       "      <td>1.0</td>\n",
       "      <td>NaN</td>\n",
       "      <td>more than 1 million</td>\n",
       "      <td>1.0</td>\n",
       "      <td>NaN</td>\n",
       "      <td>...</td>\n",
       "      <td>NaN</td>\n",
       "      <td>1.0</td>\n",
       "      <td>NaN</td>\n",
       "      <td>NaN</td>\n",
       "      <td>NaN</td>\n",
       "      <td>NaN</td>\n",
       "      <td>True</td>\n",
       "      <td>True</td>\n",
       "      <td>True</td>\n",
       "      <td>5000.0</td>\n",
       "    </tr>\n",
       "  </tbody>\n",
       "</table>\n",
       "<p>1 rows × 140 columns</p>\n",
       "</div>"
      ],
      "text/plain": [
       "        Age  AttendedBootcamp  BootcampFinish  BootcampLoanYesNo BootcampName  \\\n",
       "13659  24.0               1.0             0.0                0.0      Bloc.io   \n",
       "\n",
       "       BootcampRecommend  ChildrenNumber       CityPopulation  \\\n",
       "13659                1.0             NaN  more than 1 million   \n",
       "\n",
       "       CodeEventConferences  CodeEventDjangoGirls      ...        \\\n",
       "13659                   1.0                   NaN      ...         \n",
       "\n",
       "       YouTubeLevelUpTuts  YouTubeMIT  YouTubeMozillaHacks  YouTubeOther  \\\n",
       "13659                 NaN         1.0                  NaN           NaN   \n",
       "\n",
       "       YouTubeSimplilearn  YouTubeTheNewBoston   Web Mobile  Web_Mobile  \\\n",
       "13659                 NaN                  NaN  True   True        True   \n",
       "\n",
       "       MoneyPerMonth  \n",
       "13659         5000.0  \n",
       "\n",
       "[1 rows x 140 columns]"
      ]
     },
     "execution_count": 40,
     "metadata": {},
     "output_type": "execute_result"
    }
   ],
   "source": [
    "# Examine the extreme outliers for Canada\n",
    "data[(data['CountryLive'] == 'Canada') & \n",
    "    (data['MoneyPerMonth'] > 4500)]\n",
    "\n"
   ]
  },
  {
   "cell_type": "markdown",
   "metadata": {},
   "source": [
    "Data looks little better. With that data cleansing, the mean seems to be normalized a lot. "
   ]
  },
  {
   "cell_type": "markdown",
   "metadata": {},
   "source": [
    "Here, the situation is similar to some of the US respondents — this participant had been programming for no more than two months when he completed the survey. He seems to have paid a large sum of money in the beginning to enroll in a bootcamp, and then he probably didn't spend anything for the next couple of months after the survey. We'll take the same approach here as for the US and remove this outlier."
   ]
  },
  {
   "cell_type": "code",
   "execution_count": 41,
   "metadata": {
    "collapsed": true
   },
   "outputs": [],
   "source": [
    "data = data.drop(data[(data['CountryLive'] == 'Canada') & \n",
    "    (data['MoneyPerMonth'] > 4500)].index)"
   ]
  },
  {
   "cell_type": "code",
   "execution_count": 42,
   "metadata": {
    "collapsed": false
   },
   "outputs": [
    {
     "data": {
      "text/html": [
       "<div>\n",
       "<style scoped>\n",
       "    .dataframe tbody tr th:only-of-type {\n",
       "        vertical-align: middle;\n",
       "    }\n",
       "\n",
       "    .dataframe tbody tr th {\n",
       "        vertical-align: top;\n",
       "    }\n",
       "\n",
       "    .dataframe thead th {\n",
       "        text-align: right;\n",
       "    }\n",
       "</style>\n",
       "<table border=\"1\" class=\"dataframe\">\n",
       "  <thead>\n",
       "    <tr style=\"text-align: right;\">\n",
       "      <th></th>\n",
       "      <th>MoneyPerMonth</th>\n",
       "    </tr>\n",
       "    <tr>\n",
       "      <th>CountryLive</th>\n",
       "      <th></th>\n",
       "    </tr>\n",
       "  </thead>\n",
       "  <tbody>\n",
       "    <tr>\n",
       "      <th>Canada</th>\n",
       "      <td>93.065400</td>\n",
       "    </tr>\n",
       "    <tr>\n",
       "      <th>India</th>\n",
       "      <td>65.758763</td>\n",
       "    </tr>\n",
       "    <tr>\n",
       "      <th>United Kingdom</th>\n",
       "      <td>45.534443</td>\n",
       "    </tr>\n",
       "    <tr>\n",
       "      <th>United States of America</th>\n",
       "      <td>142.654608</td>\n",
       "    </tr>\n",
       "  </tbody>\n",
       "</table>\n",
       "</div>"
      ],
      "text/plain": [
       "                          MoneyPerMonth\n",
       "CountryLive                            \n",
       "Canada                        93.065400\n",
       "India                         65.758763\n",
       "United Kingdom                45.534443\n",
       "United States of America     142.654608"
      ]
     },
     "execution_count": 42,
     "metadata": {},
     "output_type": "execute_result"
    }
   ],
   "source": [
    "data[['CountryLive','MoneyPerMonth']].groupby(['CountryLive']).mean()"
   ]
  },
  {
   "cell_type": "code",
   "execution_count": 43,
   "metadata": {
    "collapsed": false
   },
   "outputs": [
    {
     "data": {
      "text/plain": [
       "United States of America    74.967908\n",
       "India                       11.732991\n",
       "United Kingdom               7.163030\n",
       "Canada                       6.136072\n",
       "Name: CountryLive, dtype: float64"
      ]
     },
     "execution_count": 43,
     "metadata": {},
     "output_type": "execute_result"
    }
   ],
   "source": [
    "data['CountryLive'].value_counts(normalize = True) * 100"
   ]
  },
  {
   "cell_type": "code",
   "execution_count": 45,
   "metadata": {
    "collapsed": false
   },
   "outputs": [
    {
     "data": {
      "text/plain": [
       "United States of America    2920\n",
       "India                        457\n",
       "United Kingdom               279\n",
       "Canada                       239\n",
       "Name: CountryLive, dtype: int64"
      ]
     },
     "execution_count": 45,
     "metadata": {},
     "output_type": "execute_result"
    }
   ],
   "source": [
    "data['CountryLive'].value_counts()"
   ]
  },
  {
   "cell_type": "markdown",
   "metadata": {},
   "source": [
    "## Choosing the Two Best Markets.\n",
    "\n",
    "The data suggest that two best markets are the US and India considering our subscription is 59 USD per months. For that reason, the UK is not the best place because, they don't spend enough on e-learning in a month to meet that. \n",
    "\n",
    "First place to advertise is ovbiously the US considering its size and how much they spend on learning code on average. \n",
    "\n",
    "Cananda on average spend more than India, but there are more people from India than Canada. So this is not clear that which country is better to invest on. My "
   ]
  }
 ],
 "metadata": {
  "kernelspec": {
   "display_name": "Python 3",
   "language": "python",
   "name": "python3"
  },
  "language_info": {
   "codemirror_mode": {
    "name": "ipython",
    "version": 3
   },
   "file_extension": ".py",
   "mimetype": "text/x-python",
   "name": "python",
   "nbconvert_exporter": "python",
   "pygments_lexer": "ipython3",
   "version": "3.4.3"
  }
 },
 "nbformat": 4,
 "nbformat_minor": 2
}
