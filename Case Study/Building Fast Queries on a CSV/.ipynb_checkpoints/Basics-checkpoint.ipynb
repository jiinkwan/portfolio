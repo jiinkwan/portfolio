{
 "cells": [
  {
   "cell_type": "markdown",
   "metadata": {},
   "source": [
    "# Building Fast Queries on a CSV"
   ]
  },
  {
   "cell_type": "markdown",
   "metadata": {},
   "source": [
    "## The Dataset\n",
    "\n",
    "Here is a brief description of the rows:\n",
    "\n",
    "- ID: A unique identifier for the laptop.\n",
    "- Company: The name of the company that produces the laptop.\n",
    "- Product: The name of the laptop.\n",
    "- TypeName: The type of laptop.\n",
    "- Inches: The size of the screen in inches.\n",
    "- ScreenResolution: The resolution of the screen.\n",
    "- CPU: The laptop CPU.\n",
    "- RAM: The amount of RAM in the laptop.\n",
    "- Memory: The size of the hard drive.\n",
    "- GPU: The graphics card name.\n",
    "- OpSys: The name of the operating system.\n",
    "- Weight: The laptop weight.\n",
    "- Price: The price of the laptop."
   ]
  },
  {
   "cell_type": "code",
   "execution_count": 1,
   "metadata": {
    "collapsed": true
   },
   "outputs": [],
   "source": [
    "import csv"
   ]
  },
  {
   "cell_type": "code",
   "execution_count": 2,
   "metadata": {
    "collapsed": false
   },
   "outputs": [
    {
     "name": "stdout",
     "output_type": "stream",
     "text": [
      "['Id', 'Company', 'Product', 'TypeName', 'Inches', 'ScreenResolution', 'Cpu', 'Ram', 'Memory', 'Gpu', 'OpSys', 'Weight', 'Price']\n",
      "[['6571244', 'Apple', 'MacBook Pro', 'Ultrabook', '13.3', 'IPS Panel Retina Display 2560x1600', 'Intel Core i5 2.3GHz', '8GB', '128GB SSD', 'Intel Iris Plus Graphics 640', 'macOS', '1.37kg', '1339'], ['7287764', 'Apple', 'Macbook Air', 'Ultrabook', '13.3', '1440x900', 'Intel Core i5 1.8GHz', '8GB', '128GB Flash Storage', 'Intel HD Graphics 6000', 'macOS', '1.34kg', '898'], ['3362737', 'HP', '250 G6', 'Notebook', '15.6', 'Full HD 1920x1080', 'Intel Core i5 7200U 2.5GHz', '8GB', '256GB SSD', 'Intel HD Graphics 620', 'No OS', '1.86kg', '575'], ['9722156', 'Apple', 'MacBook Pro', 'Ultrabook', '15.4', 'IPS Panel Retina Display 2880x1800', 'Intel Core i7 2.7GHz', '16GB', '512GB SSD', 'AMD Radeon Pro 455', 'macOS', '1.83kg', '2537'], ['8550527', 'Apple', 'MacBook Pro', 'Ultrabook', '13.3', 'IPS Panel Retina Display 2560x1600', 'Intel Core i5 3.1GHz', '8GB', '256GB SSD', 'Intel Iris Plus Graphics 650', 'macOS', '1.37kg', '1803']]\n"
     ]
    }
   ],
   "source": [
    "with open('./laptops.csv', encoding = 'UTF-8') as my_file:\n",
    "    csv_file = csv.reader(my_file)\n",
    "    laptops = list(csv_file)\n",
    "    header = laptops[0]\n",
    "    rows = laptops[1:]\n",
    "    print(header)\n",
    "    print(rows[:5])"
   ]
  },
  {
   "cell_type": "markdown",
   "metadata": {},
   "source": [
    "## Inventory Class"
   ]
  },
  {
   "cell_type": "code",
   "execution_count": 3,
   "metadata": {
    "collapsed": true
   },
   "outputs": [],
   "source": [
    "class Inventory:\n",
    "    def __init__(self, csv_filename):\n",
    "        with open(csv_filename) as my_file:\n",
    "            csv_file = csv.reader(my_file)\n",
    "            laptops = list(csv_file)\n",
    "            self.header = laptops[0]\n",
    "            self.rows = laptops[1:]\n",
    "        for i in range(len(self.rows)):\n",
    "            self.rows[i][-1] = int(self.rows[i][-1])"
   ]
  },
  {
   "cell_type": "code",
   "execution_count": 4,
   "metadata": {
    "collapsed": false
   },
   "outputs": [],
   "source": [
    "inventory = Inventory('./laptops.csv')"
   ]
  },
  {
   "cell_type": "code",
   "execution_count": 5,
   "metadata": {
    "collapsed": false
   },
   "outputs": [
    {
     "data": {
      "text/plain": [
       "['Id',\n",
       " 'Company',\n",
       " 'Product',\n",
       " 'TypeName',\n",
       " 'Inches',\n",
       " 'ScreenResolution',\n",
       " 'Cpu',\n",
       " 'Ram',\n",
       " 'Memory',\n",
       " 'Gpu',\n",
       " 'OpSys',\n",
       " 'Weight',\n",
       " 'Price']"
      ]
     },
     "execution_count": 5,
     "metadata": {},
     "output_type": "execute_result"
    }
   ],
   "source": [
    "inventory.header"
   ]
  },
  {
   "cell_type": "code",
   "execution_count": 6,
   "metadata": {
    "collapsed": false
   },
   "outputs": [
    {
     "data": {
      "text/plain": [
       "1303"
      ]
     },
     "execution_count": 6,
     "metadata": {},
     "output_type": "execute_result"
    }
   ],
   "source": [
    "len(inventory.rows)"
   ]
  },
  {
   "cell_type": "markdown",
   "metadata": {},
   "source": [
    "## Finding a Laptop From the Id"
   ]
  },
  {
   "cell_type": "code",
   "execution_count": 7,
   "metadata": {
    "collapsed": true
   },
   "outputs": [],
   "source": [
    "class Inventory:\n",
    "    def __init__(self, csv_filename):\n",
    "        with open(csv_filename) as my_file:\n",
    "            csv_file = csv.reader(my_file)\n",
    "            laptops = list(csv_file)\n",
    "            self.header = laptops[0]\n",
    "            self.rows = laptops[1:]\n",
    "        for i in range(len(self.rows)):\n",
    "            self.rows[i][-1] = int(self.rows[i][-1])"
   ]
  },
  {
   "cell_type": "code",
   "execution_count": 8,
   "metadata": {
    "collapsed": false
   },
   "outputs": [],
   "source": [
    "class Inventory:\n",
    "    def __init__(self, csv_filename):\n",
    "        with open(csv_filename) as my_file:\n",
    "            csv_file = csv.reader(my_file)\n",
    "            laptops = list(csv_file)\n",
    "            self.header = laptops[0]\n",
    "            self.rows = laptops[1:]\n",
    "        for i in range(len(self.rows)):\n",
    "            self.rows[i][-1] = int(self.rows[i][-1])\n",
    "    def get_laptop_from_id(self, laptop_id):\n",
    "        laptop_found = None\n",
    "        for row in rows:\n",
    "            if row[0] == laptop_id:\n",
    "                laptop_found = row\n",
    "        if laptop_found is None:\n",
    "            print('Laptop does not exist')\n",
    "        else:\n",
    "            print(laptop_found)\n",
    "                "
   ]
  },
  {
   "cell_type": "code",
   "execution_count": 9,
   "metadata": {
    "collapsed": true
   },
   "outputs": [],
   "source": [
    "inventory = Inventory('./laptops.csv')"
   ]
  },
  {
   "cell_type": "code",
   "execution_count": 10,
   "metadata": {
    "collapsed": false
   },
   "outputs": [
    {
     "name": "stdout",
     "output_type": "stream",
     "text": [
      "Laptop does not exist\n"
     ]
    }
   ],
   "source": [
    "inventory.get_laptop_from_id('3362736')"
   ]
  },
  {
   "cell_type": "markdown",
   "metadata": {},
   "source": [
    "## Improving Id Lookups"
   ]
  },
  {
   "cell_type": "code",
   "execution_count": 11,
   "metadata": {
    "collapsed": true
   },
   "outputs": [],
   "source": [
    "class Inventory:\n",
    "    def __init__(self, csv_filename):\n",
    "        with open(csv_filename) as my_file:\n",
    "            csv_file = csv.reader(my_file)\n",
    "            laptops = list(csv_file)\n",
    "            self.header = laptops[0]\n",
    "            self.rows = laptops[1:]\n",
    "            \n",
    "        for i in range(len(self.rows)):\n",
    "            self.rows[i][-1] = int(self.rows[i][-1])\n",
    "        self.id_to_row = {}\n",
    "        for row in rows:\n",
    "            self.id_to_row[row[0]] = row[1:]\n",
    "    def get_laptop_from_id(self, laptop_id):\n",
    "        laptop_found = None\n",
    "        for row in rows:\n",
    "            if row[0] == laptop_id:\n",
    "                laptop_found = row\n",
    "        if laptop_found is None:\n",
    "            return None\n",
    "        else:\n",
    "            return laptop_found\n",
    "        \n",
    "    def get_laptop_from_id_fast(self, laptop_id):\n",
    "        if laptop_id in self.id_to_row:\n",
    "            return self.id_to_row[laptop_id]\n",
    "        else:\n",
    "            return None\n",
    "        \n",
    "        "
   ]
  },
  {
   "cell_type": "code",
   "execution_count": 12,
   "metadata": {
    "collapsed": true
   },
   "outputs": [],
   "source": [
    "inventory = Inventory('./laptops.csv')"
   ]
  },
  {
   "cell_type": "code",
   "execution_count": 13,
   "metadata": {
    "collapsed": false
   },
   "outputs": [
    {
     "data": {
      "text/plain": [
       "['3362737',\n",
       " 'HP',\n",
       " '250 G6',\n",
       " 'Notebook',\n",
       " '15.6',\n",
       " 'Full HD 1920x1080',\n",
       " 'Intel Core i5 7200U 2.5GHz',\n",
       " '8GB',\n",
       " '256GB SSD',\n",
       " 'Intel HD Graphics 620',\n",
       " 'No OS',\n",
       " '1.86kg',\n",
       " '575']"
      ]
     },
     "execution_count": 13,
     "metadata": {},
     "output_type": "execute_result"
    }
   ],
   "source": [
    "inventory.get_laptop_from_id('3362737')"
   ]
  },
  {
   "cell_type": "code",
   "execution_count": 14,
   "metadata": {
    "collapsed": true
   },
   "outputs": [],
   "source": [
    "inventory.get_laptop_from_id('3362736')"
   ]
  },
  {
   "cell_type": "markdown",
   "metadata": {
    "collapsed": true
   },
   "source": [
    "## Comparing the Performance"
   ]
  },
  {
   "cell_type": "code",
   "execution_count": 15,
   "metadata": {
    "collapsed": false
   },
   "outputs": [],
   "source": [
    "import time\n",
    "import random\n",
    "ids = [str(random.randint(1000000, 9999999)) for i in range(10000)]"
   ]
  },
  {
   "cell_type": "code",
   "execution_count": 16,
   "metadata": {
    "collapsed": false
   },
   "outputs": [],
   "source": [
    "inventory = Inventory('./laptops.csv')"
   ]
  },
  {
   "cell_type": "code",
   "execution_count": 17,
   "metadata": {
    "collapsed": false
   },
   "outputs": [
    {
     "name": "stdout",
     "output_type": "stream",
     "text": [
      "1.6862046718597412\n"
     ]
    }
   ],
   "source": [
    "total_time_no_dict = 0\n",
    "for i in ids:\n",
    "    start = time.time()\n",
    "    inventory.get_laptop_from_id(i)\n",
    "    end = time.time()\n",
    "    total_time_no_dict += end - start\n",
    "\n",
    "print(total_time_no_dict)\n",
    "    "
   ]
  },
  {
   "cell_type": "code",
   "execution_count": 18,
   "metadata": {
    "collapsed": false
   },
   "outputs": [
    {
     "name": "stdout",
     "output_type": "stream",
     "text": [
      "0.0063893795013427734\n"
     ]
    }
   ],
   "source": [
    "total_time_dict = 0\n",
    "for i in ids:\n",
    "    start = time.time()\n",
    "    inventory.get_laptop_from_id_fast(i)\n",
    "    end = time.time()\n",
    "    total_time_dict += end - start\n",
    "\n",
    "print(total_time_dict)"
   ]
  },
  {
   "cell_type": "markdown",
   "metadata": {},
   "source": [
    "From the result above using dictionary is faster than going through the list. "
   ]
  },
  {
   "cell_type": "markdown",
   "metadata": {
    "collapsed": true
   },
   "source": [
    "## Two Laptop Promotion"
   ]
  },
  {
   "cell_type": "code",
   "execution_count": 22,
   "metadata": {
    "collapsed": true
   },
   "outputs": [],
   "source": [
    "class Inventory:\n",
    "    def __init__(self, csv_filename):\n",
    "        with open(csv_filename) as my_file:\n",
    "            csv_file = csv.reader(my_file)\n",
    "            laptops = list(csv_file)\n",
    "            self.header = laptops[0]\n",
    "            self.rows = laptops[1:]\n",
    "            \n",
    "        for i in range(len(self.rows)):\n",
    "            self.rows[i][-1] = int(self.rows[i][-1])\n",
    "        self.id_to_row = {}\n",
    "        for row in rows:\n",
    "            self.id_to_row[row[0]] = row[1:]\n",
    "    def get_laptop_from_id(self, laptop_id):\n",
    "        laptop_found = None\n",
    "        for row in rows:\n",
    "            if row[0] == laptop_id:\n",
    "                laptop_found = row\n",
    "        if laptop_found is None:\n",
    "            return None\n",
    "        else:\n",
    "            return laptop_found\n",
    "        \n",
    "    def get_laptop_from_id_fast(self, laptop_id):\n",
    "        if laptop_id in self.id_to_row:\n",
    "            return self.id_to_row[laptop_id]\n",
    "        else:\n",
    "            return None\n",
    "        \n",
    "    def check_promotion_dollars(self,dollars):\n",
    "        for row in self.rows:\n",
    "            if dollars == row[-1]:\n",
    "                return True\n",
    "        for row in self.rows:\n",
    "            price_1 = row[-1]\n",
    "            for row in self.rows:\n",
    "                price_2 = row[-1]\n",
    "                if (price_1 + price_2  ) == dollars:\n",
    "                    return True\n",
    "        return False\n",
    "            "
   ]
  },
  {
   "cell_type": "code",
   "execution_count": 23,
   "metadata": {
    "collapsed": false
   },
   "outputs": [],
   "source": [
    "inventory = Inventory('./laptops.csv')"
   ]
  },
  {
   "cell_type": "code",
   "execution_count": 24,
   "metadata": {
    "collapsed": false
   },
   "outputs": [
    {
     "data": {
      "text/plain": [
       "True"
      ]
     },
     "execution_count": 24,
     "metadata": {},
     "output_type": "execute_result"
    }
   ],
   "source": [
    "inventory.check_promotion_dollars(1000)"
   ]
  },
  {
   "cell_type": "code",
   "execution_count": 25,
   "metadata": {
    "collapsed": false
   },
   "outputs": [
    {
     "data": {
      "text/plain": [
       "False"
      ]
     },
     "execution_count": 25,
     "metadata": {},
     "output_type": "execute_result"
    }
   ],
   "source": [
    "inventory.check_promotion_dollars(442)"
   ]
  },
  {
   "cell_type": "markdown",
   "metadata": {},
   "source": [
    "## Optimizing Laptop Promotion"
   ]
  },
  {
   "cell_type": "code",
   "execution_count": 27,
   "metadata": {
    "collapsed": true
   },
   "outputs": [],
   "source": [
    "class Inventory:\n",
    "    def __init__(self, csv_filename):\n",
    "        with open(csv_filename) as my_file:\n",
    "            csv_file = csv.reader(my_file)\n",
    "            laptops = list(csv_file)\n",
    "            self.header = laptops[0]\n",
    "            self.rows = laptops[1:]\n",
    "            \n",
    "        for i in range(len(self.rows)):\n",
    "            self.rows[i][-1] = int(self.rows[i][-1])\n",
    "        self.id_to_row = {}\n",
    "        self.prices = set()\n",
    "        for row in rows:\n",
    "            self.id_to_row[row[0]] = row[1:]\n",
    "            self.prices.add(row[-1])\n",
    "            \n",
    "    def get_laptop_from_id(self, laptop_id):\n",
    "        laptop_found = None\n",
    "        for row in rows:\n",
    "            if row[0] == laptop_id:\n",
    "                laptop_found = row\n",
    "        if laptop_found is None:\n",
    "            return None\n",
    "        else:\n",
    "            return laptop_found\n",
    "        \n",
    "    def get_laptop_from_id_fast(self, laptop_id):\n",
    "        if laptop_id in self.id_to_row:\n",
    "            return self.id_to_row[laptop_id]\n",
    "        else:\n",
    "            return None\n",
    "        \n",
    "    def check_promotion_dollars(self,dollars):\n",
    "        for row in self.rows:\n",
    "            if dollars == row[-1]:\n",
    "                return True\n",
    "        for row in self.rows:\n",
    "            price_1 = row[-1]\n",
    "            for row in self.rows:\n",
    "                price_2 = row[-1]\n",
    "                if (price_1 + price_2  ) == dollars:\n",
    "                    return True\n",
    "        return False\n",
    "    \n",
    "    def check_promotion_dollars_fast(self, dollars):\n",
    "        for price in self.prices:\n",
    "            if price == dollars:\n",
    "                return True\n",
    "        for price in self.prices:\n",
    "            price_1 = price\n",
    "            for price in self.prices:\n",
    "                price_2 = price\n",
    "                if (price_1 + price_2) == dollars:\n",
    "                    return True\n",
    "        return False"
   ]
  },
  {
   "cell_type": "code",
   "execution_count": 28,
   "metadata": {
    "collapsed": true
   },
   "outputs": [],
   "source": [
    "inventory = Inventory('./laptops.csv')"
   ]
  },
  {
   "cell_type": "code",
   "execution_count": 29,
   "metadata": {
    "collapsed": false
   },
   "outputs": [
    {
     "data": {
      "text/plain": [
       "True"
      ]
     },
     "execution_count": 29,
     "metadata": {},
     "output_type": "execute_result"
    }
   ],
   "source": [
    "inventory.check_promotion_dollars(1000)"
   ]
  },
  {
   "cell_type": "code",
   "execution_count": 30,
   "metadata": {
    "collapsed": false
   },
   "outputs": [
    {
     "data": {
      "text/plain": [
       "False"
      ]
     },
     "execution_count": 30,
     "metadata": {},
     "output_type": "execute_result"
    }
   ],
   "source": [
    "inventory.check_promotion_dollars(442)"
   ]
  },
  {
   "cell_type": "markdown",
   "metadata": {},
   "source": [
    "## Comparing Promotion Function"
   ]
  },
  {
   "cell_type": "code",
   "execution_count": 34,
   "metadata": {
    "collapsed": true
   },
   "outputs": [],
   "source": [
    "prices = [str(random.randint(100, 5000)) for i in range(100)]"
   ]
  },
  {
   "cell_type": "code",
   "execution_count": 35,
   "metadata": {
    "collapsed": false
   },
   "outputs": [
    {
     "name": "stdout",
     "output_type": "stream",
     "text": [
      "29.92643642425537\n"
     ]
    }
   ],
   "source": [
    "total_time_no_set  = 0\n",
    "for price in prices:\n",
    "    start = time.time()\n",
    "    inventory.check_promotion_dollars(price)\n",
    "    end = time.time()\n",
    "    total_time_no_set += end - start\n",
    "\n",
    "print(total_time_no_set)\n",
    "    "
   ]
  },
  {
   "cell_type": "code",
   "execution_count": 38,
   "metadata": {
    "collapsed": false
   },
   "outputs": [
    {
     "name": "stdout",
     "output_type": "stream",
     "text": [
      "8.451507568359375\n"
     ]
    }
   ],
   "source": [
    "total_time_set = 0\n",
    "for price in prices:\n",
    "    start = time.time()\n",
    "    inventory.check_promotion_dollars_fast(price)\n",
    "    end = time.time()\n",
    "    total_time_set += end - start\n",
    "\n",
    "print(total_time_set)"
   ]
  },
  {
   "cell_type": "markdown",
   "metadata": {},
   "source": [
    "Again, using set increase the speed by almost 4 times. "
   ]
  },
  {
   "cell_type": "markdown",
   "metadata": {},
   "source": [
    "## Finding Laptops Within a Budget"
   ]
  },
  {
   "cell_type": "code",
   "execution_count": 81,
   "metadata": {
    "collapsed": true
   },
   "outputs": [],
   "source": [
    "class Inventory:\n",
    "    def __init__(self, csv_filename):\n",
    "        with open(csv_filename) as my_file:\n",
    "            csv_file = csv.reader(my_file)\n",
    "            laptops = list(csv_file)\n",
    "            self.header = laptops[0]\n",
    "            self.rows = laptops[1:]\n",
    "            \n",
    "        for i in range(len(self.rows)):\n",
    "            self.rows[i][-1] = int(self.rows[i][-1])\n",
    "        \n",
    "        self.id_to_row = {}\n",
    "        self.prices = set()\n",
    "        self.rows_by_price = sorted(rows, key = lambda x: x[-1])\n",
    "\n",
    "        for i in range(len(self.rows_by_price)):\n",
    "            self.rows_by_price[i][-1] = int(self.rows_by_price[i][-1])\n",
    "            \n",
    "        for row in rows:\n",
    "            self.id_to_row[row[0]] = row[1:]\n",
    "            self.prices.add(row[-1])\n",
    "        \n",
    "        \n",
    "        \n",
    "        \n",
    "    def get_laptop_from_id(self, laptcop_id):\n",
    "        laptop_found = None\n",
    "        for row in rows:\n",
    "            if row[0] == laptop_id:\n",
    "                laptop_found = row\n",
    "        if laptop_found is yNone:\n",
    "            return None\n",
    "        else:\n",
    "            return laptop_found\n",
    "        \n",
    "    def get_laptop_from_id_fast(self, laptop_id):\n",
    "        if laptop_id in self.id_to_row:\n",
    "            return self.id_to_row[laptop_id]\n",
    "        else:\n",
    "            return None\n",
    "        \n",
    "    def check_promotion_dollars(self,dollars):\n",
    "        for row in self.rows:\n",
    "            if dollars == row[-1]:\n",
    "                return True\n",
    "        for row in self.rows:\n",
    "            price_1 = row[-1]\n",
    "            for row in self.rows:\n",
    "                price_2 = row[-1]\n",
    "                if (price_1 + price_2  ) == dollars:\n",
    "                    return True\n",
    "        return False\n",
    "    \n",
    "    def check_promotion_dollars_fast(self, dollars):\n",
    "        for price in self.prices:\n",
    "            if price == dollars:\n",
    "                return True\n",
    "        for price in self.prices:\n",
    "            price_1 = price\n",
    "            for price in self.prices:\n",
    "                price_2 = price\n",
    "                if (price_1 + price_2) == dollars:\n",
    "                    return True\n",
    "        return False\n",
    "    \n",
    "    def find_first_laptop_more_expensive(self, target_price): \n",
    "        range_start = 0                                   \n",
    "        range_end = len(self.rows_by_price) - 1                   \n",
    "        while range_start < range_end:\n",
    "            range_middle = (range_end + range_start) // 2  \n",
    "            price = self.rows_by_price[range_middle][-1]\n",
    "            if price > target_price:\n",
    "                range_end = range_middle\n",
    "            else:\n",
    "                range_start = range_middle + 1\n",
    "        if self.rows_by_price[range_start][-1] <= target_price:                  \n",
    "            return -1                                   \n",
    "        return range_start"
   ]
  },
  {
   "cell_type": "code",
   "execution_count": 82,
   "metadata": {
    "collapsed": true
   },
   "outputs": [],
   "source": [
    "inventory = Inventory('./laptops.csv')"
   ]
  },
  {
   "cell_type": "code",
   "execution_count": 83,
   "metadata": {
    "collapsed": false
   },
   "outputs": [
    {
     "data": {
      "text/plain": [
       "683"
      ]
     },
     "execution_count": 83,
     "metadata": {},
     "output_type": "execute_result"
    }
   ],
   "source": [
    "inventory.find_first_laptop_more_expensive(1000)"
   ]
  },
  {
   "cell_type": "code",
   "execution_count": 79,
   "metadata": {
    "collapsed": false
   },
   "outputs": [
    {
     "data": {
      "text/plain": [
       "1303"
      ]
     },
     "execution_count": 79,
     "metadata": {},
     "output_type": "execute_result"
    }
   ],
   "source": [
    "len(rows)"
   ]
  },
  {
   "cell_type": "code",
   "execution_count": null,
   "metadata": {
    "collapsed": true
   },
   "outputs": [],
   "source": [
    "i"
   ]
  }
 ],
 "metadata": {
  "kernelspec": {
   "display_name": "Python 3",
   "language": "python",
   "name": "python3"
  },
  "language_info": {
   "codemirror_mode": {
    "name": "ipython",
    "version": 3
   },
   "file_extension": ".py",
   "mimetype": "text/x-python",
   "name": "python",
   "nbconvert_exporter": "python",
   "pygments_lexer": "ipython3",
   "version": "3.4.3"
  }
 },
 "nbformat": 4,
 "nbformat_minor": 2
}
